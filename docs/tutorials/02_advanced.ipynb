{
    "cells": [
        {
            "cell_type": "markdown",
            "metadata": {},
            "source": [
                "# Doing multiple things at once and time deltas"
            ]
        },
        {
            "cell_type": "markdown",
            "metadata": {},
            "source": [
                "In the first tutorial, we applied 1 aggregation function with 1 lookperiod to 1 value at a time. In reality, you'd likely want to create features for the same value at multiple lookbehind intervals and with multiple aggregation functions. Additionally, some common features, such as the current age, require slightly different handling than what we've covered so far.\n",
                "\n",
                "Luckily, `timeseriesflattener` makes all of this extremely simple. \n",
                "\n",
                "This tutorial covers:\n",
                "\n",
                "- **Multiple aggregations, lookdistances, and features at once.**\n",
                "- **Creating features based on a timedelta.**\n"
            ]
        },
        {
            "cell_type": "markdown",
            "metadata": {},
            "source": [
                "### Multiple aggregation functions and lookperiods\n",
                "\n",
                "To apply multiple aggregation functions across all combinations of lookperiods, you just have to supply more aggregators and lookperiods to the list! Let's see an example. We start off by loading the prediction times and a dataframe containing the values we wish to aggregate.\n",
                "\n",
                "**Note**: The interface for creating multiple featuers at once works in exactly the same way for `StaticSpec` as for `PredictorSpec`. We will use `PredictorSpec` for illustration."
            ]
        },
        {
            "cell_type": "code",
            "execution_count": 1,
            "metadata": {},
            "outputs": [],
            "source": [
                "# Load the prediction times\n",
                "from __future__ import annotations\n",
                "\n",
                "from timeseriesflattener.testing.load_synth_data import load_synth_prediction_times\n",
                "\n",
                "df_prediction_times = load_synth_prediction_times()"
            ]
        },
        {
            "cell_type": "code",
            "execution_count": 2,
            "metadata": {},
            "outputs": [
                {
                    "data": {
                        "text/html": [
                            "<div><style>\n",
                            ".dataframe > thead > tr,\n",
                            ".dataframe > tbody > tr {\n",
                            "  text-align: right;\n",
                            "  white-space: pre-wrap;\n",
                            "}\n",
                            "</style>\n",
                            "<small>shape: (5, 3)</small><table border=\"1\" class=\"dataframe\"><thead><tr><th>entity_id</th><th>timestamp</th><th>value</th></tr><tr><td>i64</td><td>datetime[μs]</td><td>f64</td></tr></thead><tbody><tr><td>9476</td><td>1969-03-05 08:08:00</td><td>0.816995</td></tr><tr><td>4631</td><td>1967-04-10 22:48:00</td><td>4.818074</td></tr><tr><td>3890</td><td>1969-12-15 14:07:00</td><td>2.503789</td></tr><tr><td>1098</td><td>1965-11-19 03:53:00</td><td>3.515041</td></tr><tr><td>1626</td><td>1966-05-03 14:07:00</td><td>4.353115</td></tr></tbody></table></div>"
                        ],
                        "text/plain": [
                            "shape: (5, 3)\n",
                            "┌───────────┬─────────────────────┬──────────┐\n",
                            "│ entity_id ┆ timestamp           ┆ value    │\n",
                            "│ ---       ┆ ---                 ┆ ---      │\n",
                            "│ i64       ┆ datetime[μs]        ┆ f64      │\n",
                            "╞═══════════╪═════════════════════╪══════════╡\n",
                            "│ 9476      ┆ 1969-03-05 08:08:00 ┆ 0.816995 │\n",
                            "│ 4631      ┆ 1967-04-10 22:48:00 ┆ 4.818074 │\n",
                            "│ 3890      ┆ 1969-12-15 14:07:00 ┆ 2.503789 │\n",
                            "│ 1098      ┆ 1965-11-19 03:53:00 ┆ 3.515041 │\n",
                            "│ 1626      ┆ 1966-05-03 14:07:00 ┆ 4.353115 │\n",
                            "└───────────┴─────────────────────┴──────────┘"
                        ]
                    },
                    "execution_count": 2,
                    "metadata": {},
                    "output_type": "execute_result"
                }
            ],
            "source": [
                "# load values for a temporal predictor\n",
                "from timeseriesflattener.testing.load_synth_data import load_synth_predictor_float\n",
                "\n",
                "df_synth_predictors = load_synth_predictor_float()\n",
                "df_synth_predictors.head()"
            ]
        },
        {
            "cell_type": "markdown",
            "metadata": {},
            "source": [
                "Note that `df_synth_predictors` is not sorted by `entity_id`, but there are multiple values per id.\n",
                "\n",
                "Time to make a spec."
            ]
        },
        {
            "cell_type": "code",
            "execution_count": 3,
            "metadata": {},
            "outputs": [],
            "source": [
                "import datetime as dt\n",
                "\n",
                "import numpy as np\n",
                "from timeseriesflattener import PredictorSpec, ValueFrame\n",
                "from timeseriesflattener.aggregators import LatestAggregator, MeanAggregator\n",
                "\n",
                "\n",
                "# helper function to create tuples of timedelta interval\n",
                "def make_timedelta_interval(start_days: int, end_days: int) -> tuple[dt.timedelta, dt.timedelta]:\n",
                "    return (dt.timedelta(days=start_days), dt.timedelta(days=end_days))\n",
                "\n",
                "\n",
                "predictor_spec = PredictorSpec(\n",
                "    value_frame=ValueFrame(\n",
                "        init_df=df_synth_predictors,\n",
                "        entity_id_col_name=\"entity_id\",\n",
                "        value_timestamp_col_name=\"timestamp\",\n",
                "    ),\n",
                "    aggregators=[MeanAggregator(), LatestAggregator(timestamp_col_name=\"timestamp\")],\n",
                "    lookbehind_distances=[\n",
                "        make_timedelta_interval(0, 30),\n",
                "        make_timedelta_interval(30, 365),\n",
                "        make_timedelta_interval(365, 730),\n",
                "    ],\n",
                "    fallback=np.nan,\n",
                ")"
            ]
        },
        {
            "cell_type": "markdown",
            "metadata": {},
            "source": [
                "Let's break it down. We supply two aggregators, `MeanAggregator` and `LatestAggregator` which will be applied across all lookbehind distances, which we specified as 3 intervals: 0-30 days, 30-365 days, and 365-730 days. We therefore expected to make `n_aggregators * n_lookbehind_distances = 2 * 3 = 6` features from this single column. Let's flatten the data and see!"
            ]
        },
        {
            "cell_type": "code",
            "execution_count": 4,
            "metadata": {},
            "outputs": [
                {
                    "data": {
                        "application/vnd.jupyter.widget-view+json": {
                            "model_id": "f70f38cf62c646d09565032772c90f45",
                            "version_major": 2,
                            "version_minor": 0
                        },
                        "text/plain": [
                            "Output()"
                        ]
                    },
                    "metadata": {},
                    "output_type": "display_data"
                },
                {
                    "data": {
                        "text/html": [
                            "<pre style=\"white-space:pre;overflow-x:auto;line-height:normal;font-family:Menlo,'DejaVu Sans Mono',consolas,'Courier New',monospace\">Processing spec: ['value']\n",
                            "</pre>\n"
                        ],
                        "text/plain": [
                            "Processing spec: ['value']\n"
                        ]
                    },
                    "metadata": {},
                    "output_type": "display_data"
                },
                {
                    "data": {
                        "text/html": [
                            "<pre style=\"white-space:pre;overflow-x:auto;line-height:normal;font-family:Menlo,'DejaVu Sans Mono',consolas,'Courier New',monospace\"></pre>\n"
                        ],
                        "text/plain": []
                    },
                    "metadata": {},
                    "output_type": "display_data"
                },
                {
                    "data": {
                        "text/html": [
                            "<pre style=\"white-space:pre;overflow-x:auto;line-height:normal;font-family:Menlo,'DejaVu Sans Mono',consolas,'Courier New',monospace\">\n",
                            "</pre>\n"
                        ],
                        "text/plain": [
                            "\n"
                        ]
                    },
                    "metadata": {},
                    "output_type": "display_data"
                }
            ],
            "source": [
                "from timeseriesflattener import Flattener, PredictionTimeFrame\n",
                "\n",
                "flattener = Flattener(\n",
                "    predictiontime_frame=PredictionTimeFrame(\n",
                "        init_df=df_prediction_times, entity_id_col_name=\"entity_id\", timestamp_col_name=\"timestamp\"\n",
                "    )\n",
                ")\n",
                "\n",
                "df = flattener.aggregate_timeseries(specs=[predictor_spec]).df.collect()"
            ]
        },
        {
            "cell_type": "code",
            "execution_count": 5,
            "metadata": {},
            "outputs": [
                {
                    "data": {
                        "text/html": [
                            "<div><style>\n",
                            ".dataframe > thead > tr,\n",
                            ".dataframe > tbody > tr {\n",
                            "  text-align: right;\n",
                            "  white-space: pre-wrap;\n",
                            "}\n",
                            "</style>\n",
                            "<small>shape: (5, 9)</small><table border=\"1\" class=\"dataframe\"><thead><tr><th>entity_id</th><th>timestamp</th><th>prediction_time_uuid</th><th>pred_value_within_0_to_30_days_mean_fallback_nan</th><th>pred_value_within_0_to_30_days_latest_fallback_nan</th><th>pred_value_within_30_to_365_days_mean_fallback_nan</th><th>pred_value_within_30_to_365_days_latest_fallback_nan</th><th>pred_value_within_365_to_730_days_mean_fallback_nan</th><th>pred_value_within_365_to_730_days_latest_fallback_nan</th></tr><tr><td>i64</td><td>datetime[μs]</td><td>str</td><td>f64</td><td>f64</td><td>f64</td><td>f64</td><td>f64</td><td>f64</td></tr></thead><tbody><tr><td>9903</td><td>1968-05-09 21:24:00</td><td>&quot;9903-1968-05-0…</td><td>NaN</td><td>NaN</td><td>0.154981</td><td>NaN</td><td>1.408655</td><td>NaN</td></tr><tr><td>7465</td><td>1966-05-24 01:23:00</td><td>&quot;7465-1966-05-2…</td><td>NaN</td><td>NaN</td><td>0.819872</td><td>NaN</td><td>NaN</td><td>NaN</td></tr><tr><td>6447</td><td>1967-09-25 18:08:00</td><td>&quot;6447-1967-09-2…</td><td>NaN</td><td>NaN</td><td>5.396017</td><td>NaN</td><td>5.9562</td><td>NaN</td></tr><tr><td>2121</td><td>1966-05-05 20:52:00</td><td>&quot;2121-1966-05-0…</td><td>NaN</td><td>NaN</td><td>7.62719</td><td>NaN</td><td>NaN</td><td>NaN</td></tr><tr><td>4927</td><td>1968-06-30 12:13:00</td><td>&quot;4927-1968-06-3…</td><td>NaN</td><td>NaN</td><td>4.957251</td><td>NaN</td><td>NaN</td><td>NaN</td></tr></tbody></table></div>"
                        ],
                        "text/plain": [
                            "shape: (5, 9)\n",
                            "┌───────────┬───────────┬───────────┬───────────┬───┬───────────┬───────────┬───────────┬──────────┐\n",
                            "│ entity_id ┆ timestamp ┆ pred_time ┆ pred_valu ┆ … ┆ pred_valu ┆ pred_valu ┆ pred_valu ┆ pred_val │\n",
                            "│ ---       ┆ ---       ┆ _uuid     ┆ e_within_ ┆   ┆ e_within_ ┆ e_within_ ┆ e_within_ ┆ ue_withi │\n",
                            "│ i64       ┆ datetime[ ┆ ---       ┆ 0_to_30_d ┆   ┆ 30_to_365 ┆ 30_to_365 ┆ 365_to_73 ┆ n_365_to │\n",
                            "│           ┆ μs]       ┆ str       ┆ ays_m…    ┆   ┆ _days…    ┆ _days…    ┆ 0_day…    ┆ _730_day │\n",
                            "│           ┆           ┆           ┆ ---       ┆   ┆ ---       ┆ ---       ┆ ---       ┆ …        │\n",
                            "│           ┆           ┆           ┆ f64       ┆   ┆ f64       ┆ f64       ┆ f64       ┆ ---      │\n",
                            "│           ┆           ┆           ┆           ┆   ┆           ┆           ┆           ┆ f64      │\n",
                            "╞═══════════╪═══════════╪═══════════╪═══════════╪═══╪═══════════╪═══════════╪═══════════╪══════════╡\n",
                            "│ 9903      ┆ 1968-05-0 ┆ 9903-1968 ┆ NaN       ┆ … ┆ 0.154981  ┆ NaN       ┆ 1.408655  ┆ NaN      │\n",
                            "│           ┆ 9         ┆ -05-09    ┆           ┆   ┆           ┆           ┆           ┆          │\n",
                            "│           ┆ 21:24:00  ┆ 21:24:00. ┆           ┆   ┆           ┆           ┆           ┆          │\n",
                            "│           ┆           ┆ 000000    ┆           ┆   ┆           ┆           ┆           ┆          │\n",
                            "│ 7465      ┆ 1966-05-2 ┆ 7465-1966 ┆ NaN       ┆ … ┆ 0.819872  ┆ NaN       ┆ NaN       ┆ NaN      │\n",
                            "│           ┆ 4         ┆ -05-24    ┆           ┆   ┆           ┆           ┆           ┆          │\n",
                            "│           ┆ 01:23:00  ┆ 01:23:00. ┆           ┆   ┆           ┆           ┆           ┆          │\n",
                            "│           ┆           ┆ 000000    ┆           ┆   ┆           ┆           ┆           ┆          │\n",
                            "│ 6447      ┆ 1967-09-2 ┆ 6447-1967 ┆ NaN       ┆ … ┆ 5.396017  ┆ NaN       ┆ 5.9562    ┆ NaN      │\n",
                            "│           ┆ 5         ┆ -09-25    ┆           ┆   ┆           ┆           ┆           ┆          │\n",
                            "│           ┆ 18:08:00  ┆ 18:08:00. ┆           ┆   ┆           ┆           ┆           ┆          │\n",
                            "│           ┆           ┆ 000000    ┆           ┆   ┆           ┆           ┆           ┆          │\n",
                            "│ 2121      ┆ 1966-05-0 ┆ 2121-1966 ┆ NaN       ┆ … ┆ 7.62719   ┆ NaN       ┆ NaN       ┆ NaN      │\n",
                            "│           ┆ 5         ┆ -05-05    ┆           ┆   ┆           ┆           ┆           ┆          │\n",
                            "│           ┆ 20:52:00  ┆ 20:52:00. ┆           ┆   ┆           ┆           ┆           ┆          │\n",
                            "│           ┆           ┆ 000000    ┆           ┆   ┆           ┆           ┆           ┆          │\n",
                            "│ 4927      ┆ 1968-06-3 ┆ 4927-1968 ┆ NaN       ┆ … ┆ 4.957251  ┆ NaN       ┆ NaN       ┆ NaN      │\n",
                            "│           ┆ 0         ┆ -06-30    ┆           ┆   ┆           ┆           ┆           ┆          │\n",
                            "│           ┆ 12:13:00  ┆ 12:13:00. ┆           ┆   ┆           ┆           ┆           ┆          │\n",
                            "│           ┆           ┆ 000000    ┆           ┆   ┆           ┆           ┆           ┆          │\n",
                            "└───────────┴───────────┴───────────┴───────────┴───┴───────────┴───────────┴───────────┴──────────┘"
                        ]
                    },
                    "execution_count": 5,
                    "metadata": {},
                    "output_type": "execute_result"
                }
            ],
            "source": [
                "df.head()"
            ]
        },
        {
            "cell_type": "markdown",
            "metadata": {},
            "source": [
                "And that's what we get! "
            ]
        },
        {
            "cell_type": "markdown",
            "metadata": {},
            "source": [
                "### Multiple values from the same dataframe"
            ]
        },
        {
            "cell_type": "markdown",
            "metadata": {},
            "source": [
                "Sometimes, you might have values measured at the same time which you want to aggregate in the same manner. In `timeseriesflattener` this is handled by simply having multiple columns in the dataframe you pass to `ValueFrame`. Let's see an example."
            ]
        },
        {
            "cell_type": "code",
            "execution_count": 6,
            "metadata": {},
            "outputs": [],
            "source": [
                "import polars as pl\n",
                "\n",
                "# add a new column to df_synth_predictors to simulate a new predictor measured at the same time\n",
                "df_synth_predictors = df_synth_predictors.with_columns(\n",
                "    new_predictor=pl.Series(np.random.rand(df_synth_predictors.shape[0]))\n",
                ")"
            ]
        },
        {
            "cell_type": "code",
            "execution_count": 7,
            "metadata": {},
            "outputs": [
                {
                    "data": {
                        "text/html": [
                            "<div><style>\n",
                            ".dataframe > thead > tr,\n",
                            ".dataframe > tbody > tr {\n",
                            "  text-align: right;\n",
                            "  white-space: pre-wrap;\n",
                            "}\n",
                            "</style>\n",
                            "<small>shape: (5, 4)</small><table border=\"1\" class=\"dataframe\"><thead><tr><th>entity_id</th><th>timestamp</th><th>value</th><th>new_predictor</th></tr><tr><td>i64</td><td>datetime[μs]</td><td>f64</td><td>f64</td></tr></thead><tbody><tr><td>9476</td><td>1969-03-05 08:08:00</td><td>0.816995</td><td>0.486816</td></tr><tr><td>4631</td><td>1967-04-10 22:48:00</td><td>4.818074</td><td>0.056785</td></tr><tr><td>3890</td><td>1969-12-15 14:07:00</td><td>2.503789</td><td>0.337243</td></tr><tr><td>1098</td><td>1965-11-19 03:53:00</td><td>3.515041</td><td>0.589429</td></tr><tr><td>1626</td><td>1966-05-03 14:07:00</td><td>4.353115</td><td>0.665704</td></tr></tbody></table></div>"
                        ],
                        "text/plain": [
                            "shape: (5, 4)\n",
                            "┌───────────┬─────────────────────┬──────────┬───────────────┐\n",
                            "│ entity_id ┆ timestamp           ┆ value    ┆ new_predictor │\n",
                            "│ ---       ┆ ---                 ┆ ---      ┆ ---           │\n",
                            "│ i64       ┆ datetime[μs]        ┆ f64      ┆ f64           │\n",
                            "╞═══════════╪═════════════════════╪══════════╪═══════════════╡\n",
                            "│ 9476      ┆ 1969-03-05 08:08:00 ┆ 0.816995 ┆ 0.486816      │\n",
                            "│ 4631      ┆ 1967-04-10 22:48:00 ┆ 4.818074 ┆ 0.056785      │\n",
                            "│ 3890      ┆ 1969-12-15 14:07:00 ┆ 2.503789 ┆ 0.337243      │\n",
                            "│ 1098      ┆ 1965-11-19 03:53:00 ┆ 3.515041 ┆ 0.589429      │\n",
                            "│ 1626      ┆ 1966-05-03 14:07:00 ┆ 4.353115 ┆ 0.665704      │\n",
                            "└───────────┴─────────────────────┴──────────┴───────────────┘"
                        ]
                    },
                    "execution_count": 7,
                    "metadata": {},
                    "output_type": "execute_result"
                }
            ],
            "source": [
                "df_synth_predictors.head()"
            ]
        },
        {
            "cell_type": "markdown",
            "metadata": {},
            "source": [
                "We make a `PredictorSpec` similar to above. Let's try some new aggregators. "
            ]
        },
        {
            "cell_type": "code",
            "execution_count": 8,
            "metadata": {},
            "outputs": [],
            "source": [
                "from timeseriesflattener.aggregators import MinAggregator, SlopeAggregator\n",
                "\n",
                "# create a new predictor spec\n",
                "predictor_spec = PredictorSpec(\n",
                "    value_frame=ValueFrame(\n",
                "        init_df=df_synth_predictors,\n",
                "        entity_id_col_name=\"entity_id\",\n",
                "        value_timestamp_col_name=\"timestamp\",\n",
                "    ),\n",
                "    aggregators=[MinAggregator(), SlopeAggregator(timestamp_col_name=\"timestamp\")],\n",
                "    lookbehind_distances=[\n",
                "        make_timedelta_interval(0, 30),\n",
                "        make_timedelta_interval(30, 365),\n",
                "        make_timedelta_interval(365, 730),\n",
                "    ],\n",
                "    fallback=np.nan,\n",
                ")"
            ]
        },
        {
            "cell_type": "markdown",
            "metadata": {},
            "source": [
                "Now, all allgregators will be applied to each predictor column for each lookbehind distance. Therefore, we expect to make `n_predictors * n_aggregators * n_lookbehind_distances = 2 * 2 * 3 = 12` features with this spec. "
            ]
        },
        {
            "cell_type": "code",
            "execution_count": 9,
            "metadata": {},
            "outputs": [
                {
                    "data": {
                        "application/vnd.jupyter.widget-view+json": {
                            "model_id": "bf1f04c6bf2742d3ac7d187860bb5ab8",
                            "version_major": 2,
                            "version_minor": 0
                        },
                        "text/plain": [
                            "Output()"
                        ]
                    },
                    "metadata": {},
                    "output_type": "display_data"
                },
                {
                    "data": {
                        "text/html": [
                            "<pre style=\"white-space:pre;overflow-x:auto;line-height:normal;font-family:Menlo,'DejaVu Sans Mono',consolas,'Courier New',monospace\">Processing spec: ['value', 'new_predictor']\n",
                            "</pre>\n"
                        ],
                        "text/plain": [
                            "Processing spec: ['value', 'new_predictor']\n"
                        ]
                    },
                    "metadata": {},
                    "output_type": "display_data"
                },
                {
                    "data": {
                        "text/html": [
                            "<pre style=\"white-space:pre;overflow-x:auto;line-height:normal;font-family:Menlo,'DejaVu Sans Mono',consolas,'Courier New',monospace\"></pre>\n"
                        ],
                        "text/plain": []
                    },
                    "metadata": {},
                    "output_type": "display_data"
                },
                {
                    "data": {
                        "text/html": [
                            "<pre style=\"white-space:pre;overflow-x:auto;line-height:normal;font-family:Menlo,'DejaVu Sans Mono',consolas,'Courier New',monospace\">\n",
                            "</pre>\n"
                        ],
                        "text/plain": [
                            "\n"
                        ]
                    },
                    "metadata": {},
                    "output_type": "display_data"
                },
                {
                    "data": {
                        "text/html": [
                            "<div><style>\n",
                            ".dataframe > thead > tr,\n",
                            ".dataframe > tbody > tr {\n",
                            "  text-align: right;\n",
                            "  white-space: pre-wrap;\n",
                            "}\n",
                            "</style>\n",
                            "<small>shape: (5, 15)</small><table border=\"1\" class=\"dataframe\"><thead><tr><th>entity_id</th><th>timestamp</th><th>prediction_time_uuid</th><th>pred_value_within_0_to_30_days_min_fallback_nan</th><th>pred_new_predictor_within_0_to_30_days_min_fallback_nan</th><th>pred_value_within_0_to_30_days_slope_fallback_nan</th><th>pred_new_predictor_within_0_to_30_days_slope_fallback_nan</th><th>pred_value_within_30_to_365_days_min_fallback_nan</th><th>pred_new_predictor_within_30_to_365_days_min_fallback_nan</th><th>pred_value_within_30_to_365_days_slope_fallback_nan</th><th>pred_new_predictor_within_30_to_365_days_slope_fallback_nan</th><th>pred_value_within_365_to_730_days_min_fallback_nan</th><th>pred_new_predictor_within_365_to_730_days_min_fallback_nan</th><th>pred_value_within_365_to_730_days_slope_fallback_nan</th><th>pred_new_predictor_within_365_to_730_days_slope_fallback_nan</th></tr><tr><td>i64</td><td>datetime[μs]</td><td>str</td><td>f64</td><td>f64</td><td>f64</td><td>f64</td><td>f64</td><td>f64</td><td>f64</td><td>f64</td><td>f64</td><td>f64</td><td>f64</td><td>f64</td></tr></thead><tbody><tr><td>9903</td><td>1968-05-09 21:24:00</td><td>&quot;9903-1968-05-0…</td><td>NaN</td><td>NaN</td><td>NaN</td><td>NaN</td><td>0.154981</td><td>0.682619</td><td>NaN</td><td>NaN</td><td>0.62299</td><td>0.140609</td><td>-0.002354</td><td>0.001219</td></tr><tr><td>7465</td><td>1966-05-24 01:23:00</td><td>&quot;7465-1966-05-2…</td><td>NaN</td><td>NaN</td><td>NaN</td><td>NaN</td><td>0.819872</td><td>0.341605</td><td>NaN</td><td>NaN</td><td>NaN</td><td>NaN</td><td>NaN</td><td>NaN</td></tr><tr><td>6447</td><td>1967-09-25 18:08:00</td><td>&quot;6447-1967-09-2…</td><td>NaN</td><td>NaN</td><td>NaN</td><td>NaN</td><td>0.403485</td><td>0.067927</td><td>0.004291</td><td>-0.000041</td><td>1.308313</td><td>0.232641</td><td>0.003735</td><td>-0.00008</td></tr><tr><td>2121</td><td>1966-05-05 20:52:00</td><td>&quot;2121-1966-05-0…</td><td>NaN</td><td>NaN</td><td>NaN</td><td>NaN</td><td>7.62719</td><td>0.422683</td><td>NaN</td><td>NaN</td><td>NaN</td><td>NaN</td><td>NaN</td><td>NaN</td></tr><tr><td>4927</td><td>1968-06-30 12:13:00</td><td>&quot;4927-1968-06-3…</td><td>NaN</td><td>NaN</td><td>NaN</td><td>NaN</td><td>1.742601</td><td>0.114141</td><td>0.004035</td><td>-0.00014</td><td>NaN</td><td>NaN</td><td>NaN</td><td>NaN</td></tr></tbody></table></div>"
                        ],
                        "text/plain": [
                            "shape: (5, 15)\n",
                            "┌───────────┬───────────┬───────────┬───────────┬───┬───────────┬───────────┬───────────┬──────────┐\n",
                            "│ entity_id ┆ timestamp ┆ pred_time ┆ pred_valu ┆ … ┆ pred_valu ┆ pred_new_ ┆ pred_valu ┆ pred_new │\n",
                            "│ ---       ┆ ---       ┆ _uuid     ┆ e_within_ ┆   ┆ e_within_ ┆ predictor ┆ e_within_ ┆ _predict │\n",
                            "│ i64       ┆ datetime[ ┆ ---       ┆ 0_to_30_d ┆   ┆ 365_to_73 ┆ _within_3 ┆ 365_to_73 ┆ or_withi │\n",
                            "│           ┆ μs]       ┆ str       ┆ ays_m…    ┆   ┆ 0_day…    ┆ 65_to…    ┆ 0_day…    ┆ n_365_to │\n",
                            "│           ┆           ┆           ┆ ---       ┆   ┆ ---       ┆ ---       ┆ ---       ┆ …        │\n",
                            "│           ┆           ┆           ┆ f64       ┆   ┆ f64       ┆ f64       ┆ f64       ┆ ---      │\n",
                            "│           ┆           ┆           ┆           ┆   ┆           ┆           ┆           ┆ f64      │\n",
                            "╞═══════════╪═══════════╪═══════════╪═══════════╪═══╪═══════════╪═══════════╪═══════════╪══════════╡\n",
                            "│ 9903      ┆ 1968-05-0 ┆ 9903-1968 ┆ NaN       ┆ … ┆ 0.62299   ┆ 0.140609  ┆ -0.002354 ┆ 0.001219 │\n",
                            "│           ┆ 9         ┆ -05-09    ┆           ┆   ┆           ┆           ┆           ┆          │\n",
                            "│           ┆ 21:24:00  ┆ 21:24:00. ┆           ┆   ┆           ┆           ┆           ┆          │\n",
                            "│           ┆           ┆ 000000    ┆           ┆   ┆           ┆           ┆           ┆          │\n",
                            "│ 7465      ┆ 1966-05-2 ┆ 7465-1966 ┆ NaN       ┆ … ┆ NaN       ┆ NaN       ┆ NaN       ┆ NaN      │\n",
                            "│           ┆ 4         ┆ -05-24    ┆           ┆   ┆           ┆           ┆           ┆          │\n",
                            "│           ┆ 01:23:00  ┆ 01:23:00. ┆           ┆   ┆           ┆           ┆           ┆          │\n",
                            "│           ┆           ┆ 000000    ┆           ┆   ┆           ┆           ┆           ┆          │\n",
                            "│ 6447      ┆ 1967-09-2 ┆ 6447-1967 ┆ NaN       ┆ … ┆ 1.308313  ┆ 0.232641  ┆ 0.003735  ┆ -0.00008 │\n",
                            "│           ┆ 5         ┆ -09-25    ┆           ┆   ┆           ┆           ┆           ┆          │\n",
                            "│           ┆ 18:08:00  ┆ 18:08:00. ┆           ┆   ┆           ┆           ┆           ┆          │\n",
                            "│           ┆           ┆ 000000    ┆           ┆   ┆           ┆           ┆           ┆          │\n",
                            "│ 2121      ┆ 1966-05-0 ┆ 2121-1966 ┆ NaN       ┆ … ┆ NaN       ┆ NaN       ┆ NaN       ┆ NaN      │\n",
                            "│           ┆ 5         ┆ -05-05    ┆           ┆   ┆           ┆           ┆           ┆          │\n",
                            "│           ┆ 20:52:00  ┆ 20:52:00. ┆           ┆   ┆           ┆           ┆           ┆          │\n",
                            "│           ┆           ┆ 000000    ┆           ┆   ┆           ┆           ┆           ┆          │\n",
                            "│ 4927      ┆ 1968-06-3 ┆ 4927-1968 ┆ NaN       ┆ … ┆ NaN       ┆ NaN       ┆ NaN       ┆ NaN      │\n",
                            "│           ┆ 0         ┆ -06-30    ┆           ┆   ┆           ┆           ┆           ┆          │\n",
                            "│           ┆ 12:13:00  ┆ 12:13:00. ┆           ┆   ┆           ┆           ┆           ┆          │\n",
                            "│           ┆           ┆ 000000    ┆           ┆   ┆           ┆           ┆           ┆          │\n",
                            "└───────────┴───────────┴───────────┴───────────┴───┴───────────┴───────────┴───────────┴──────────┘"
                        ]
                    },
                    "execution_count": 9,
                    "metadata": {},
                    "output_type": "execute_result"
                }
            ],
            "source": [
                "df = flattener.aggregate_timeseries(specs=[predictor_spec]).df.collect()\n",
                "\n",
                "df.head()"
            ]
        },
        {
            "cell_type": "markdown",
            "metadata": {},
            "source": [
                " "
            ]
        },
        {
            "cell_type": "markdown",
            "metadata": {},
            "source": [
                "### TimeDelta features\n",
                "\n",
                "An example of a commonly used feature that requires slightly different handling than what we've seen so far is age. Calculating the age at the prediction time requires us to calculate a *time delta* between the prediction time and a dataframe containing birthdate timestamps. To do this, we can use the `TimeDeltaSpec`. First, we load a dataframe containing the date of birth for each entity in our dataset."
            ]
        },
        {
            "cell_type": "code",
            "execution_count": 10,
            "metadata": {},
            "outputs": [
                {
                    "data": {
                        "text/html": [
                            "<div><style>\n",
                            ".dataframe > thead > tr,\n",
                            ".dataframe > tbody > tr {\n",
                            "  text-align: right;\n",
                            "  white-space: pre-wrap;\n",
                            "}\n",
                            "</style>\n",
                            "<small>shape: (5, 2)</small><table border=\"1\" class=\"dataframe\"><thead><tr><th>entity_id</th><th>birthday</th></tr><tr><td>i64</td><td>datetime[μs]</td></tr></thead><tbody><tr><td>9045</td><td>1932-10-24 03:16:00</td></tr><tr><td>5532</td><td>1920-12-09 09:41:00</td></tr><tr><td>2242</td><td>1917-03-20 17:00:00</td></tr><tr><td>789</td><td>1930-02-15 06:51:00</td></tr><tr><td>9715</td><td>1926-08-18 08:35:00</td></tr></tbody></table></div>"
                        ],
                        "text/plain": [
                            "shape: (5, 2)\n",
                            "┌───────────┬─────────────────────┐\n",
                            "│ entity_id ┆ birthday            │\n",
                            "│ ---       ┆ ---                 │\n",
                            "│ i64       ┆ datetime[μs]        │\n",
                            "╞═══════════╪═════════════════════╡\n",
                            "│ 9045      ┆ 1932-10-24 03:16:00 │\n",
                            "│ 5532      ┆ 1920-12-09 09:41:00 │\n",
                            "│ 2242      ┆ 1917-03-20 17:00:00 │\n",
                            "│ 789       ┆ 1930-02-15 06:51:00 │\n",
                            "│ 9715      ┆ 1926-08-18 08:35:00 │\n",
                            "└───────────┴─────────────────────┘"
                        ]
                    },
                    "execution_count": 10,
                    "metadata": {},
                    "output_type": "execute_result"
                }
            ],
            "source": [
                "from timeseriesflattener.testing.load_synth_data import load_synth_birthdays\n",
                "\n",
                "df_birthdays = load_synth_birthdays()\n",
                "df_birthdays.head()"
            ]
        },
        {
            "cell_type": "markdown",
            "metadata": {},
            "source": [
                "`df_birthdays` is a dataframe containing a single value for each `entity_id` with is their date of birth. Time to make a spec."
            ]
        },
        {
            "cell_type": "code",
            "execution_count": 11,
            "metadata": {},
            "outputs": [],
            "source": [
                "from timeseriesflattener import TimeDeltaSpec, TimestampValueFrame\n",
                "\n",
                "age_spec = TimeDeltaSpec(\n",
                "    init_frame=TimestampValueFrame(\n",
                "        init_df=df_birthdays, entity_id_col_name=\"entity_id\", value_timestamp_col_name=\"birthday\"\n",
                "    ),\n",
                "    fallback=np.nan,\n",
                "    output_name=\"age\",\n",
                "    time_format=\"years\",  # can be [\"seconds\", \"minutes\", \"hours\", \"days\", \"years\"]\n",
                ")"
            ]
        },
        {
            "cell_type": "markdown",
            "metadata": {},
            "source": [
                "To make the `TimeDeltaSpec`, we define a `TimestampValueFrame` where we specify the column containing the entity id, and column containing the timestamps. Fallback is used to set the value for entities without an entry in the `TimestampValueFrame`, `output_name` determines the name of the output column, and `time_format` specifies which format the output should take. Time to make features!"
            ]
        },
        {
            "cell_type": "code",
            "execution_count": 12,
            "metadata": {},
            "outputs": [
                {
                    "data": {
                        "application/vnd.jupyter.widget-view+json": {
                            "model_id": "1b5eabd9d8c44cd8b9485e89e073c774",
                            "version_major": 2,
                            "version_minor": 0
                        },
                        "text/plain": [
                            "Output()"
                        ]
                    },
                    "metadata": {},
                    "output_type": "display_data"
                },
                {
                    "data": {
                        "text/html": [
                            "<pre style=\"white-space:pre;overflow-x:auto;line-height:normal;font-family:Menlo,'DejaVu Sans Mono',consolas,'Courier New',monospace\">Processing spec: ['age']\n",
                            "</pre>\n"
                        ],
                        "text/plain": [
                            "Processing spec: ['age']\n"
                        ]
                    },
                    "metadata": {},
                    "output_type": "display_data"
                },
                {
                    "data": {
                        "text/html": [
                            "<pre style=\"white-space:pre;overflow-x:auto;line-height:normal;font-family:Menlo,'DejaVu Sans Mono',consolas,'Courier New',monospace\"></pre>\n"
                        ],
                        "text/plain": []
                    },
                    "metadata": {},
                    "output_type": "display_data"
                },
                {
                    "data": {
                        "text/html": [
                            "<pre style=\"white-space:pre;overflow-x:auto;line-height:normal;font-family:Menlo,'DejaVu Sans Mono',consolas,'Courier New',monospace\">\n",
                            "</pre>\n"
                        ],
                        "text/plain": [
                            "\n"
                        ]
                    },
                    "metadata": {},
                    "output_type": "display_data"
                },
                {
                    "data": {
                        "text/html": [
                            "<div><style>\n",
                            ".dataframe > thead > tr,\n",
                            ".dataframe > tbody > tr {\n",
                            "  text-align: right;\n",
                            "  white-space: pre-wrap;\n",
                            "}\n",
                            "</style>\n",
                            "<small>shape: (5, 4)</small><table border=\"1\" class=\"dataframe\"><thead><tr><th>entity_id</th><th>timestamp</th><th>prediction_time_uuid</th><th>pred_age_years_fallback_nan</th></tr><tr><td>i64</td><td>datetime[μs]</td><td>str</td><td>f64</td></tr></thead><tbody><tr><td>9903</td><td>1968-05-09 21:24:00</td><td>&quot;9903-1968-05-0…</td><td>39.154004</td></tr><tr><td>7465</td><td>1966-05-24 01:23:00</td><td>&quot;7465-1966-05-2…</td><td>47.874059</td></tr><tr><td>6447</td><td>1967-09-25 18:08:00</td><td>&quot;6447-1967-09-2…</td><td>28.52293</td></tr><tr><td>2121</td><td>1966-05-05 20:52:00</td><td>&quot;2121-1966-05-0…</td><td>56.347707</td></tr><tr><td>4927</td><td>1968-06-30 12:13:00</td><td>&quot;4927-1968-06-3…</td><td>44.70089</td></tr></tbody></table></div>"
                        ],
                        "text/plain": [
                            "shape: (5, 4)\n",
                            "┌───────────┬─────────────────────┬─────────────────────────────────┬─────────────────────────────┐\n",
                            "│ entity_id ┆ timestamp           ┆ prediction_time_uuid                  ┆ pred_age_years_fallback_nan │\n",
                            "│ ---       ┆ ---                 ┆ ---                             ┆ ---                         │\n",
                            "│ i64       ┆ datetime[μs]        ┆ str                             ┆ f64                         │\n",
                            "╞═══════════╪═════════════════════╪═════════════════════════════════╪═════════════════════════════╡\n",
                            "│ 9903      ┆ 1968-05-09 21:24:00 ┆ 9903-1968-05-09 21:24:00.000000 ┆ 39.154004                   │\n",
                            "│ 7465      ┆ 1966-05-24 01:23:00 ┆ 7465-1966-05-24 01:23:00.000000 ┆ 47.874059                   │\n",
                            "│ 6447      ┆ 1967-09-25 18:08:00 ┆ 6447-1967-09-25 18:08:00.000000 ┆ 28.52293                    │\n",
                            "│ 2121      ┆ 1966-05-05 20:52:00 ┆ 2121-1966-05-05 20:52:00.000000 ┆ 56.347707                   │\n",
                            "│ 4927      ┆ 1968-06-30 12:13:00 ┆ 4927-1968-06-30 12:13:00.000000 ┆ 44.70089                    │\n",
                            "└───────────┴─────────────────────┴─────────────────────────────────┴─────────────────────────────┘"
                        ]
                    },
                    "execution_count": 12,
                    "metadata": {},
                    "output_type": "execute_result"
                }
            ],
            "source": [
                "df = flattener.aggregate_timeseries(specs=[age_spec]).df.collect()\n",
                "\n",
                "df.head()"
            ]
        },
        {
            "cell_type": "markdown",
            "metadata": {},
            "source": [
                "Let's see the values for a random entity to make sure they differ by the timestamp of the prediction time."
            ]
        },
        {
            "cell_type": "code",
            "execution_count": 13,
            "metadata": {},
            "outputs": [
                {
                    "data": {
                        "text/html": [
                            "<div><style>\n",
                            ".dataframe > thead > tr,\n",
                            ".dataframe > tbody > tr {\n",
                            "  text-align: right;\n",
                            "  white-space: pre-wrap;\n",
                            "}\n",
                            "</style>\n",
                            "<small>shape: (2, 4)</small><table border=\"1\" class=\"dataframe\"><thead><tr><th>entity_id</th><th>timestamp</th><th>prediction_time_uuid</th><th>pred_age_years_fallback_nan</th></tr><tr><td>i64</td><td>datetime[μs]</td><td>str</td><td>f64</td></tr></thead><tbody><tr><td>9903</td><td>1968-05-09 21:24:00</td><td>&quot;9903-1968-05-0…</td><td>39.154004</td></tr><tr><td>9903</td><td>1965-11-14 00:33:00</td><td>&quot;9903-1965-11-1…</td><td>36.670773</td></tr></tbody></table></div>"
                        ],
                        "text/plain": [
                            "shape: (2, 4)\n",
                            "┌───────────┬─────────────────────┬─────────────────────────────────┬─────────────────────────────┐\n",
                            "│ entity_id ┆ timestamp           ┆ prediction_time_uuid                  ┆ pred_age_years_fallback_nan │\n",
                            "│ ---       ┆ ---                 ┆ ---                             ┆ ---                         │\n",
                            "│ i64       ┆ datetime[μs]        ┆ str                             ┆ f64                         │\n",
                            "╞═══════════╪═════════════════════╪═════════════════════════════════╪═════════════════════════════╡\n",
                            "│ 9903      ┆ 1968-05-09 21:24:00 ┆ 9903-1968-05-09 21:24:00.000000 ┆ 39.154004                   │\n",
                            "│ 9903      ┆ 1965-11-14 00:33:00 ┆ 9903-1965-11-14 00:33:00.000000 ┆ 36.670773                   │\n",
                            "└───────────┴─────────────────────┴─────────────────────────────────┴─────────────────────────────┘"
                        ]
                    },
                    "execution_count": 13,
                    "metadata": {},
                    "output_type": "execute_result"
                }
            ],
            "source": [
                "import polars as pl\n",
                "\n",
                "df.filter(pl.col(\"entity_id\") == 9903)"
            ]
        },
        {
            "cell_type": "code",
            "execution_count": null,
            "metadata": {},
            "outputs": [],
            "source": []
        }
    ],
    "metadata": {
        "kernelspec": {
            "display_name": ".venv",
            "language": "python",
            "name": "python3"
        },
        "language_info": {
            "codemirror_mode": {
                "name": "ipython",
                "version": 3
            },
            "file_extension": ".py",
            "mimetype": "text/x-python",
            "name": "python",
            "nbconvert_exporter": "python",
            "pygments_lexer": "ipython3",
            "version": "3.12.2"
        }
    },
    "nbformat": 4,
    "nbformat_minor": 2
}

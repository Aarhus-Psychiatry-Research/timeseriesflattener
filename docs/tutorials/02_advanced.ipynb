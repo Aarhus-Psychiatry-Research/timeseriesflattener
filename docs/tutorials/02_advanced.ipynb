{
    "cells": [
        {
            "attachments": {},
            "cell_type": "markdown",
            "metadata": {},
            "source": [
                "# Advanced Tutorial"
            ]
        },
        {
            "attachments": {},
            "cell_type": "markdown",
            "metadata": {},
            "source": [
                "In the basic tutorial we covered how to add static features, predictors and outcomes.\n",
                "In this tutorial, we'll expand on that, covering how to effectively add many features by:\n",
                "1. Utilising data loaders in a data_loaders registry,\n",
                "2. Populating a dictionary from a long format dataframe,\n",
                "3. Creating feature combinations from specifications,\n",
                "4. Using caching, so you can iterate on your datasets without having to complete full computations every time\n"
            ]
        },
        {
            "attachments": {},
            "cell_type": "markdown",
            "metadata": {},
            "source": [
                "## Using data loaders\n",
                "Until now, we've loaded our data first and then created combinations. But what if your data lies in an SQL database, and you don't want to save it to disk?\n",
                "\n",
                "Time to introduce feature loaders. All feature spec objects (PredictorSpec, OutcomeSpec and StaticSpec) can resolve from a loader function. The only requirement of that loader function is that it should return a values dataframe, which should contain an ID column, a timestamp column and value column. This means you can have loaders that load from REDIS, SQL databases, or just from disk. Whatever you prefer.\n",
                "\n",
                "This function is then called when you initialise a feature specification.\n",
                "\n",
                "This loader is specified in the values_loader key like so:\n"
            ]
        },
        {
            "cell_type": "code",
            "execution_count": 1,
            "metadata": {},
            "outputs": [],
            "source": [
                "from skimpy import skim\n",
                "from timeseriesflattener.testing.load_synth_data import load_synth_predictor_float\n",
                "from timeseriesflattener.resolve_multiple_functions import mean\n",
                "from timeseriesflattener.feature_spec_objects import PredictorSpec\n",
                "from pprint import pprint\n",
                "import numpy as np"
            ]
        },
        {
            "cell_type": "code",
            "execution_count": 2,
            "metadata": {},
            "outputs": [
                {
                    "data": {
                        "text/html": [
                            "<div>\n",
                            "<style scoped>\n",
                            "    .dataframe tbody tr th:only-of-type {\n",
                            "        vertical-align: middle;\n",
                            "    }\n",
                            "\n",
                            "    .dataframe tbody tr th {\n",
                            "        vertical-align: top;\n",
                            "    }\n",
                            "\n",
                            "    .dataframe thead th {\n",
                            "        text-align: right;\n",
                            "    }\n",
                            "</style>\n",
                            "<table border=\"1\" class=\"dataframe\">\n",
                            "  <thead>\n",
                            "    <tr style=\"text-align: right;\">\n",
                            "      <th></th>\n",
                            "      <th>entity_id</th>\n",
                            "      <th>timestamp</th>\n",
                            "      <th>value</th>\n",
                            "    </tr>\n",
                            "  </thead>\n",
                            "  <tbody>\n",
                            "    <tr>\n",
                            "      <th>0</th>\n",
                            "      <td>9476</td>\n",
                            "      <td>1969-03-05 08:08:00</td>\n",
                            "      <td>0.816995</td>\n",
                            "    </tr>\n",
                            "    <tr>\n",
                            "      <th>1</th>\n",
                            "      <td>4631</td>\n",
                            "      <td>1967-04-10 22:48:00</td>\n",
                            "      <td>4.818074</td>\n",
                            "    </tr>\n",
                            "    <tr>\n",
                            "      <th>2</th>\n",
                            "      <td>3890</td>\n",
                            "      <td>1969-12-15 14:07:00</td>\n",
                            "      <td>2.503789</td>\n",
                            "    </tr>\n",
                            "    <tr>\n",
                            "      <th>3</th>\n",
                            "      <td>1098</td>\n",
                            "      <td>1965-11-19 03:53:00</td>\n",
                            "      <td>3.515041</td>\n",
                            "    </tr>\n",
                            "    <tr>\n",
                            "      <th>4</th>\n",
                            "      <td>1626</td>\n",
                            "      <td>1966-05-03 14:07:00</td>\n",
                            "      <td>4.353115</td>\n",
                            "    </tr>\n",
                            "    <tr>\n",
                            "      <th>...</th>\n",
                            "      <td>...</td>\n",
                            "      <td>...</td>\n",
                            "      <td>...</td>\n",
                            "    </tr>\n",
                            "    <tr>\n",
                            "      <th>99995</th>\n",
                            "      <td>4542</td>\n",
                            "      <td>1968-06-01 17:09:00</td>\n",
                            "      <td>9.616722</td>\n",
                            "    </tr>\n",
                            "    <tr>\n",
                            "      <th>99996</th>\n",
                            "      <td>4839</td>\n",
                            "      <td>1966-11-24 01:13:00</td>\n",
                            "      <td>0.235124</td>\n",
                            "    </tr>\n",
                            "    <tr>\n",
                            "      <th>99997</th>\n",
                            "      <td>8168</td>\n",
                            "      <td>1969-07-30 01:45:00</td>\n",
                            "      <td>0.929738</td>\n",
                            "    </tr>\n",
                            "    <tr>\n",
                            "      <th>99998</th>\n",
                            "      <td>9328</td>\n",
                            "      <td>1965-12-22 10:53:00</td>\n",
                            "      <td>5.124424</td>\n",
                            "    </tr>\n",
                            "    <tr>\n",
                            "      <th>99999</th>\n",
                            "      <td>6582</td>\n",
                            "      <td>1965-02-10 09:52:00</td>\n",
                            "      <td>7.414466</td>\n",
                            "    </tr>\n",
                            "  </tbody>\n",
                            "</table>\n",
                            "<p>100000 rows × 3 columns</p>\n",
                            "</div>"
                        ],
                        "text/plain": [
                            "       entity_id           timestamp     value\n",
                            "0           9476 1969-03-05 08:08:00  0.816995\n",
                            "1           4631 1967-04-10 22:48:00  4.818074\n",
                            "2           3890 1969-12-15 14:07:00  2.503789\n",
                            "3           1098 1965-11-19 03:53:00  3.515041\n",
                            "4           1626 1966-05-03 14:07:00  4.353115\n",
                            "...          ...                 ...       ...\n",
                            "99995       4542 1968-06-01 17:09:00  9.616722\n",
                            "99996       4839 1966-11-24 01:13:00  0.235124\n",
                            "99997       8168 1969-07-30 01:45:00  0.929738\n",
                            "99998       9328 1965-12-22 10:53:00  5.124424\n",
                            "99999       6582 1965-02-10 09:52:00  7.414466\n",
                            "\n",
                            "[100000 rows x 3 columns]"
                        ]
                    },
                    "execution_count": 2,
                    "metadata": {},
                    "output_type": "execute_result"
                }
            ],
            "source": [
                "pred_spec_batch = PredictorSpec(\n",
                "    values_loader=load_synth_predictor_float,\n",
                "    lookbehind_days=730,\n",
                "    fallback=np.nan,\n",
                "    resolve_multiple_fn=mean,\n",
                "    feature_name=\"predictor_name\",\n",
                ")\n",
                "\n",
                "pred_spec_batch.values_df"
            ]
        },
        {
            "attachments": {},
            "cell_type": "markdown",
            "metadata": {},
            "source": [
                "### The data loaders registry\n",
                "If you inspect the source code of load_synth_predictor_float, you'll see that it is decorated with @data_loaders.register(\"synth_predictor_float\")."
            ]
        },
        {
            "attachments": {},
            "cell_type": "markdown",
            "metadata": {},
            "source": [
                "```python\n",
                "@data_loaders.register(\"synth_predictor_float\")\n",
                "def load_synth_predictor_float(\n",
                "    n_rows: Optional[int] = None,\n",
                ") -> pd.DataFrame:\n",
                "    \"\"\"Load synth predictor data.\".\n",
                "\n",
                "    Args:\n",
                "        n_rows: Number of rows to return. Defaults to None which returns entire coercion data view.\n",
                "\n",
                "    Returns:\n",
                "        pd.DataFrame\n",
                "    \"\"\"\n",
                "    return load_raw_test_csv(\"synth_raw_float_1.csv\", n_rows=n_rows)\n",
                "```"
            ]
        },
        {
            "attachments": {},
            "cell_type": "markdown",
            "metadata": {},
            "source": [
                "This registers it in the data_loaders registry under the \"synth_predictor_float\" key."
            ]
        },
        {
            "attachments": {},
            "cell_type": "markdown",
            "metadata": {},
            "source": [
                "When you initialise a feature specification, it will look at the type of its `values_loader` attribute. If its type is a string, it will look for that string as a key in the data loaders registry. If it finds it, it'll resolve it to the value, in this case the `load_synth_predictor_float` function, and call that function.\n",
                "\n",
                "The same concept applies for the resolve multiple functions.\n",
                "This is super handy if you e.g. want to parse a config file, and therefore prefer to specify your data loaders as strings."
            ]
        },
        {
            "attachments": {},
            "cell_type": "markdown",
            "metadata": {},
            "source": [
                "## Creating feature combinations\n",
                "Manually specifying a handful of features one at a time is rather straightforward, but what if you want to generate hundreds of features? Or want to have multiple different lookbehind windows, e.g. a month, 6 months and a year? Then the amount of code you'll have to write will grow quite substantially and becomes time consuming and hard to navigate.\n",
                "\n",
                "To solve this problem, we implemented feature group specifications. They allow you to combinatorially create features. Let's look at an example:\n"
            ]
        },
        {
            "cell_type": "code",
            "execution_count": 3,
            "metadata": {},
            "outputs": [],
            "source": [
                "from timeseriesflattener.feature_spec_objects import PredictorGroupSpec\n",
                "from timeseriesflattener.resolve_multiple_functions import maximum"
            ]
        },
        {
            "cell_type": "code",
            "execution_count": 4,
            "metadata": {},
            "outputs": [],
            "source": [
                "pred_spec_batch = PredictorGroupSpec(\n",
                "    values_loader=[\"synth_predictor_float\"],\n",
                "    lookbehind_days=[365, 730],\n",
                "    fallback=[np.nan],\n",
                "    resolve_multiple_fn=[mean, maximum],\n",
                ").create_combinations()"
            ]
        },
        {
            "attachments": {},
            "cell_type": "markdown",
            "metadata": {},
            "source": [
                "You'll note that:\n",
                "\n",
                "1. All attributes are now required to be lists. This makes iteration easier when creating the combinations.\n",
                "2. We require values_loaders to be strings that can be resolved from the registry. This string is also used when creating the column names - otherwise we wouldn't know what to call the columns.\n",
                "\n",
                "Let's check that the results look good."
            ]
        },
        {
            "cell_type": "code",
            "execution_count": 5,
            "metadata": {},
            "outputs": [
                {
                    "name": "stdout",
                    "output_type": "stream",
                    "text": [
                        "––––––––– We created 4 combinations of predictors. ––––––––––\n",
                        "[{'feature_name': 'synth_predictor_float',\n",
                        "  'lookbehind_days': 365,\n",
                        "  'resolve_multiple_fn': 'mean'},\n",
                        " {'feature_name': 'synth_predictor_float',\n",
                        "  'lookbehind_days': 730,\n",
                        "  'resolve_multiple_fn': 'mean'},\n",
                        " {'feature_name': 'synth_predictor_float',\n",
                        "  'lookbehind_days': 365,\n",
                        "  'resolve_multiple_fn': 'maximum'},\n",
                        " {'feature_name': 'synth_predictor_float',\n",
                        "  'lookbehind_days': 730,\n",
                        "  'resolve_multiple_fn': 'maximum'}]\n"
                    ]
                }
            ],
            "source": [
                "# Create a small summary to highlight the generated predictors\n",
                "pred_spec_batch_summary = [\n",
                "    {\n",
                "        \"feature_name\": pred_spec.feature_name,\n",
                "        \"lookbehind_days\": pred_spec.lookbehind_days,\n",
                "        \"resolve_multiple_fn\": pred_spec.key_for_resolve_multiple,\n",
                "    }\n",
                "    for pred_spec in pred_spec_batch\n",
                "]\n",
                "print(\n",
                "    f\"––––––––– We created {len(pred_spec_batch)} combinations of predictors. ––––––––––\"\n",
                ")\n",
                "pprint(pred_spec_batch_summary)"
            ]
        },
        {
            "attachments": {},
            "cell_type": "markdown",
            "metadata": {},
            "source": [
                "Now we know how to create a bunch of feature specifications quickly! But with more features comes more computation. Let's look at caching next, so we can iterate on our datasets more quickly."
            ]
        },
        {
            "attachments": {},
            "cell_type": "markdown",
            "metadata": {},
            "source": [
                "## Caching"
            ]
        },
        {
            "attachments": {},
            "cell_type": "markdown",
            "metadata": {},
            "source": [
                "Timeseriesflattener ships with a class that allows for caching to disk. Let's look at an example of that:"
            ]
        },
        {
            "cell_type": "code",
            "execution_count": 6,
            "metadata": {},
            "outputs": [],
            "source": [
                "from skimpy import skim\n",
                "from timeseriesflattener.testing.load_synth_data import load_synth_prediction_times\n",
                "from timeseriesflattener.feature_cache.cache_to_disk import DiskCache\n",
                "from timeseriesflattener.flattened_dataset import TimeseriesFlattener\n",
                "from pathlib import Path"
            ]
        },
        {
            "cell_type": "code",
            "execution_count": 7,
            "metadata": {},
            "outputs": [],
            "source": [
                "ts_flattener = TimeseriesFlattener(\n",
                "    prediction_times_df=load_synth_prediction_times(),\n",
                "    entity_id_col_name=\"entity_id\",\n",
                "    timestamp_col_name=\"timestamp\",\n",
                "    n_workers=4,\n",
                "    cache=DiskCache(feature_cache_dir=Path(\".tmp\") / \"feature_cache\"),\n",
                "    drop_pred_times_with_insufficient_look_distance=True,\n",
                ")"
            ]
        },
        {
            "attachments": {},
            "cell_type": "markdown",
            "metadata": {},
            "source": [
                "All we need to specify is that we use the DiskCache class, and which directory to save the feature cache to.\n",
                "\n",
                "The first time we create features, this will just save them to disk and won't make any difference to performance. But say we want to add two more features - then it'll load the features that it has already computed from disk, and then only compute the two new features.\n",
                "\n",
                "Note that DiskCache is an instance of the abstract class FeatureCache. If you want to implement your own cache, for example using REDIS or SQL, all you'll need is to implement the 3 methods in that class. Now, let's compute a dataframe to check that everything works."
            ]
        },
        {
            "cell_type": "code",
            "execution_count": 8,
            "metadata": {},
            "outputs": [],
            "source": [
                "ts_flattener.add_spec(pred_spec_batch)"
            ]
        },
        {
            "cell_type": "code",
            "execution_count": 9,
            "metadata": {},
            "outputs": [
                {
                    "name": "stderr",
                    "output_type": "stream",
                    "text": [
                        "2022-12-09 11:44:44 [INFO] There were unprocessed specs, computing...\n",
                        "2022-12-09 11:44:44 [INFO] _drop_pred_time_if_insufficient_look_distance: Dropped 4038 (40.38%) rows\n",
                        "100%|██████████| 4/4 [00:01<00:00,  2.91it/s]\n",
                        "2022-12-09 11:44:46 [INFO] Starting concatenation. Will take some time on performant systems, e.g. 30s for 100 features. This is normal.\n",
                        "2022-12-09 11:44:46 [INFO] Concatenation took 0.019 seconds\n",
                        "2022-12-09 11:44:46 [INFO] Merging with original df\n"
                    ]
                }
            ],
            "source": [
                "df = ts_flattener.get_df()"
            ]
        },
        {
            "cell_type": "code",
            "execution_count": 10,
            "metadata": {},
            "outputs": [
                {
                    "data": {
                        "text/html": [
                            "<pre style=\"white-space:pre;overflow-x:auto;line-height:normal;font-family:Menlo,'DejaVu Sans Mono',consolas,'Courier New',monospace\">╭──────────────────────────────────────────────── skimpy summary ─────────────────────────────────────────────────╮\n",
                            "│ <span style=\"font-style: italic\">         Data Summary         </span> <span style=\"font-style: italic\">      Data Types       </span>                                                          │\n",
                            "│ ┏━━━━━━━━━━━━━━━━━━━┳━━━━━━━━┓ ┏━━━━━━━━━━━━━┳━━━━━━━┓                                                          │\n",
                            "│ ┃<span style=\"color: #008080; text-decoration-color: #008080; font-weight: bold\"> dataframe         </span>┃<span style=\"color: #008080; text-decoration-color: #008080; font-weight: bold\"> Values </span>┃ ┃<span style=\"color: #008080; text-decoration-color: #008080; font-weight: bold\"> Column Type </span>┃<span style=\"color: #008080; text-decoration-color: #008080; font-weight: bold\"> Count </span>┃                                                          │\n",
                            "│ ┡━━━━━━━━━━━━━━━━━━━╇━━━━━━━━┩ ┡━━━━━━━━━━━━━╇━━━━━━━┩                                                          │\n",
                            "│ │ Number of rows    │ 5962   │ │ float64     │ 4     │                                                          │\n",
                            "│ │ Number of columns │ 7      │ │ int64       │ 1     │                                                          │\n",
                            "│ └───────────────────┴────────┘ │ datetime64  │ 1     │                                                          │\n",
                            "│                                │ string      │ 1     │                                                          │\n",
                            "│                                └─────────────┴───────┘                                                          │\n",
                            "│ <span style=\"font-style: italic\">                                                    number                                                    </span>  │\n",
                            "│ ┏━━━━━━━━━━━━━━━━━━━━━━━━━━━┳━━━━━━━┳━━━━━━━━┳━━━━━━━━┳━━━━━━━┳━━━━━━━━━━━┳━━━━━━━┳━━━━━━━┳━━━━━━━━┳━━━━━━━━━┓  │\n",
                            "│ ┃<span style=\"font-weight: bold\"> column_name               </span>┃<span style=\"font-weight: bold\"> NA    </span>┃<span style=\"font-weight: bold\"> NA %   </span>┃<span style=\"font-weight: bold\"> mean   </span>┃<span style=\"font-weight: bold\"> sd    </span>┃<span style=\"font-weight: bold\"> p0        </span>┃<span style=\"font-weight: bold\"> p25   </span>┃<span style=\"font-weight: bold\"> p75   </span>┃<span style=\"font-weight: bold\"> p100   </span>┃<span style=\"font-weight: bold\"> hist    </span>┃  │\n",
                            "│ ┡━━━━━━━━━━━━━━━━━━━━━━━━━━━╇━━━━━━━╇━━━━━━━━╇━━━━━━━━╇━━━━━━━╇━━━━━━━━━━━╇━━━━━━━╇━━━━━━━╇━━━━━━━━╇━━━━━━━━━┩  │\n",
                            "│ │ <span style=\"color: #af87ff; text-decoration-color: #af87ff\">entity_id                </span> │ <span style=\"color: #008080; text-decoration-color: #008080\">    0</span> │ <span style=\"color: #008080; text-decoration-color: #008080\">     0</span> │ <span style=\"color: #008080; text-decoration-color: #008080\">  5000</span> │ <span style=\"color: #008080; text-decoration-color: #008080\"> 2900</span> │ <span style=\"color: #008080; text-decoration-color: #008080\">        0</span> │ <span style=\"color: #008080; text-decoration-color: #008080\"> 2500</span> │ <span style=\"color: #008080; text-decoration-color: #008080\"> 7400</span> │ <span style=\"color: #008080; text-decoration-color: #008080\"> 10000</span> │ <span style=\"color: #008000; text-decoration-color: #008000\">█▇███▇ </span> │  │\n",
                            "│ │ <span style=\"color: #af87ff; text-decoration-color: #af87ff\">pred_synth_predictor     </span> │ <span style=\"color: #008080; text-decoration-color: #008080\">  820</span> │ <span style=\"color: #008080; text-decoration-color: #008080\">    14</span> │ <span style=\"color: #008080; text-decoration-color: #008080\">   6.6</span> │ <span style=\"color: #008080; text-decoration-color: #008080\">  2.6</span> │ <span style=\"color: #008080; text-decoration-color: #008080\">  0.00039</span> │ <span style=\"color: #008080; text-decoration-color: #008080\">  4.8</span> │ <span style=\"color: #008080; text-decoration-color: #008080\">  8.8</span> │ <span style=\"color: #008080; text-decoration-color: #008080\">    10</span> │ <span style=\"color: #008000; text-decoration-color: #008000\">▁▂▃▄▆█ </span> │  │\n",
                            "│ │ <span style=\"color: #af87ff; text-decoration-color: #af87ff\">pred_synth_predictor     </span> │ <span style=\"color: #008080; text-decoration-color: #008080\">  820</span> │ <span style=\"color: #008080; text-decoration-color: #008080\">    14</span> │ <span style=\"color: #008080; text-decoration-color: #008080\">     5</span> │ <span style=\"color: #008080; text-decoration-color: #008080\">  2.1</span> │ <span style=\"color: #008080; text-decoration-color: #008080\">  0.00039</span> │ <span style=\"color: #008080; text-decoration-color: #008080\">  3.5</span> │ <span style=\"color: #008080; text-decoration-color: #008080\">  6.4</span> │ <span style=\"color: #008080; text-decoration-color: #008080\">    10</span> │ <span style=\"color: #008000; text-decoration-color: #008000\">▂▄██▄▂ </span> │  │\n",
                            "│ │ <span style=\"color: #af87ff; text-decoration-color: #af87ff\">pred_synth_predictor     </span> │ <span style=\"color: #008080; text-decoration-color: #008080\">  110</span> │ <span style=\"color: #008080; text-decoration-color: #008080\">   1.8</span> │ <span style=\"color: #008080; text-decoration-color: #008080\">     5</span> │ <span style=\"color: #008080; text-decoration-color: #008080\">  1.7</span> │ <span style=\"color: #008080; text-decoration-color: #008080\">    0.058</span> │ <span style=\"color: #008080; text-decoration-color: #008080\">  3.9</span> │ <span style=\"color: #008080; text-decoration-color: #008080\">  6.1</span> │ <span style=\"color: #008080; text-decoration-color: #008080\">   9.9</span> │ <span style=\"color: #008000; text-decoration-color: #008000\">▁▃██▃▁ </span> │  │\n",
                            "│ │ <span style=\"color: #af87ff; text-decoration-color: #af87ff\">pred_synth_predictor     </span> │ <span style=\"color: #008080; text-decoration-color: #008080\">  110</span> │ <span style=\"color: #008080; text-decoration-color: #008080\">   1.8</span> │ <span style=\"color: #008080; text-decoration-color: #008080\">   7.7</span> │ <span style=\"color: #008080; text-decoration-color: #008080\">  2.1</span> │ <span style=\"color: #008080; text-decoration-color: #008080\">    0.058</span> │ <span style=\"color: #008080; text-decoration-color: #008080\">  6.7</span> │ <span style=\"color: #008080; text-decoration-color: #008080\">  9.3</span> │ <span style=\"color: #008080; text-decoration-color: #008080\">    10</span> │ <span style=\"color: #008000; text-decoration-color: #008000\"> ▁▁▂▄█ </span> │  │\n",
                            "│ └───────────────────────────┴───────┴────────┴────────┴───────┴───────────┴───────┴───────┴────────┴─────────┘  │\n",
                            "│ <span style=\"font-style: italic\">                                                   datetime                                                   </span>  │\n",
                            "│ ┏━━━━━━━━━━━━━━━━━━┳━━━━━━┳━━━━━━━━━┳━━━━━━━━━━━━━━━━━━━━━━━━━━━━┳━━━━━━━━━━━━━━━━━━━━━━━━━━━━┳━━━━━━━━━━━━━━┓  │\n",
                            "│ ┃<span style=\"font-weight: bold\"> column_name      </span>┃<span style=\"font-weight: bold\"> NA   </span>┃<span style=\"font-weight: bold\"> NA %    </span>┃<span style=\"font-weight: bold\"> first                      </span>┃<span style=\"font-weight: bold\"> last                       </span>┃<span style=\"font-weight: bold\"> frequency    </span>┃  │\n",
                            "│ ┡━━━━━━━━━━━━━━━━━━╇━━━━━━╇━━━━━━━━━╇━━━━━━━━━━━━━━━━━━━━━━━━━━━━╇━━━━━━━━━━━━━━━━━━━━━━━━━━━━╇━━━━━━━━━━━━━━┩  │\n",
                            "│ │ <span style=\"color: #af87ff; text-decoration-color: #af87ff\">timestamp       </span> │ <span style=\"color: #008080; text-decoration-color: #008080\">   0</span> │ <span style=\"color: #008080; text-decoration-color: #008080\">      0</span> │ <span style=\"color: #800000; text-decoration-color: #800000\">   1967-01-02 01:16:00    </span> │ <span style=\"color: #800000; text-decoration-color: #800000\">   1969-12-31 21:42:00    </span> │ <span style=\"color: #af87ff; text-decoration-color: #af87ff\">None        </span> │  │\n",
                            "│ └──────────────────┴──────┴─────────┴────────────────────────────┴────────────────────────────┴──────────────┘  │\n",
                            "│ <span style=\"font-style: italic\">                                                    string                                                    </span>  │\n",
                            "│ ┏━━━━━━━━━━━━━━━━━━━━━━━━━━━━━━━━━━━━━━━┳━━━━━━━┳━━━━━━━━━━━┳━━━━━━━━━━━━━━━━━━━━━━━━━━┳━━━━━━━━━━━━━━━━━━━━━┓  │\n",
                            "│ ┃<span style=\"font-weight: bold\"> column_name                           </span>┃<span style=\"font-weight: bold\"> NA    </span>┃<span style=\"font-weight: bold\"> NA %      </span>┃<span style=\"font-weight: bold\"> words per row            </span>┃<span style=\"font-weight: bold\"> total words         </span>┃  │\n",
                            "│ ┡━━━━━━━━━━━━━━━━━━━━━━━━━━━━━━━━━━━━━━━╇━━━━━━━╇━━━━━━━━━━━╇━━━━━━━━━━━━━━━━━━━━━━━━━━╇━━━━━━━━━━━━━━━━━━━━━┩  │\n",
                            "│ │ <span style=\"color: #af87ff; text-decoration-color: #af87ff\">prediction_time_uuid                 </span> │ <span style=\"color: #008080; text-decoration-color: #008080\">    0</span> │ <span style=\"color: #008080; text-decoration-color: #008080\">        0</span> │ <span style=\"color: #008080; text-decoration-color: #008080\">                       1</span> │ <span style=\"color: #008080; text-decoration-color: #008080\">               6000</span> │  │\n",
                            "│ └───────────────────────────────────────┴───────┴───────────┴──────────────────────────┴─────────────────────┘  │\n",
                            "╰────────────────────────────────────────────────────── End ──────────────────────────────────────────────────────╯\n",
                            "</pre>\n"
                        ],
                        "text/plain": [
                            "╭──────────────────────────────────────────────── skimpy summary ─────────────────────────────────────────────────╮\n",
                            "│ \u001b[3m         Data Summary         \u001b[0m \u001b[3m      Data Types       \u001b[0m                                                          │\n",
                            "│ ┏━━━━━━━━━━━━━━━━━━━┳━━━━━━━━┓ ┏━━━━━━━━━━━━━┳━━━━━━━┓                                                          │\n",
                            "│ ┃\u001b[1;36m \u001b[0m\u001b[1;36mdataframe        \u001b[0m\u001b[1;36m \u001b[0m┃\u001b[1;36m \u001b[0m\u001b[1;36mValues\u001b[0m\u001b[1;36m \u001b[0m┃ ┃\u001b[1;36m \u001b[0m\u001b[1;36mColumn Type\u001b[0m\u001b[1;36m \u001b[0m┃\u001b[1;36m \u001b[0m\u001b[1;36mCount\u001b[0m\u001b[1;36m \u001b[0m┃                                                          │\n",
                            "│ ┡━━━━━━━━━━━━━━━━━━━╇━━━━━━━━┩ ┡━━━━━━━━━━━━━╇━━━━━━━┩                                                          │\n",
                            "│ │ Number of rows    │ 5962   │ │ float64     │ 4     │                                                          │\n",
                            "│ │ Number of columns │ 7      │ │ int64       │ 1     │                                                          │\n",
                            "│ └───────────────────┴────────┘ │ datetime64  │ 1     │                                                          │\n",
                            "│                                │ string      │ 1     │                                                          │\n",
                            "│                                └─────────────┴───────┘                                                          │\n",
                            "│ \u001b[3m                                                    number                                                    \u001b[0m  │\n",
                            "│ ┏━━━━━━━━━━━━━━━━━━━━━━━━━━━┳━━━━━━━┳━━━━━━━━┳━━━━━━━━┳━━━━━━━┳━━━━━━━━━━━┳━━━━━━━┳━━━━━━━┳━━━━━━━━┳━━━━━━━━━┓  │\n",
                            "│ ┃\u001b[1m \u001b[0m\u001b[1mcolumn_name              \u001b[0m\u001b[1m \u001b[0m┃\u001b[1m \u001b[0m\u001b[1mNA   \u001b[0m\u001b[1m \u001b[0m┃\u001b[1m \u001b[0m\u001b[1mNA %  \u001b[0m\u001b[1m \u001b[0m┃\u001b[1m \u001b[0m\u001b[1mmean  \u001b[0m\u001b[1m \u001b[0m┃\u001b[1m \u001b[0m\u001b[1msd   \u001b[0m\u001b[1m \u001b[0m┃\u001b[1m \u001b[0m\u001b[1mp0       \u001b[0m\u001b[1m \u001b[0m┃\u001b[1m \u001b[0m\u001b[1mp25  \u001b[0m\u001b[1m \u001b[0m┃\u001b[1m \u001b[0m\u001b[1mp75  \u001b[0m\u001b[1m \u001b[0m┃\u001b[1m \u001b[0m\u001b[1mp100  \u001b[0m\u001b[1m \u001b[0m┃\u001b[1m \u001b[0m\u001b[1mhist   \u001b[0m\u001b[1m \u001b[0m┃  │\n",
                            "│ ┡━━━━━━━━━━━━━━━━━━━━━━━━━━━╇━━━━━━━╇━━━━━━━━╇━━━━━━━━╇━━━━━━━╇━━━━━━━━━━━╇━━━━━━━╇━━━━━━━╇━━━━━━━━╇━━━━━━━━━┩  │\n",
                            "│ │ \u001b[38;5;141mentity_id                \u001b[0m │ \u001b[36m    0\u001b[0m │ \u001b[36m     0\u001b[0m │ \u001b[36m  5000\u001b[0m │ \u001b[36m 2900\u001b[0m │ \u001b[36m        0\u001b[0m │ \u001b[36m 2500\u001b[0m │ \u001b[36m 7400\u001b[0m │ \u001b[36m 10000\u001b[0m │ \u001b[32m█▇███▇ \u001b[0m │  │\n",
                            "│ │ \u001b[38;5;141mpred_synth_predictor     \u001b[0m │ \u001b[36m  820\u001b[0m │ \u001b[36m    14\u001b[0m │ \u001b[36m   6.6\u001b[0m │ \u001b[36m  2.6\u001b[0m │ \u001b[36m  0.00039\u001b[0m │ \u001b[36m  4.8\u001b[0m │ \u001b[36m  8.8\u001b[0m │ \u001b[36m    10\u001b[0m │ \u001b[32m▁▂▃▄▆█ \u001b[0m │  │\n",
                            "│ │ \u001b[38;5;141mpred_synth_predictor     \u001b[0m │ \u001b[36m  820\u001b[0m │ \u001b[36m    14\u001b[0m │ \u001b[36m     5\u001b[0m │ \u001b[36m  2.1\u001b[0m │ \u001b[36m  0.00039\u001b[0m │ \u001b[36m  3.5\u001b[0m │ \u001b[36m  6.4\u001b[0m │ \u001b[36m    10\u001b[0m │ \u001b[32m▂▄██▄▂ \u001b[0m │  │\n",
                            "│ │ \u001b[38;5;141mpred_synth_predictor     \u001b[0m │ \u001b[36m  110\u001b[0m │ \u001b[36m   1.8\u001b[0m │ \u001b[36m     5\u001b[0m │ \u001b[36m  1.7\u001b[0m │ \u001b[36m    0.058\u001b[0m │ \u001b[36m  3.9\u001b[0m │ \u001b[36m  6.1\u001b[0m │ \u001b[36m   9.9\u001b[0m │ \u001b[32m▁▃██▃▁ \u001b[0m │  │\n",
                            "│ │ \u001b[38;5;141mpred_synth_predictor     \u001b[0m │ \u001b[36m  110\u001b[0m │ \u001b[36m   1.8\u001b[0m │ \u001b[36m   7.7\u001b[0m │ \u001b[36m  2.1\u001b[0m │ \u001b[36m    0.058\u001b[0m │ \u001b[36m  6.7\u001b[0m │ \u001b[36m  9.3\u001b[0m │ \u001b[36m    10\u001b[0m │ \u001b[32m ▁▁▂▄█ \u001b[0m │  │\n",
                            "│ └───────────────────────────┴───────┴────────┴────────┴───────┴───────────┴───────┴───────┴────────┴─────────┘  │\n",
                            "│ \u001b[3m                                                   datetime                                                   \u001b[0m  │\n",
                            "│ ┏━━━━━━━━━━━━━━━━━━┳━━━━━━┳━━━━━━━━━┳━━━━━━━━━━━━━━━━━━━━━━━━━━━━┳━━━━━━━━━━━━━━━━━━━━━━━━━━━━┳━━━━━━━━━━━━━━┓  │\n",
                            "│ ┃\u001b[1m \u001b[0m\u001b[1mcolumn_name     \u001b[0m\u001b[1m \u001b[0m┃\u001b[1m \u001b[0m\u001b[1mNA  \u001b[0m\u001b[1m \u001b[0m┃\u001b[1m \u001b[0m\u001b[1mNA %   \u001b[0m\u001b[1m \u001b[0m┃\u001b[1m \u001b[0m\u001b[1mfirst                     \u001b[0m\u001b[1m \u001b[0m┃\u001b[1m \u001b[0m\u001b[1mlast                      \u001b[0m\u001b[1m \u001b[0m┃\u001b[1m \u001b[0m\u001b[1mfrequency   \u001b[0m\u001b[1m \u001b[0m┃  │\n",
                            "│ ┡━━━━━━━━━━━━━━━━━━╇━━━━━━╇━━━━━━━━━╇━━━━━━━━━━━━━━━━━━━━━━━━━━━━╇━━━━━━━━━━━━━━━━━━━━━━━━━━━━╇━━━━━━━━━━━━━━┩  │\n",
                            "│ │ \u001b[38;5;141mtimestamp       \u001b[0m │ \u001b[36m   0\u001b[0m │ \u001b[36m      0\u001b[0m │ \u001b[31m   1967-01-02 01:16:00    \u001b[0m │ \u001b[31m   1969-12-31 21:42:00    \u001b[0m │ \u001b[38;5;141mNone        \u001b[0m │  │\n",
                            "│ └──────────────────┴──────┴─────────┴────────────────────────────┴────────────────────────────┴──────────────┘  │\n",
                            "│ \u001b[3m                                                    string                                                    \u001b[0m  │\n",
                            "│ ┏━━━━━━━━━━━━━━━━━━━━━━━━━━━━━━━━━━━━━━━┳━━━━━━━┳━━━━━━━━━━━┳━━━━━━━━━━━━━━━━━━━━━━━━━━┳━━━━━━━━━━━━━━━━━━━━━┓  │\n",
                            "│ ┃\u001b[1m \u001b[0m\u001b[1mcolumn_name                          \u001b[0m\u001b[1m \u001b[0m┃\u001b[1m \u001b[0m\u001b[1mNA   \u001b[0m\u001b[1m \u001b[0m┃\u001b[1m \u001b[0m\u001b[1mNA %     \u001b[0m\u001b[1m \u001b[0m┃\u001b[1m \u001b[0m\u001b[1mwords per row           \u001b[0m\u001b[1m \u001b[0m┃\u001b[1m \u001b[0m\u001b[1mtotal words        \u001b[0m\u001b[1m \u001b[0m┃  │\n",
                            "│ ┡━━━━━━━━━━━━━━━━━━━━━━━━━━━━━━━━━━━━━━━╇━━━━━━━╇━━━━━━━━━━━╇━━━━━━━━━━━━━━━━━━━━━━━━━━╇━━━━━━━━━━━━━━━━━━━━━┩  │\n",
                            "│ │ \u001b[38;5;141mprediction_time_uuid                 \u001b[0m │ \u001b[36m    0\u001b[0m │ \u001b[36m        0\u001b[0m │ \u001b[36m                       1\u001b[0m │ \u001b[36m               6000\u001b[0m │  │\n",
                            "│ └───────────────────────────────────────┴───────┴───────────┴──────────────────────────┴─────────────────────┘  │\n",
                            "╰────────────────────────────────────────────────────── End ──────────────────────────────────────────────────────╯\n"
                        ]
                    },
                    "metadata": {},
                    "output_type": "display_data"
                },
                {
                    "data": {
                        "text/plain": [
                            "['entity_id',\n",
                            " 'timestamp',\n",
                            " 'prediction_time_uuid',\n",
                            " 'pred_synth_predictor_float_within_365_days_maximum_fallback_nan',\n",
                            " 'pred_synth_predictor_float_within_365_days_mean_fallback_nan',\n",
                            " 'pred_synth_predictor_float_within_730_days_mean_fallback_nan',\n",
                            " 'pred_synth_predictor_float_within_730_days_maximum_fallback_nan']"
                        ]
                    },
                    "execution_count": 10,
                    "metadata": {},
                    "output_type": "execute_result"
                }
            ],
            "source": [
                "skim(df)\n",
                "\n",
                "list(df.columns)"
            ]
        },
        {
            "cell_type": "code",
            "execution_count": 15,
            "metadata": {},
            "outputs": [
                {
                    "data": {
                        "text/html": [
                            "<style type=\"text/css\">\n",
                            "</style>\n",
                            "<table id=\"T_25e34\" style=\"font-size: 14px\">\n",
                            "  <thead>\n",
                            "    <tr>\n",
                            "      <th class=\"blank level0\" >&nbsp;</th>\n",
                            "      <th id=\"T_25e34_level0_col0\" class=\"col_heading level0 col0\" >entity_id</th>\n",
                            "      <th id=\"T_25e34_level0_col1\" class=\"col_heading level0 col1\" >timestamp</th>\n",
                            "      <th id=\"T_25e34_level0_col2\" class=\"col_heading level0 col2\" >prediction_time_uuid</th>\n",
                            "      <th id=\"T_25e34_level0_col3\" class=\"col_heading level0 col3\" >pred_1</th>\n",
                            "      <th id=\"T_25e34_level0_col4\" class=\"col_heading level0 col4\" >pred_2</th>\n",
                            "      <th id=\"T_25e34_level0_col5\" class=\"col_heading level0 col5\" >pred_3</th>\n",
                            "      <th id=\"T_25e34_level0_col6\" class=\"col_heading level0 col6\" >pred_4</th>\n",
                            "    </tr>\n",
                            "  </thead>\n",
                            "  <tbody>\n",
                            "    <tr>\n",
                            "      <th id=\"T_25e34_level0_row0\" class=\"row_heading level0 row0\" >0</th>\n",
                            "      <td id=\"T_25e34_row0_col0\" class=\"data row0 col0\" >9903</td>\n",
                            "      <td id=\"T_25e34_row0_col1\" class=\"data row0 col1\" >1968-05-09 21:24:00</td>\n",
                            "      <td id=\"T_25e34_row0_col2\" class=\"data row0 col2\" >9903-1968-05-09-21-24-00</td>\n",
                            "      <td id=\"T_25e34_row0_col3\" class=\"data row0 col3\" >0.154981</td>\n",
                            "      <td id=\"T_25e34_row0_col4\" class=\"data row0 col4\" >0.154981</td>\n",
                            "      <td id=\"T_25e34_row0_col5\" class=\"data row0 col5\" >0.990763</td>\n",
                            "      <td id=\"T_25e34_row0_col6\" class=\"data row0 col6\" >2.194319</td>\n",
                            "    </tr>\n",
                            "    <tr>\n",
                            "      <th id=\"T_25e34_level0_row1\" class=\"row_heading level0 row1\" >1</th>\n",
                            "      <td id=\"T_25e34_row1_col0\" class=\"data row1 col0\" >6447</td>\n",
                            "      <td id=\"T_25e34_row1_col1\" class=\"data row1 col1\" >1967-09-25 18:08:00</td>\n",
                            "      <td id=\"T_25e34_row1_col2\" class=\"data row1 col2\" >6447-1967-09-25-18-08-00</td>\n",
                            "      <td id=\"T_25e34_row1_col3\" class=\"data row1 col3\" >8.930256</td>\n",
                            "      <td id=\"T_25e34_row1_col4\" class=\"data row1 col4\" >5.396017</td>\n",
                            "      <td id=\"T_25e34_row1_col5\" class=\"data row1 col5\" >5.582745</td>\n",
                            "      <td id=\"T_25e34_row1_col6\" class=\"data row1 col6\" >9.774050</td>\n",
                            "    </tr>\n",
                            "    <tr>\n",
                            "      <th id=\"T_25e34_level0_row2\" class=\"row_heading level0 row2\" >2</th>\n",
                            "      <td id=\"T_25e34_row2_col0\" class=\"data row2 col0\" >4927</td>\n",
                            "      <td id=\"T_25e34_row2_col1\" class=\"data row2 col1\" >1968-06-30 12:13:00</td>\n",
                            "      <td id=\"T_25e34_row2_col2\" class=\"data row2 col2\" >4927-1968-06-30-12-13-00</td>\n",
                            "      <td id=\"T_25e34_row2_col3\" class=\"data row2 col3\" >6.730694</td>\n",
                            "      <td id=\"T_25e34_row2_col4\" class=\"data row2 col4\" >4.957251</td>\n",
                            "      <td id=\"T_25e34_row2_col5\" class=\"data row2 col5\" >4.957251</td>\n",
                            "      <td id=\"T_25e34_row2_col6\" class=\"data row2 col6\" >6.730694</td>\n",
                            "    </tr>\n",
                            "    <tr>\n",
                            "      <th id=\"T_25e34_level0_row3\" class=\"row_heading level0 row3\" >3</th>\n",
                            "      <td id=\"T_25e34_row3_col0\" class=\"data row3 col0\" >5475</td>\n",
                            "      <td id=\"T_25e34_row3_col1\" class=\"data row3 col1\" >1967-01-09 03:09:00</td>\n",
                            "      <td id=\"T_25e34_row3_col2\" class=\"data row3 col2\" >5475-1967-01-09-03-09-00</td>\n",
                            "      <td id=\"T_25e34_row3_col3\" class=\"data row3 col3\" >9.497229</td>\n",
                            "      <td id=\"T_25e34_row3_col4\" class=\"data row3 col4\" >6.081539</td>\n",
                            "      <td id=\"T_25e34_row3_col5\" class=\"data row3 col5\" >5.999336</td>\n",
                            "      <td id=\"T_25e34_row3_col6\" class=\"data row3 col6\" >9.497229</td>\n",
                            "    </tr>\n",
                            "    <tr>\n",
                            "      <th id=\"T_25e34_level0_row4\" class=\"row_heading level0 row4\" >4</th>\n",
                            "      <td id=\"T_25e34_row4_col0\" class=\"data row4 col0\" >3157</td>\n",
                            "      <td id=\"T_25e34_row4_col1\" class=\"data row4 col1\" >1969-10-07 05:01:00</td>\n",
                            "      <td id=\"T_25e34_row4_col2\" class=\"data row4 col2\" >3157-1969-10-07-05-01-00</td>\n",
                            "      <td id=\"T_25e34_row4_col3\" class=\"data row4 col3\" >5.243176</td>\n",
                            "      <td id=\"T_25e34_row4_col4\" class=\"data row4 col4\" >5.068323</td>\n",
                            "      <td id=\"T_25e34_row4_col5\" class=\"data row4 col5\" >5.068323</td>\n",
                            "      <td id=\"T_25e34_row4_col6\" class=\"data row4 col6\" >5.243176</td>\n",
                            "    </tr>\n",
                            "    <tr>\n",
                            "      <th id=\"T_25e34_level0_row5\" class=\"row_heading level0 row5\" >5</th>\n",
                            "      <td id=\"T_25e34_row5_col0\" class=\"data row5 col0\" >9793</td>\n",
                            "      <td id=\"T_25e34_row5_col1\" class=\"data row5 col1\" >1968-12-15 12:59:00</td>\n",
                            "      <td id=\"T_25e34_row5_col2\" class=\"data row5 col2\" >9793-1968-12-15-12-59-00</td>\n",
                            "      <td id=\"T_25e34_row5_col3\" class=\"data row5 col3\" >9.708976</td>\n",
                            "      <td id=\"T_25e34_row5_col4\" class=\"data row5 col4\" >8.091755</td>\n",
                            "      <td id=\"T_25e34_row5_col5\" class=\"data row5 col5\" >7.294038</td>\n",
                            "      <td id=\"T_25e34_row5_col6\" class=\"data row5 col6\" >9.708976</td>\n",
                            "    </tr>\n",
                            "    <tr>\n",
                            "      <th id=\"T_25e34_level0_row6\" class=\"row_heading level0 row6\" >6</th>\n",
                            "      <td id=\"T_25e34_row6_col0\" class=\"data row6 col0\" >9768</td>\n",
                            "      <td id=\"T_25e34_row6_col1\" class=\"data row6 col1\" >1967-07-04 23:09:00</td>\n",
                            "      <td id=\"T_25e34_row6_col2\" class=\"data row6 col2\" >9768-1967-07-04-23-09-00</td>\n",
                            "      <td id=\"T_25e34_row6_col3\" class=\"data row6 col3\" >5.729441</td>\n",
                            "      <td id=\"T_25e34_row6_col4\" class=\"data row6 col4\" >4.959419</td>\n",
                            "      <td id=\"T_25e34_row6_col5\" class=\"data row6 col5\" >4.326286</td>\n",
                            "      <td id=\"T_25e34_row6_col6\" class=\"data row6 col6\" >5.729441</td>\n",
                            "    </tr>\n",
                            "    <tr>\n",
                            "      <th id=\"T_25e34_level0_row7\" class=\"row_heading level0 row7\" >7</th>\n",
                            "      <td id=\"T_25e34_row7_col0\" class=\"data row7 col0\" >9861</td>\n",
                            "      <td id=\"T_25e34_row7_col1\" class=\"data row7 col1\" >1969-01-22 17:34:00</td>\n",
                            "      <td id=\"T_25e34_row7_col2\" class=\"data row7 col2\" >9861-1969-01-22-17-34-00</td>\n",
                            "      <td id=\"T_25e34_row7_col3\" class=\"data row7 col3\" >3.130283</td>\n",
                            "      <td id=\"T_25e34_row7_col4\" class=\"data row7 col4\" >3.130283</td>\n",
                            "      <td id=\"T_25e34_row7_col5\" class=\"data row7 col5\" >3.279378</td>\n",
                            "      <td id=\"T_25e34_row7_col6\" class=\"data row7 col6\" >5.491415</td>\n",
                            "    </tr>\n",
                            "    <tr>\n",
                            "      <th id=\"T_25e34_level0_row8\" class=\"row_heading level0 row8\" >8</th>\n",
                            "      <td id=\"T_25e34_row8_col0\" class=\"data row8 col0\" >657</td>\n",
                            "      <td id=\"T_25e34_row8_col1\" class=\"data row8 col1\" >1969-04-14 15:47:00</td>\n",
                            "      <td id=\"T_25e34_row8_col2\" class=\"data row8 col2\" >657-1969-04-14-15-47-00</td>\n",
                            "      <td id=\"T_25e34_row8_col3\" class=\"data row8 col3\" >nan</td>\n",
                            "      <td id=\"T_25e34_row8_col4\" class=\"data row8 col4\" >nan</td>\n",
                            "      <td id=\"T_25e34_row8_col5\" class=\"data row8 col5\" >7.903614</td>\n",
                            "      <td id=\"T_25e34_row8_col6\" class=\"data row8 col6\" >7.903614</td>\n",
                            "    </tr>\n",
                            "    <tr>\n",
                            "      <th id=\"T_25e34_level0_row9\" class=\"row_heading level0 row9\" >9</th>\n",
                            "      <td id=\"T_25e34_row9_col0\" class=\"data row9 col0\" >7916</td>\n",
                            "      <td id=\"T_25e34_row9_col1\" class=\"data row9 col1\" >1968-12-20 03:38:00</td>\n",
                            "      <td id=\"T_25e34_row9_col2\" class=\"data row9 col2\" >7916-1968-12-20-03-38-00</td>\n",
                            "      <td id=\"T_25e34_row9_col3\" class=\"data row9 col3\" >4.318586</td>\n",
                            "      <td id=\"T_25e34_row9_col4\" class=\"data row9 col4\" >3.901992</td>\n",
                            "      <td id=\"T_25e34_row9_col5\" class=\"data row9 col5\" >4.629502</td>\n",
                            "      <td id=\"T_25e34_row9_col6\" class=\"data row9 col6\" >6.084523</td>\n",
                            "    </tr>\n",
                            "  </tbody>\n",
                            "</table>\n"
                        ],
                        "text/plain": [
                            "<pandas.io.formats.style.Styler at 0x174a6a830>"
                        ]
                    },
                    "execution_count": 15,
                    "metadata": {},
                    "output_type": "execute_result"
                }
            ],
            "source": [
                "# For displayability, shorten col names\n",
                "pred_cols = [c for c in df.columns if c.startswith(\"pred_\")]\n",
                "rename_dict = {c: f\"pred_{i+1}\" for i, c in enumerate(pred_cols)}\n",
                "df_renamed = df.rename(rename_dict, axis=1)\n",
                "\n",
                "# Print a dataframe\n",
                "base_cols = [\"entity_id\", \"timestamp\", \"prediction_time_uuid\"]\n",
                "renamed_cols = list(rename_dict.values())\n",
                "\n",
                "df_renamed[0:10][base_cols + renamed_cols].style.\\\n",
                "    set_table_attributes('style=\"font-size: 14px\"')"
            ]
        }
    ],
    "metadata": {
        "kernelspec": {
            "display_name": "Python 3.10.7 ('.venv': poetry)",
            "language": "python",
            "name": "python3"
        },
        "language_info": {
            "codemirror_mode": {
                "name": "ipython",
                "version": 3
            },
            "file_extension": ".py",
            "mimetype": "text/x-python",
            "name": "python",
            "nbconvert_exporter": "python",
            "pygments_lexer": "ipython3",
            "version": "3.10.8 (main, Oct 13 2022, 09:48:40) [Clang 14.0.0 (clang-1400.0.29.102)]"
        },
        "orig_nbformat": 4,
        "vscode": {
            "interpreter": {
                "hash": "d2b49c0af2d95979144de75823f7cfbb268839811992fdd0cb17fc1bb54ce815"
            }
        }
    },
    "nbformat": 4,
    "nbformat_minor": 2
}

{
 "cells": [
  {
   "attachments": {},
   "cell_type": "markdown",
   "metadata": {},
   "source": [
    "# Introductory Tutorial\n"
   ]
  },
  {
   "attachments": {},
   "cell_type": "markdown",
   "metadata": {},
   "source": [
    "TimeseriesFlattener flattens timeseries. This is especially helpful if you have complicated and irregular time series but want to train simple models.\n",
    "\n",
    "We explain terminology as needed in this tutorial. If you need a reference, see the [docs](https://aarhus-psychiatry-research.github.io/timeseriesflattener/#functionality).\n",
    "\n",
    "Applying it consists of 3 steps:\n",
    "\n",
    "1. Loading data (prediction times, predictor(s), and outcome(s))\n",
    "2. Specifying how to flatten the data and\n",
    "3. Flattening\n",
    "\n",
    "The simplest case is adding one predictor and one outcome.\n",
    "\n",
    "First, we'll load the timestamps for every time we want to issue a prediction:\n"
   ]
  },
  {
   "attachments": {},
   "cell_type": "markdown",
   "metadata": {},
   "source": [
    "## Loading data\n"
   ]
  },
  {
   "attachments": {},
   "cell_type": "markdown",
   "metadata": {},
   "source": [
    "### Loading prediction times\n",
    "\n",
    "Predictin times consist of two elements:\n",
    "\n",
    "1. The entity id. This is the entity about which the prediction is issued. In medical contexts, this is frequently a patient.\n",
    "2. The timestamp at which the prediction is to be issued.\n"
   ]
  },
  {
   "cell_type": "code",
   "execution_count": 1,
   "metadata": {},
   "outputs": [
    {
     "data": {
      "text/html": [
       "<pre style=\"white-space:pre;overflow-x:auto;line-height:normal;font-family:Menlo,'DejaVu Sans Mono',consolas,'Courier New',monospace\">╭──────────────────────────────────────────────── skimpy summary ─────────────────────────────────────────────────╮\n",
       "│ <span style=\"font-style: italic\">         Data Summary         </span> <span style=\"font-style: italic\">      Data Types       </span>                                                          │\n",
       "│ ┏━━━━━━━━━━━━━━━━━━━┳━━━━━━━━┓ ┏━━━━━━━━━━━━━┳━━━━━━━┓                                                          │\n",
       "│ ┃<span style=\"color: #008080; text-decoration-color: #008080; font-weight: bold\"> dataframe         </span>┃<span style=\"color: #008080; text-decoration-color: #008080; font-weight: bold\"> Values </span>┃ ┃<span style=\"color: #008080; text-decoration-color: #008080; font-weight: bold\"> Column Type </span>┃<span style=\"color: #008080; text-decoration-color: #008080; font-weight: bold\"> Count </span>┃                                                          │\n",
       "│ ┡━━━━━━━━━━━━━━━━━━━╇━━━━━━━━┩ ┡━━━━━━━━━━━━━╇━━━━━━━┩                                                          │\n",
       "│ │ Number of rows    │ 10000  │ │ int64       │ 1     │                                                          │\n",
       "│ │ Number of columns │ 2      │ │ datetime64  │ 1     │                                                          │\n",
       "│ └───────────────────┴────────┘ └─────────────┴───────┘                                                          │\n",
       "│ <span style=\"font-style: italic\">                                                    number                                                    </span>  │\n",
       "│ ┏━━━━━━━━━━━━━━━━━━┳━━━━━━┳━━━━━━━━━┳━━━━━━━━┳━━━━━━━━┳━━━━━━┳━━━━━━━━┳━━━━━━━━┳━━━━━━━━┳━━━━━━━━━┳━━━━━━━━━━┓  │\n",
       "│ ┃<span style=\"font-weight: bold\"> column_name      </span>┃<span style=\"font-weight: bold\"> NA   </span>┃<span style=\"font-weight: bold\"> NA %    </span>┃<span style=\"font-weight: bold\"> mean   </span>┃<span style=\"font-weight: bold\"> sd     </span>┃<span style=\"font-weight: bold\"> p0   </span>┃<span style=\"font-weight: bold\"> p25    </span>┃<span style=\"font-weight: bold\"> p50    </span>┃<span style=\"font-weight: bold\"> p75    </span>┃<span style=\"font-weight: bold\"> p100    </span>┃<span style=\"font-weight: bold\"> hist     </span>┃  │\n",
       "│ ┡━━━━━━━━━━━━━━━━━━╇━━━━━━╇━━━━━━━━━╇━━━━━━━━╇━━━━━━━━╇━━━━━━╇━━━━━━━━╇━━━━━━━━╇━━━━━━━━╇━━━━━━━━━╇━━━━━━━━━━┩  │\n",
       "│ │ <span style=\"color: #af87ff; text-decoration-color: #af87ff\">entity_id       </span> │ <span style=\"color: #008080; text-decoration-color: #008080\">   0</span> │ <span style=\"color: #008080; text-decoration-color: #008080\">      0</span> │ <span style=\"color: #008080; text-decoration-color: #008080\">  5000</span> │ <span style=\"color: #008080; text-decoration-color: #008080\">  2900</span> │ <span style=\"color: #008080; text-decoration-color: #008080\">   0</span> │ <span style=\"color: #008080; text-decoration-color: #008080\">  2500</span> │ <span style=\"color: #008080; text-decoration-color: #008080\">  4900</span> │ <span style=\"color: #008080; text-decoration-color: #008080\">  7400</span> │ <span style=\"color: #008080; text-decoration-color: #008080\">  10000</span> │ <span style=\"color: #008000; text-decoration-color: #008000\"> ▇▇▇▇▇▇ </span> │  │\n",
       "│ └──────────────────┴──────┴─────────┴────────┴────────┴──────┴────────┴────────┴────────┴─────────┴──────────┘  │\n",
       "│ <span style=\"font-style: italic\">                                                   datetime                                                   </span>  │\n",
       "│ ┏━━━━━━━━━━━━━━━━━━┳━━━━━━┳━━━━━━━━━┳━━━━━━━━━━━━━━━━━━━━━━━━━━━━┳━━━━━━━━━━━━━━━━━━━━━━━━━━━━┳━━━━━━━━━━━━━━┓  │\n",
       "│ ┃<span style=\"font-weight: bold\"> column_name      </span>┃<span style=\"font-weight: bold\"> NA   </span>┃<span style=\"font-weight: bold\"> NA %    </span>┃<span style=\"font-weight: bold\"> first                      </span>┃<span style=\"font-weight: bold\"> last                       </span>┃<span style=\"font-weight: bold\"> frequency    </span>┃  │\n",
       "│ ┡━━━━━━━━━━━━━━━━━━╇━━━━━━╇━━━━━━━━━╇━━━━━━━━━━━━━━━━━━━━━━━━━━━━╇━━━━━━━━━━━━━━━━━━━━━━━━━━━━╇━━━━━━━━━━━━━━┩  │\n",
       "│ │ <span style=\"color: #af87ff; text-decoration-color: #af87ff\">timestamp       </span> │ <span style=\"color: #008080; text-decoration-color: #008080\">   0</span> │ <span style=\"color: #008080; text-decoration-color: #008080\">      0</span> │ <span style=\"color: #800000; text-decoration-color: #800000\">   1965-01-02 09:35:00    </span> │ <span style=\"color: #800000; text-decoration-color: #800000\">   1969-12-31 21:42:00    </span> │ <span style=\"color: #af87ff; text-decoration-color: #af87ff\">None        </span> │  │\n",
       "│ └──────────────────┴──────┴─────────┴────────────────────────────┴────────────────────────────┴──────────────┘  │\n",
       "╰────────────────────────────────────────────────────── End ──────────────────────────────────────────────────────╯\n",
       "</pre>\n"
      ],
      "text/plain": [
       "╭──────────────────────────────────────────────── skimpy summary ─────────────────────────────────────────────────╮\n",
       "│ \u001b[3m         Data Summary         \u001b[0m \u001b[3m      Data Types       \u001b[0m                                                          │\n",
       "│ ┏━━━━━━━━━━━━━━━━━━━┳━━━━━━━━┓ ┏━━━━━━━━━━━━━┳━━━━━━━┓                                                          │\n",
       "│ ┃\u001b[1;36m \u001b[0m\u001b[1;36mdataframe        \u001b[0m\u001b[1;36m \u001b[0m┃\u001b[1;36m \u001b[0m\u001b[1;36mValues\u001b[0m\u001b[1;36m \u001b[0m┃ ┃\u001b[1;36m \u001b[0m\u001b[1;36mColumn Type\u001b[0m\u001b[1;36m \u001b[0m┃\u001b[1;36m \u001b[0m\u001b[1;36mCount\u001b[0m\u001b[1;36m \u001b[0m┃                                                          │\n",
       "│ ┡━━━━━━━━━━━━━━━━━━━╇━━━━━━━━┩ ┡━━━━━━━━━━━━━╇━━━━━━━┩                                                          │\n",
       "│ │ Number of rows    │ 10000  │ │ int64       │ 1     │                                                          │\n",
       "│ │ Number of columns │ 2      │ │ datetime64  │ 1     │                                                          │\n",
       "│ └───────────────────┴────────┘ └─────────────┴───────┘                                                          │\n",
       "│ \u001b[3m                                                    number                                                    \u001b[0m  │\n",
       "│ ┏━━━━━━━━━━━━━━━━━━┳━━━━━━┳━━━━━━━━━┳━━━━━━━━┳━━━━━━━━┳━━━━━━┳━━━━━━━━┳━━━━━━━━┳━━━━━━━━┳━━━━━━━━━┳━━━━━━━━━━┓  │\n",
       "│ ┃\u001b[1m \u001b[0m\u001b[1mcolumn_name     \u001b[0m\u001b[1m \u001b[0m┃\u001b[1m \u001b[0m\u001b[1mNA  \u001b[0m\u001b[1m \u001b[0m┃\u001b[1m \u001b[0m\u001b[1mNA %   \u001b[0m\u001b[1m \u001b[0m┃\u001b[1m \u001b[0m\u001b[1mmean  \u001b[0m\u001b[1m \u001b[0m┃\u001b[1m \u001b[0m\u001b[1msd    \u001b[0m\u001b[1m \u001b[0m┃\u001b[1m \u001b[0m\u001b[1mp0  \u001b[0m\u001b[1m \u001b[0m┃\u001b[1m \u001b[0m\u001b[1mp25   \u001b[0m\u001b[1m \u001b[0m┃\u001b[1m \u001b[0m\u001b[1mp50   \u001b[0m\u001b[1m \u001b[0m┃\u001b[1m \u001b[0m\u001b[1mp75   \u001b[0m\u001b[1m \u001b[0m┃\u001b[1m \u001b[0m\u001b[1mp100   \u001b[0m\u001b[1m \u001b[0m┃\u001b[1m \u001b[0m\u001b[1mhist    \u001b[0m\u001b[1m \u001b[0m┃  │\n",
       "│ ┡━━━━━━━━━━━━━━━━━━╇━━━━━━╇━━━━━━━━━╇━━━━━━━━╇━━━━━━━━╇━━━━━━╇━━━━━━━━╇━━━━━━━━╇━━━━━━━━╇━━━━━━━━━╇━━━━━━━━━━┩  │\n",
       "│ │ \u001b[38;5;141mentity_id       \u001b[0m │ \u001b[36m   0\u001b[0m │ \u001b[36m      0\u001b[0m │ \u001b[36m  5000\u001b[0m │ \u001b[36m  2900\u001b[0m │ \u001b[36m   0\u001b[0m │ \u001b[36m  2500\u001b[0m │ \u001b[36m  4900\u001b[0m │ \u001b[36m  7400\u001b[0m │ \u001b[36m  10000\u001b[0m │ \u001b[32m ▇▇▇▇▇▇ \u001b[0m │  │\n",
       "│ └──────────────────┴──────┴─────────┴────────┴────────┴──────┴────────┴────────┴────────┴─────────┴──────────┘  │\n",
       "│ \u001b[3m                                                   datetime                                                   \u001b[0m  │\n",
       "│ ┏━━━━━━━━━━━━━━━━━━┳━━━━━━┳━━━━━━━━━┳━━━━━━━━━━━━━━━━━━━━━━━━━━━━┳━━━━━━━━━━━━━━━━━━━━━━━━━━━━┳━━━━━━━━━━━━━━┓  │\n",
       "│ ┃\u001b[1m \u001b[0m\u001b[1mcolumn_name     \u001b[0m\u001b[1m \u001b[0m┃\u001b[1m \u001b[0m\u001b[1mNA  \u001b[0m\u001b[1m \u001b[0m┃\u001b[1m \u001b[0m\u001b[1mNA %   \u001b[0m\u001b[1m \u001b[0m┃\u001b[1m \u001b[0m\u001b[1mfirst                     \u001b[0m\u001b[1m \u001b[0m┃\u001b[1m \u001b[0m\u001b[1mlast                      \u001b[0m\u001b[1m \u001b[0m┃\u001b[1m \u001b[0m\u001b[1mfrequency   \u001b[0m\u001b[1m \u001b[0m┃  │\n",
       "│ ┡━━━━━━━━━━━━━━━━━━╇━━━━━━╇━━━━━━━━━╇━━━━━━━━━━━━━━━━━━━━━━━━━━━━╇━━━━━━━━━━━━━━━━━━━━━━━━━━━━╇━━━━━━━━━━━━━━┩  │\n",
       "│ │ \u001b[38;5;141mtimestamp       \u001b[0m │ \u001b[36m   0\u001b[0m │ \u001b[36m      0\u001b[0m │ \u001b[31m   1965-01-02 09:35:00    \u001b[0m │ \u001b[31m   1969-12-31 21:42:00    \u001b[0m │ \u001b[38;5;141mNone        \u001b[0m │  │\n",
       "│ └──────────────────┴──────┴─────────┴────────────────────────────┴────────────────────────────┴──────────────┘  │\n",
       "╰────────────────────────────────────────────────────── End ──────────────────────────────────────────────────────╯\n"
      ]
     },
     "metadata": {},
     "output_type": "display_data"
    },
    {
     "data": {
      "text/html": [
       "<div><style>\n",
       ".dataframe > thead > tr,\n",
       ".dataframe > tbody > tr {\n",
       "  text-align: right;\n",
       "  white-space: pre-wrap;\n",
       "}\n",
       "</style>\n",
       "<small>shape: (10_000, 2)</small><table border=\"1\" class=\"dataframe\"><thead><tr><th>entity_id</th><th>timestamp</th></tr><tr><td>i64</td><td>datetime[μs]</td></tr></thead><tbody><tr><td>0</td><td>1969-01-11 09:55:00</td></tr><tr><td>1</td><td>1965-03-15 07:16:00</td></tr><tr><td>2</td><td>1969-09-13 23:18:00</td></tr><tr><td>3</td><td>1968-02-04 16:16:00</td></tr><tr><td>4</td><td>1965-01-28 12:33:00</td></tr><tr><td>5</td><td>1967-10-09 06:22:00</td></tr><tr><td>7</td><td>1969-11-17 02:50:00</td></tr><tr><td>8</td><td>1965-12-11 02:17:00</td></tr><tr><td>9</td><td>1965-08-21 22:00:00</td></tr><tr><td>10</td><td>1965-12-26 16:45:00</td></tr><tr><td>11</td><td>1966-07-09 13:54:00</td></tr><tr><td>12</td><td>1968-01-26 22:35:00</td></tr><tr><td>&hellip;</td><td>&hellip;</td></tr><tr><td>9990</td><td>1965-11-16 21:02:00</td></tr><tr><td>9990</td><td>1967-06-09 02:48:00</td></tr><tr><td>9991</td><td>1966-07-05 03:18:00</td></tr><tr><td>9994</td><td>1965-04-20 06:19:00</td></tr><tr><td>9994</td><td>1967-05-07 04:44:00</td></tr><tr><td>9995</td><td>1968-08-23 11:30:00</td></tr><tr><td>9995</td><td>1965-11-24 05:42:00</td></tr><tr><td>9996</td><td>1965-01-30 17:19:00</td></tr><tr><td>9996</td><td>1965-07-18 17:12:00</td></tr><tr><td>9997</td><td>1967-06-08 07:52:00</td></tr><tr><td>9999</td><td>1965-07-19 14:59:00</td></tr><tr><td>9999</td><td>1968-02-07 22:24:00</td></tr></tbody></table></div>"
      ],
      "text/plain": [
       "shape: (10_000, 2)\n",
       "┌───────────┬─────────────────────┐\n",
       "│ entity_id ┆ timestamp           │\n",
       "│ ---       ┆ ---                 │\n",
       "│ i64       ┆ datetime[μs]        │\n",
       "╞═══════════╪═════════════════════╡\n",
       "│ 0         ┆ 1969-01-11 09:55:00 │\n",
       "│ 1         ┆ 1965-03-15 07:16:00 │\n",
       "│ 2         ┆ 1969-09-13 23:18:00 │\n",
       "│ 3         ┆ 1968-02-04 16:16:00 │\n",
       "│ 4         ┆ 1965-01-28 12:33:00 │\n",
       "│ …         ┆ …                   │\n",
       "│ 9996      ┆ 1965-01-30 17:19:00 │\n",
       "│ 9996      ┆ 1965-07-18 17:12:00 │\n",
       "│ 9997      ┆ 1967-06-08 07:52:00 │\n",
       "│ 9999      ┆ 1965-07-19 14:59:00 │\n",
       "│ 9999      ┆ 1968-02-07 22:24:00 │\n",
       "└───────────┴─────────────────────┘"
      ]
     },
     "execution_count": 1,
     "metadata": {},
     "output_type": "execute_result"
    }
   ],
   "source": [
    "from __future__ import annotations\n",
    "\n",
    "from skimpy import skim\n",
    "from timeseriesflattener.testing.load_synth_data import load_synth_prediction_times\n",
    "\n",
    "df_prediction_times = load_synth_prediction_times()\n",
    "\n",
    "skim(df_prediction_times)\n",
    "df_prediction_times.sort([\"entity_id\"])"
   ]
  },
  {
   "attachments": {},
   "cell_type": "markdown",
   "metadata": {},
   "source": [
    "Here, \"entity_id\" represents a patient ID and “timestamp” refers to the time when we want to issue a prediction. Note that each ID can have multiple prediction times.\n"
   ]
  },
  {
   "attachments": {},
   "cell_type": "markdown",
   "metadata": {},
   "source": [
    "### Loading a temporal predictor\n",
    "\n",
    "Then, we'll load the values for our temporal predictor. Temporal predictors are predictors that can have a different value at different timepoints.\n"
   ]
  },
  {
   "cell_type": "code",
   "execution_count": null,
   "metadata": {},
   "outputs": [
    {
     "data": {
      "text/html": [
       "<pre style=\"white-space:pre;overflow-x:auto;line-height:normal;font-family:Menlo,'DejaVu Sans Mono',consolas,'Courier New',monospace\">╭──────────────────────────────────────────────── skimpy summary ─────────────────────────────────────────────────╮\n",
       "│ <span style=\"font-style: italic\">         Data Summary         </span> <span style=\"font-style: italic\">      Data Types       </span>                                                          │\n",
       "│ ┏━━━━━━━━━━━━━━━━━━━┳━━━━━━━━┓ ┏━━━━━━━━━━━━━┳━━━━━━━┓                                                          │\n",
       "│ ┃<span style=\"color: #008080; text-decoration-color: #008080; font-weight: bold\"> dataframe         </span>┃<span style=\"color: #008080; text-decoration-color: #008080; font-weight: bold\"> Values </span>┃ ┃<span style=\"color: #008080; text-decoration-color: #008080; font-weight: bold\"> Column Type </span>┃<span style=\"color: #008080; text-decoration-color: #008080; font-weight: bold\"> Count </span>┃                                                          │\n",
       "│ ┡━━━━━━━━━━━━━━━━━━━╇━━━━━━━━┩ ┡━━━━━━━━━━━━━╇━━━━━━━┩                                                          │\n",
       "│ │ Number of rows    │ 100000 │ │ int64       │ 1     │                                                          │\n",
       "│ │ Number of columns │ 3      │ │ datetime64  │ 1     │                                                          │\n",
       "│ └───────────────────┴────────┘ │ float64     │ 1     │                                                          │\n",
       "│                                └─────────────┴───────┘                                                          │\n",
       "│ <span style=\"font-style: italic\">                                                    number                                                    </span>  │\n",
       "│ ┏━━━━━━━━━━━━━━━━━┳━━━━━━┳━━━━━━━━┳━━━━━━━━┳━━━━━━━━┳━━━━━━━━━━━┳━━━━━━━━┳━━━━━━━━┳━━━━━━━┳━━━━━━━━┳━━━━━━━━━┓  │\n",
       "│ ┃<span style=\"font-weight: bold\"> column_name     </span>┃<span style=\"font-weight: bold\"> NA   </span>┃<span style=\"font-weight: bold\"> NA %   </span>┃<span style=\"font-weight: bold\"> mean   </span>┃<span style=\"font-weight: bold\"> sd     </span>┃<span style=\"font-weight: bold\"> p0        </span>┃<span style=\"font-weight: bold\"> p25    </span>┃<span style=\"font-weight: bold\"> p50    </span>┃<span style=\"font-weight: bold\"> p75   </span>┃<span style=\"font-weight: bold\"> p100   </span>┃<span style=\"font-weight: bold\"> hist    </span>┃  │\n",
       "│ ┡━━━━━━━━━━━━━━━━━╇━━━━━━╇━━━━━━━━╇━━━━━━━━╇━━━━━━━━╇━━━━━━━━━━━╇━━━━━━━━╇━━━━━━━━╇━━━━━━━╇━━━━━━━━╇━━━━━━━━━┩  │\n",
       "│ │ <span style=\"color: #af87ff; text-decoration-color: #af87ff\">entity_id      </span> │ <span style=\"color: #008080; text-decoration-color: #008080\">   0</span> │ <span style=\"color: #008080; text-decoration-color: #008080\">     0</span> │ <span style=\"color: #008080; text-decoration-color: #008080\">  5000</span> │ <span style=\"color: #008080; text-decoration-color: #008080\">  2900</span> │ <span style=\"color: #008080; text-decoration-color: #008080\">        0</span> │ <span style=\"color: #008080; text-decoration-color: #008080\">  2500</span> │ <span style=\"color: #008080; text-decoration-color: #008080\">  5000</span> │ <span style=\"color: #008080; text-decoration-color: #008080\"> 7500</span> │ <span style=\"color: #008080; text-decoration-color: #008080\"> 10000</span> │ <span style=\"color: #008000; text-decoration-color: #008000\">▇▇▇▇▇▇ </span> │  │\n",
       "│ │ <span style=\"color: #af87ff; text-decoration-color: #af87ff\">value          </span> │ <span style=\"color: #008080; text-decoration-color: #008080\">   0</span> │ <span style=\"color: #008080; text-decoration-color: #008080\">     0</span> │ <span style=\"color: #008080; text-decoration-color: #008080\">     5</span> │ <span style=\"color: #008080; text-decoration-color: #008080\">   2.9</span> │ <span style=\"color: #008080; text-decoration-color: #008080\">  0.00015</span> │ <span style=\"color: #008080; text-decoration-color: #008080\">   2.5</span> │ <span style=\"color: #008080; text-decoration-color: #008080\">     5</span> │ <span style=\"color: #008080; text-decoration-color: #008080\">  7.5</span> │ <span style=\"color: #008080; text-decoration-color: #008080\">    10</span> │ <span style=\"color: #008000; text-decoration-color: #008000\">▇▇▇▇▇▇ </span> │  │\n",
       "│ └─────────────────┴──────┴────────┴────────┴────────┴───────────┴────────┴────────┴───────┴────────┴─────────┘  │\n",
       "│ <span style=\"font-style: italic\">                                                   datetime                                                   </span>  │\n",
       "│ ┏━━━━━━━━━━━━━━━━━━┳━━━━━━┳━━━━━━━━━┳━━━━━━━━━━━━━━━━━━━━━━━━━━━━┳━━━━━━━━━━━━━━━━━━━━━━━━━━━━┳━━━━━━━━━━━━━━┓  │\n",
       "│ ┃<span style=\"font-weight: bold\"> column_name      </span>┃<span style=\"font-weight: bold\"> NA   </span>┃<span style=\"font-weight: bold\"> NA %    </span>┃<span style=\"font-weight: bold\"> first                      </span>┃<span style=\"font-weight: bold\"> last                       </span>┃<span style=\"font-weight: bold\"> frequency    </span>┃  │\n",
       "│ ┡━━━━━━━━━━━━━━━━━━╇━━━━━━╇━━━━━━━━━╇━━━━━━━━━━━━━━━━━━━━━━━━━━━━╇━━━━━━━━━━━━━━━━━━━━━━━━━━━━╇━━━━━━━━━━━━━━┩  │\n",
       "│ │ <span style=\"color: #af87ff; text-decoration-color: #af87ff\">timestamp       </span> │ <span style=\"color: #008080; text-decoration-color: #008080\">   0</span> │ <span style=\"color: #008080; text-decoration-color: #008080\">      0</span> │ <span style=\"color: #800000; text-decoration-color: #800000\">   1965-01-02 00:01:00    </span> │ <span style=\"color: #800000; text-decoration-color: #800000\">   1969-12-31 23:37:00    </span> │ <span style=\"color: #af87ff; text-decoration-color: #af87ff\">None        </span> │  │\n",
       "│ └──────────────────┴──────┴─────────┴────────────────────────────┴────────────────────────────┴──────────────┘  │\n",
       "╰────────────────────────────────────────────────────── End ──────────────────────────────────────────────────────╯\n",
       "</pre>\n"
      ],
      "text/plain": [
       "╭──────────────────────────────────────────────── skimpy summary ─────────────────────────────────────────────────╮\n",
       "│ \u001b[3m         Data Summary         \u001b[0m \u001b[3m      Data Types       \u001b[0m                                                          │\n",
       "│ ┏━━━━━━━━━━━━━━━━━━━┳━━━━━━━━┓ ┏━━━━━━━━━━━━━┳━━━━━━━┓                                                          │\n",
       "│ ┃\u001b[1;36m \u001b[0m\u001b[1;36mdataframe        \u001b[0m\u001b[1;36m \u001b[0m┃\u001b[1;36m \u001b[0m\u001b[1;36mValues\u001b[0m\u001b[1;36m \u001b[0m┃ ┃\u001b[1;36m \u001b[0m\u001b[1;36mColumn Type\u001b[0m\u001b[1;36m \u001b[0m┃\u001b[1;36m \u001b[0m\u001b[1;36mCount\u001b[0m\u001b[1;36m \u001b[0m┃                                                          │\n",
       "│ ┡━━━━━━━━━━━━━━━━━━━╇━━━━━━━━┩ ┡━━━━━━━━━━━━━╇━━━━━━━┩                                                          │\n",
       "│ │ Number of rows    │ 100000 │ │ int64       │ 1     │                                                          │\n",
       "│ │ Number of columns │ 3      │ │ datetime64  │ 1     │                                                          │\n",
       "│ └───────────────────┴────────┘ │ float64     │ 1     │                                                          │\n",
       "│                                └─────────────┴───────┘                                                          │\n",
       "│ \u001b[3m                                                    number                                                    \u001b[0m  │\n",
       "│ ┏━━━━━━━━━━━━━━━━━┳━━━━━━┳━━━━━━━━┳━━━━━━━━┳━━━━━━━━┳━━━━━━━━━━━┳━━━━━━━━┳━━━━━━━━┳━━━━━━━┳━━━━━━━━┳━━━━━━━━━┓  │\n",
       "│ ┃\u001b[1m \u001b[0m\u001b[1mcolumn_name    \u001b[0m\u001b[1m \u001b[0m┃\u001b[1m \u001b[0m\u001b[1mNA  \u001b[0m\u001b[1m \u001b[0m┃\u001b[1m \u001b[0m\u001b[1mNA %  \u001b[0m\u001b[1m \u001b[0m┃\u001b[1m \u001b[0m\u001b[1mmean  \u001b[0m\u001b[1m \u001b[0m┃\u001b[1m \u001b[0m\u001b[1msd    \u001b[0m\u001b[1m \u001b[0m┃\u001b[1m \u001b[0m\u001b[1mp0       \u001b[0m\u001b[1m \u001b[0m┃\u001b[1m \u001b[0m\u001b[1mp25   \u001b[0m\u001b[1m \u001b[0m┃\u001b[1m \u001b[0m\u001b[1mp50   \u001b[0m\u001b[1m \u001b[0m┃\u001b[1m \u001b[0m\u001b[1mp75  \u001b[0m\u001b[1m \u001b[0m┃\u001b[1m \u001b[0m\u001b[1mp100  \u001b[0m\u001b[1m \u001b[0m┃\u001b[1m \u001b[0m\u001b[1mhist   \u001b[0m\u001b[1m \u001b[0m┃  │\n",
       "│ ┡━━━━━━━━━━━━━━━━━╇━━━━━━╇━━━━━━━━╇━━━━━━━━╇━━━━━━━━╇━━━━━━━━━━━╇━━━━━━━━╇━━━━━━━━╇━━━━━━━╇━━━━━━━━╇━━━━━━━━━┩  │\n",
       "│ │ \u001b[38;5;141mentity_id      \u001b[0m │ \u001b[36m   0\u001b[0m │ \u001b[36m     0\u001b[0m │ \u001b[36m  5000\u001b[0m │ \u001b[36m  2900\u001b[0m │ \u001b[36m        0\u001b[0m │ \u001b[36m  2500\u001b[0m │ \u001b[36m  5000\u001b[0m │ \u001b[36m 7500\u001b[0m │ \u001b[36m 10000\u001b[0m │ \u001b[32m▇▇▇▇▇▇ \u001b[0m │  │\n",
       "│ │ \u001b[38;5;141mvalue          \u001b[0m │ \u001b[36m   0\u001b[0m │ \u001b[36m     0\u001b[0m │ \u001b[36m     5\u001b[0m │ \u001b[36m   2.9\u001b[0m │ \u001b[36m  0.00015\u001b[0m │ \u001b[36m   2.5\u001b[0m │ \u001b[36m     5\u001b[0m │ \u001b[36m  7.5\u001b[0m │ \u001b[36m    10\u001b[0m │ \u001b[32m▇▇▇▇▇▇ \u001b[0m │  │\n",
       "│ └─────────────────┴──────┴────────┴────────┴────────┴───────────┴────────┴────────┴───────┴────────┴─────────┘  │\n",
       "│ \u001b[3m                                                   datetime                                                   \u001b[0m  │\n",
       "│ ┏━━━━━━━━━━━━━━━━━━┳━━━━━━┳━━━━━━━━━┳━━━━━━━━━━━━━━━━━━━━━━━━━━━━┳━━━━━━━━━━━━━━━━━━━━━━━━━━━━┳━━━━━━━━━━━━━━┓  │\n",
       "│ ┃\u001b[1m \u001b[0m\u001b[1mcolumn_name     \u001b[0m\u001b[1m \u001b[0m┃\u001b[1m \u001b[0m\u001b[1mNA  \u001b[0m\u001b[1m \u001b[0m┃\u001b[1m \u001b[0m\u001b[1mNA %   \u001b[0m\u001b[1m \u001b[0m┃\u001b[1m \u001b[0m\u001b[1mfirst                     \u001b[0m\u001b[1m \u001b[0m┃\u001b[1m \u001b[0m\u001b[1mlast                      \u001b[0m\u001b[1m \u001b[0m┃\u001b[1m \u001b[0m\u001b[1mfrequency   \u001b[0m\u001b[1m \u001b[0m┃  │\n",
       "│ ┡━━━━━━━━━━━━━━━━━━╇━━━━━━╇━━━━━━━━━╇━━━━━━━━━━━━━━━━━━━━━━━━━━━━╇━━━━━━━━━━━━━━━━━━━━━━━━━━━━╇━━━━━━━━━━━━━━┩  │\n",
       "│ │ \u001b[38;5;141mtimestamp       \u001b[0m │ \u001b[36m   0\u001b[0m │ \u001b[36m      0\u001b[0m │ \u001b[31m   1965-01-02 00:01:00    \u001b[0m │ \u001b[31m   1969-12-31 23:37:00    \u001b[0m │ \u001b[38;5;141mNone        \u001b[0m │  │\n",
       "│ └──────────────────┴──────┴─────────┴────────────────────────────┴────────────────────────────┴──────────────┘  │\n",
       "╰────────────────────────────────────────────────────── End ──────────────────────────────────────────────────────╯\n"
      ]
     },
     "metadata": {},
     "output_type": "display_data"
    },
    {
     "data": {
      "text/html": [
       "<div><style>\n",
       ".dataframe > thead > tr,\n",
       ".dataframe > tbody > tr {\n",
       "  text-align: right;\n",
       "  white-space: pre-wrap;\n",
       "}\n",
       "</style>\n",
       "<small>shape: (100_000, 3)</small><table border=\"1\" class=\"dataframe\"><thead><tr><th>entity_id</th><th>timestamp</th><th>value</th></tr><tr><td>i64</td><td>datetime[μs]</td><td>f64</td></tr></thead><tbody><tr><td>0</td><td>1967-06-12 14:06:00</td><td>0.174793</td></tr><tr><td>0</td><td>1968-04-15 01:45:00</td><td>3.072293</td></tr><tr><td>0</td><td>1968-12-09 05:42:00</td><td>1.315754</td></tr><tr><td>0</td><td>1969-06-20 18:07:00</td><td>2.812481</td></tr><tr><td>0</td><td>1967-11-26 01:59:00</td><td>2.981185</td></tr><tr><td>0</td><td>1968-09-07 01:45:00</td><td>0.173205</td></tr><tr><td>0</td><td>1969-02-21 03:29:00</td><td>9.943505</td></tr><tr><td>0</td><td>1967-11-26 13:45:00</td><td>5.470792</td></tr><tr><td>0</td><td>1967-05-12 12:44:00</td><td>0.970382</td></tr><tr><td>0</td><td>1965-05-03 05:23:00</td><td>6.630007</td></tr><tr><td>0</td><td>1969-10-19 10:29:00</td><td>0.799246</td></tr><tr><td>0</td><td>1969-11-25 18:39:00</td><td>2.868688</td></tr><tr><td>&hellip;</td><td>&hellip;</td><td>&hellip;</td></tr><tr><td>9999</td><td>1967-12-11 21:34:00</td><td>5.379503</td></tr><tr><td>9999</td><td>1968-05-26 12:28:00</td><td>9.645746</td></tr><tr><td>9999</td><td>1966-04-23 02:37:00</td><td>8.924175</td></tr><tr><td>9999</td><td>1968-10-24 18:47:00</td><td>2.34615</td></tr><tr><td>9999</td><td>1967-11-12 07:33:00</td><td>4.414524</td></tr><tr><td>9999</td><td>1966-07-15 20:55:00</td><td>0.684468</td></tr><tr><td>9999</td><td>1968-01-08 02:41:00</td><td>3.250538</td></tr><tr><td>9999</td><td>1968-08-19 10:15:00</td><td>0.671907</td></tr><tr><td>9999</td><td>1966-01-03 22:34:00</td><td>4.158796</td></tr><tr><td>9999</td><td>1966-06-27 10:55:00</td><td>4.414455</td></tr><tr><td>9999</td><td>1968-04-02 12:58:00</td><td>1.552491</td></tr><tr><td>9999</td><td>1969-06-24 07:19:00</td><td>4.501553</td></tr></tbody></table></div>"
      ],
      "text/plain": [
       "shape: (100_000, 3)\n",
       "┌───────────┬─────────────────────┬──────────┐\n",
       "│ entity_id ┆ timestamp           ┆ value    │\n",
       "│ ---       ┆ ---                 ┆ ---      │\n",
       "│ i64       ┆ datetime[μs]        ┆ f64      │\n",
       "╞═══════════╪═════════════════════╪══════════╡\n",
       "│ 0         ┆ 1967-06-12 14:06:00 ┆ 0.174793 │\n",
       "│ 0         ┆ 1968-04-15 01:45:00 ┆ 3.072293 │\n",
       "│ 0         ┆ 1968-12-09 05:42:00 ┆ 1.315754 │\n",
       "│ 0         ┆ 1969-06-20 18:07:00 ┆ 2.812481 │\n",
       "│ 0         ┆ 1967-11-26 01:59:00 ┆ 2.981185 │\n",
       "│ …         ┆ …                   ┆ …        │\n",
       "│ 9999      ┆ 1968-08-19 10:15:00 ┆ 0.671907 │\n",
       "│ 9999      ┆ 1966-01-03 22:34:00 ┆ 4.158796 │\n",
       "│ 9999      ┆ 1966-06-27 10:55:00 ┆ 4.414455 │\n",
       "│ 9999      ┆ 1968-04-02 12:58:00 ┆ 1.552491 │\n",
       "│ 9999      ┆ 1969-06-24 07:19:00 ┆ 4.501553 │\n",
       "└───────────┴─────────────────────┴──────────┘"
      ]
     },
     "execution_count": 2,
     "metadata": {},
     "output_type": "execute_result"
    }
   ],
   "source": [
    "from timeseriesflattener.testing.load_synth_data import load_synth_predictor_float\n",
    "\n",
    "df_synth_predictors = load_synth_predictor_float()\n",
    "\n",
    "skim(df_synth_predictors)\n",
    "df_synth_predictors.sort([\"entity_id\"])"
   ]
  },
  {
   "attachments": {},
   "cell_type": "markdown",
   "metadata": {},
   "source": [
    "Once again, note that there can be multiple values for each ID.\n"
   ]
  },
  {
   "attachments": {},
   "cell_type": "markdown",
   "metadata": {},
   "source": [
    "### Loading a static predictor\n",
    "\n",
    "Frequently, you'll have one or more static predictors describing each entity. In this case, an entity is a patient, and an example of a static outcome could be their sex. It doesn't change over time (it's static), but can be used as a predictor for each prediction time. Let's load it in!\n"
   ]
  },
  {
   "cell_type": "code",
   "execution_count": null,
   "metadata": {},
   "outputs": [
    {
     "data": {
      "text/html": [
       "<pre style=\"white-space:pre;overflow-x:auto;line-height:normal;font-family:Menlo,'DejaVu Sans Mono',consolas,'Courier New',monospace\">╭──────────────────────────────────────────────── skimpy summary ─────────────────────────────────────────────────╮\n",
       "│ <span style=\"font-style: italic\">         Data Summary         </span> <span style=\"font-style: italic\">      Data Types       </span>                                                          │\n",
       "│ ┏━━━━━━━━━━━━━━━━━━━┳━━━━━━━━┓ ┏━━━━━━━━━━━━━┳━━━━━━━┓                                                          │\n",
       "│ ┃<span style=\"color: #008080; text-decoration-color: #008080; font-weight: bold\"> dataframe         </span>┃<span style=\"color: #008080; text-decoration-color: #008080; font-weight: bold\"> Values </span>┃ ┃<span style=\"color: #008080; text-decoration-color: #008080; font-weight: bold\"> Column Type </span>┃<span style=\"color: #008080; text-decoration-color: #008080; font-weight: bold\"> Count </span>┃                                                          │\n",
       "│ ┡━━━━━━━━━━━━━━━━━━━╇━━━━━━━━┩ ┡━━━━━━━━━━━━━╇━━━━━━━┩                                                          │\n",
       "│ │ Number of rows    │ 9999   │ │ int64       │ 2     │                                                          │\n",
       "│ │ Number of columns │ 2      │ └─────────────┴───────┘                                                          │\n",
       "│ └───────────────────┴────────┘                                                                                  │\n",
       "│ <span style=\"font-style: italic\">                                                    number                                                    </span>  │\n",
       "│ ┏━━━━━━━━━━━━━━━━━━┳━━━━━━┳━━━━━━━━━┳━━━━━━━━┳━━━━━━━━┳━━━━━━┳━━━━━━━━┳━━━━━━━━┳━━━━━━━━┳━━━━━━━━━┳━━━━━━━━━━┓  │\n",
       "│ ┃<span style=\"font-weight: bold\"> column_name      </span>┃<span style=\"font-weight: bold\"> NA   </span>┃<span style=\"font-weight: bold\"> NA %    </span>┃<span style=\"font-weight: bold\"> mean   </span>┃<span style=\"font-weight: bold\"> sd     </span>┃<span style=\"font-weight: bold\"> p0   </span>┃<span style=\"font-weight: bold\"> p25    </span>┃<span style=\"font-weight: bold\"> p50    </span>┃<span style=\"font-weight: bold\"> p75    </span>┃<span style=\"font-weight: bold\"> p100    </span>┃<span style=\"font-weight: bold\"> hist     </span>┃  │\n",
       "│ ┡━━━━━━━━━━━━━━━━━━╇━━━━━━╇━━━━━━━━━╇━━━━━━━━╇━━━━━━━━╇━━━━━━╇━━━━━━━━╇━━━━━━━━╇━━━━━━━━╇━━━━━━━━━╇━━━━━━━━━━┩  │\n",
       "│ │ <span style=\"color: #af87ff; text-decoration-color: #af87ff\">entity_id       </span> │ <span style=\"color: #008080; text-decoration-color: #008080\">   0</span> │ <span style=\"color: #008080; text-decoration-color: #008080\">      0</span> │ <span style=\"color: #008080; text-decoration-color: #008080\">  5000</span> │ <span style=\"color: #008080; text-decoration-color: #008080\">  2900</span> │ <span style=\"color: #008080; text-decoration-color: #008080\">   0</span> │ <span style=\"color: #008080; text-decoration-color: #008080\">  2500</span> │ <span style=\"color: #008080; text-decoration-color: #008080\">  5000</span> │ <span style=\"color: #008080; text-decoration-color: #008080\">  7500</span> │ <span style=\"color: #008080; text-decoration-color: #008080\">  10000</span> │ <span style=\"color: #008000; text-decoration-color: #008000\"> ▇▇▇▇▇▇ </span> │  │\n",
       "│ │ <span style=\"color: #af87ff; text-decoration-color: #af87ff\">female          </span> │ <span style=\"color: #008080; text-decoration-color: #008080\">   0</span> │ <span style=\"color: #008080; text-decoration-color: #008080\">      0</span> │ <span style=\"color: #008080; text-decoration-color: #008080\">   0.5</span> │ <span style=\"color: #008080; text-decoration-color: #008080\">   0.5</span> │ <span style=\"color: #008080; text-decoration-color: #008080\">   0</span> │ <span style=\"color: #008080; text-decoration-color: #008080\">     0</span> │ <span style=\"color: #008080; text-decoration-color: #008080\">     0</span> │ <span style=\"color: #008080; text-decoration-color: #008080\">     1</span> │ <span style=\"color: #008080; text-decoration-color: #008080\">      1</span> │ <span style=\"color: #008000; text-decoration-color: #008000\"> ▇    ▇ </span> │  │\n",
       "│ └──────────────────┴──────┴─────────┴────────┴────────┴──────┴────────┴────────┴────────┴─────────┴──────────┘  │\n",
       "╰────────────────────────────────────────────────────── End ──────────────────────────────────────────────────────╯\n",
       "</pre>\n"
      ],
      "text/plain": [
       "╭──────────────────────────────────────────────── skimpy summary ─────────────────────────────────────────────────╮\n",
       "│ \u001b[3m         Data Summary         \u001b[0m \u001b[3m      Data Types       \u001b[0m                                                          │\n",
       "│ ┏━━━━━━━━━━━━━━━━━━━┳━━━━━━━━┓ ┏━━━━━━━━━━━━━┳━━━━━━━┓                                                          │\n",
       "│ ┃\u001b[1;36m \u001b[0m\u001b[1;36mdataframe        \u001b[0m\u001b[1;36m \u001b[0m┃\u001b[1;36m \u001b[0m\u001b[1;36mValues\u001b[0m\u001b[1;36m \u001b[0m┃ ┃\u001b[1;36m \u001b[0m\u001b[1;36mColumn Type\u001b[0m\u001b[1;36m \u001b[0m┃\u001b[1;36m \u001b[0m\u001b[1;36mCount\u001b[0m\u001b[1;36m \u001b[0m┃                                                          │\n",
       "│ ┡━━━━━━━━━━━━━━━━━━━╇━━━━━━━━┩ ┡━━━━━━━━━━━━━╇━━━━━━━┩                                                          │\n",
       "│ │ Number of rows    │ 9999   │ │ int64       │ 2     │                                                          │\n",
       "│ │ Number of columns │ 2      │ └─────────────┴───────┘                                                          │\n",
       "│ └───────────────────┴────────┘                                                                                  │\n",
       "│ \u001b[3m                                                    number                                                    \u001b[0m  │\n",
       "│ ┏━━━━━━━━━━━━━━━━━━┳━━━━━━┳━━━━━━━━━┳━━━━━━━━┳━━━━━━━━┳━━━━━━┳━━━━━━━━┳━━━━━━━━┳━━━━━━━━┳━━━━━━━━━┳━━━━━━━━━━┓  │\n",
       "│ ┃\u001b[1m \u001b[0m\u001b[1mcolumn_name     \u001b[0m\u001b[1m \u001b[0m┃\u001b[1m \u001b[0m\u001b[1mNA  \u001b[0m\u001b[1m \u001b[0m┃\u001b[1m \u001b[0m\u001b[1mNA %   \u001b[0m\u001b[1m \u001b[0m┃\u001b[1m \u001b[0m\u001b[1mmean  \u001b[0m\u001b[1m \u001b[0m┃\u001b[1m \u001b[0m\u001b[1msd    \u001b[0m\u001b[1m \u001b[0m┃\u001b[1m \u001b[0m\u001b[1mp0  \u001b[0m\u001b[1m \u001b[0m┃\u001b[1m \u001b[0m\u001b[1mp25   \u001b[0m\u001b[1m \u001b[0m┃\u001b[1m \u001b[0m\u001b[1mp50   \u001b[0m\u001b[1m \u001b[0m┃\u001b[1m \u001b[0m\u001b[1mp75   \u001b[0m\u001b[1m \u001b[0m┃\u001b[1m \u001b[0m\u001b[1mp100   \u001b[0m\u001b[1m \u001b[0m┃\u001b[1m \u001b[0m\u001b[1mhist    \u001b[0m\u001b[1m \u001b[0m┃  │\n",
       "│ ┡━━━━━━━━━━━━━━━━━━╇━━━━━━╇━━━━━━━━━╇━━━━━━━━╇━━━━━━━━╇━━━━━━╇━━━━━━━━╇━━━━━━━━╇━━━━━━━━╇━━━━━━━━━╇━━━━━━━━━━┩  │\n",
       "│ │ \u001b[38;5;141mentity_id       \u001b[0m │ \u001b[36m   0\u001b[0m │ \u001b[36m      0\u001b[0m │ \u001b[36m  5000\u001b[0m │ \u001b[36m  2900\u001b[0m │ \u001b[36m   0\u001b[0m │ \u001b[36m  2500\u001b[0m │ \u001b[36m  5000\u001b[0m │ \u001b[36m  7500\u001b[0m │ \u001b[36m  10000\u001b[0m │ \u001b[32m ▇▇▇▇▇▇ \u001b[0m │  │\n",
       "│ │ \u001b[38;5;141mfemale          \u001b[0m │ \u001b[36m   0\u001b[0m │ \u001b[36m      0\u001b[0m │ \u001b[36m   0.5\u001b[0m │ \u001b[36m   0.5\u001b[0m │ \u001b[36m   0\u001b[0m │ \u001b[36m     0\u001b[0m │ \u001b[36m     0\u001b[0m │ \u001b[36m     1\u001b[0m │ \u001b[36m      1\u001b[0m │ \u001b[32m ▇    ▇ \u001b[0m │  │\n",
       "│ └──────────────────┴──────┴─────────┴────────┴────────┴──────┴────────┴────────┴────────┴─────────┴──────────┘  │\n",
       "╰────────────────────────────────────────────────────── End ──────────────────────────────────────────────────────╯\n"
      ]
     },
     "metadata": {},
     "output_type": "display_data"
    },
    {
     "data": {
      "text/html": [
       "<div><style>\n",
       ".dataframe > thead > tr,\n",
       ".dataframe > tbody > tr {\n",
       "  text-align: right;\n",
       "  white-space: pre-wrap;\n",
       "}\n",
       "</style>\n",
       "<small>shape: (9_999, 2)</small><table border=\"1\" class=\"dataframe\"><thead><tr><th>entity_id</th><th>female</th></tr><tr><td>i64</td><td>i64</td></tr></thead><tbody><tr><td>0</td><td>0</td></tr><tr><td>1</td><td>1</td></tr><tr><td>2</td><td>1</td></tr><tr><td>3</td><td>1</td></tr><tr><td>4</td><td>0</td></tr><tr><td>5</td><td>0</td></tr><tr><td>6</td><td>0</td></tr><tr><td>7</td><td>0</td></tr><tr><td>8</td><td>1</td></tr><tr><td>9</td><td>0</td></tr><tr><td>10</td><td>0</td></tr><tr><td>11</td><td>0</td></tr><tr><td>&hellip;</td><td>&hellip;</td></tr><tr><td>9988</td><td>1</td></tr><tr><td>9989</td><td>0</td></tr><tr><td>9990</td><td>1</td></tr><tr><td>9991</td><td>0</td></tr><tr><td>9992</td><td>0</td></tr><tr><td>9993</td><td>0</td></tr><tr><td>9994</td><td>1</td></tr><tr><td>9995</td><td>0</td></tr><tr><td>9996</td><td>0</td></tr><tr><td>9997</td><td>1</td></tr><tr><td>9998</td><td>1</td></tr><tr><td>9999</td><td>0</td></tr></tbody></table></div>"
      ],
      "text/plain": [
       "shape: (9_999, 2)\n",
       "┌───────────┬────────┐\n",
       "│ entity_id ┆ female │\n",
       "│ ---       ┆ ---    │\n",
       "│ i64       ┆ i64    │\n",
       "╞═══════════╪════════╡\n",
       "│ 0         ┆ 0      │\n",
       "│ 1         ┆ 1      │\n",
       "│ 2         ┆ 1      │\n",
       "│ 3         ┆ 1      │\n",
       "│ 4         ┆ 0      │\n",
       "│ …         ┆ …      │\n",
       "│ 9995      ┆ 0      │\n",
       "│ 9996      ┆ 0      │\n",
       "│ 9997      ┆ 1      │\n",
       "│ 9998      ┆ 1      │\n",
       "│ 9999      ┆ 0      │\n",
       "└───────────┴────────┘"
      ]
     },
     "execution_count": 3,
     "metadata": {},
     "output_type": "execute_result"
    }
   ],
   "source": [
    "from timeseriesflattener.testing.load_synth_data import load_synth_sex\n",
    "\n",
    "df_synth_sex = load_synth_sex()\n",
    "\n",
    "skim(df_synth_sex)\n",
    "df_synth_sex"
   ]
  },
  {
   "attachments": {},
   "cell_type": "markdown",
   "metadata": {},
   "source": [
    "As the predictor is static, there should only be a single value for each ID in this dataframe.\n"
   ]
  },
  {
   "attachments": {},
   "cell_type": "markdown",
   "metadata": {},
   "source": [
    "### Loading a temporal outcome\n"
   ]
  },
  {
   "attachments": {},
   "cell_type": "markdown",
   "metadata": {},
   "source": [
    "And, lastly, our outcome values. We've chosen a binary outcome and only stored values for the timestamps that experience the outcome. From these, we can infer patients that do not experience the outcome, since they do not have a timestamp. We handle this by setting a fallback of 0 - more on that in the following section.\n"
   ]
  },
  {
   "cell_type": "code",
   "execution_count": null,
   "metadata": {},
   "outputs": [
    {
     "data": {
      "text/html": [
       "<pre style=\"white-space:pre;overflow-x:auto;line-height:normal;font-family:Menlo,'DejaVu Sans Mono',consolas,'Courier New',monospace\">╭──────────────────────────────────────────────── skimpy summary ─────────────────────────────────────────────────╮\n",
       "│ <span style=\"font-style: italic\">         Data Summary         </span> <span style=\"font-style: italic\">      Data Types       </span>                                                          │\n",
       "│ ┏━━━━━━━━━━━━━━━━━━━┳━━━━━━━━┓ ┏━━━━━━━━━━━━━┳━━━━━━━┓                                                          │\n",
       "│ ┃<span style=\"color: #008080; text-decoration-color: #008080; font-weight: bold\"> dataframe         </span>┃<span style=\"color: #008080; text-decoration-color: #008080; font-weight: bold\"> Values </span>┃ ┃<span style=\"color: #008080; text-decoration-color: #008080; font-weight: bold\"> Column Type </span>┃<span style=\"color: #008080; text-decoration-color: #008080; font-weight: bold\"> Count </span>┃                                                          │\n",
       "│ ┡━━━━━━━━━━━━━━━━━━━╇━━━━━━━━┩ ┡━━━━━━━━━━━━━╇━━━━━━━┩                                                          │\n",
       "│ │ Number of rows    │ 3103   │ │ int64       │ 2     │                                                          │\n",
       "│ │ Number of columns │ 3      │ │ datetime64  │ 1     │                                                          │\n",
       "│ └───────────────────┴────────┘ └─────────────┴───────┘                                                          │\n",
       "│ <span style=\"font-style: italic\">                                                    number                                                    </span>  │\n",
       "│ ┏━━━━━━━━━━━━━━━━━━┳━━━━━━┳━━━━━━━━━┳━━━━━━━━┳━━━━━━━━┳━━━━━━┳━━━━━━━━┳━━━━━━━━┳━━━━━━━━┳━━━━━━━━━┳━━━━━━━━━━┓  │\n",
       "│ ┃<span style=\"font-weight: bold\"> column_name      </span>┃<span style=\"font-weight: bold\"> NA   </span>┃<span style=\"font-weight: bold\"> NA %    </span>┃<span style=\"font-weight: bold\"> mean   </span>┃<span style=\"font-weight: bold\"> sd     </span>┃<span style=\"font-weight: bold\"> p0   </span>┃<span style=\"font-weight: bold\"> p25    </span>┃<span style=\"font-weight: bold\"> p50    </span>┃<span style=\"font-weight: bold\"> p75    </span>┃<span style=\"font-weight: bold\"> p100    </span>┃<span style=\"font-weight: bold\"> hist     </span>┃  │\n",
       "│ ┡━━━━━━━━━━━━━━━━━━╇━━━━━━╇━━━━━━━━━╇━━━━━━━━╇━━━━━━━━╇━━━━━━╇━━━━━━━━╇━━━━━━━━╇━━━━━━━━╇━━━━━━━━━╇━━━━━━━━━━┩  │\n",
       "│ │ <span style=\"color: #af87ff; text-decoration-color: #af87ff\">entity_id       </span> │ <span style=\"color: #008080; text-decoration-color: #008080\">   0</span> │ <span style=\"color: #008080; text-decoration-color: #008080\">      0</span> │ <span style=\"color: #008080; text-decoration-color: #008080\">  5000</span> │ <span style=\"color: #008080; text-decoration-color: #008080\">  2900</span> │ <span style=\"color: #008080; text-decoration-color: #008080\">   4</span> │ <span style=\"color: #008080; text-decoration-color: #008080\">  2500</span> │ <span style=\"color: #008080; text-decoration-color: #008080\">  5100</span> │ <span style=\"color: #008080; text-decoration-color: #008080\">  7600</span> │ <span style=\"color: #008080; text-decoration-color: #008080\">  10000</span> │ <span style=\"color: #008000; text-decoration-color: #008000\"> ▇▇▇▇▇▇ </span> │  │\n",
       "│ │ <span style=\"color: #af87ff; text-decoration-color: #af87ff\">value           </span> │ <span style=\"color: #008080; text-decoration-color: #008080\">   0</span> │ <span style=\"color: #008080; text-decoration-color: #008080\">      0</span> │ <span style=\"color: #008080; text-decoration-color: #008080\">     1</span> │ <span style=\"color: #008080; text-decoration-color: #008080\">     0</span> │ <span style=\"color: #008080; text-decoration-color: #008080\">   1</span> │ <span style=\"color: #008080; text-decoration-color: #008080\">     1</span> │ <span style=\"color: #008080; text-decoration-color: #008080\">     1</span> │ <span style=\"color: #008080; text-decoration-color: #008080\">     1</span> │ <span style=\"color: #008080; text-decoration-color: #008080\">      1</span> │ <span style=\"color: #008000; text-decoration-color: #008000\">     ▇  </span> │  │\n",
       "│ └──────────────────┴──────┴─────────┴────────┴────────┴──────┴────────┴────────┴────────┴─────────┴──────────┘  │\n",
       "│ <span style=\"font-style: italic\">                                                   datetime                                                   </span>  │\n",
       "│ ┏━━━━━━━━━━━━━━━━━━┳━━━━━━┳━━━━━━━━━┳━━━━━━━━━━━━━━━━━━━━━━━━━━━━┳━━━━━━━━━━━━━━━━━━━━━━━━━━━━┳━━━━━━━━━━━━━━┓  │\n",
       "│ ┃<span style=\"font-weight: bold\"> column_name      </span>┃<span style=\"font-weight: bold\"> NA   </span>┃<span style=\"font-weight: bold\"> NA %    </span>┃<span style=\"font-weight: bold\"> first                      </span>┃<span style=\"font-weight: bold\"> last                       </span>┃<span style=\"font-weight: bold\"> frequency    </span>┃  │\n",
       "│ ┡━━━━━━━━━━━━━━━━━━╇━━━━━━╇━━━━━━━━━╇━━━━━━━━━━━━━━━━━━━━━━━━━━━━╇━━━━━━━━━━━━━━━━━━━━━━━━━━━━╇━━━━━━━━━━━━━━┩  │\n",
       "│ │ <span style=\"color: #af87ff; text-decoration-color: #af87ff\">timestamp       </span> │ <span style=\"color: #008080; text-decoration-color: #008080\">   0</span> │ <span style=\"color: #008080; text-decoration-color: #008080\">      0</span> │ <span style=\"color: #800000; text-decoration-color: #800000\">   1965-01-04 07:50:00    </span> │ <span style=\"color: #800000; text-decoration-color: #800000\">   1969-12-31 10:15:00    </span> │ <span style=\"color: #af87ff; text-decoration-color: #af87ff\">None        </span> │  │\n",
       "│ └──────────────────┴──────┴─────────┴────────────────────────────┴────────────────────────────┴──────────────┘  │\n",
       "╰────────────────────────────────────────────────────── End ──────────────────────────────────────────────────────╯\n",
       "</pre>\n"
      ],
      "text/plain": [
       "╭──────────────────────────────────────────────── skimpy summary ─────────────────────────────────────────────────╮\n",
       "│ \u001b[3m         Data Summary         \u001b[0m \u001b[3m      Data Types       \u001b[0m                                                          │\n",
       "│ ┏━━━━━━━━━━━━━━━━━━━┳━━━━━━━━┓ ┏━━━━━━━━━━━━━┳━━━━━━━┓                                                          │\n",
       "│ ┃\u001b[1;36m \u001b[0m\u001b[1;36mdataframe        \u001b[0m\u001b[1;36m \u001b[0m┃\u001b[1;36m \u001b[0m\u001b[1;36mValues\u001b[0m\u001b[1;36m \u001b[0m┃ ┃\u001b[1;36m \u001b[0m\u001b[1;36mColumn Type\u001b[0m\u001b[1;36m \u001b[0m┃\u001b[1;36m \u001b[0m\u001b[1;36mCount\u001b[0m\u001b[1;36m \u001b[0m┃                                                          │\n",
       "│ ┡━━━━━━━━━━━━━━━━━━━╇━━━━━━━━┩ ┡━━━━━━━━━━━━━╇━━━━━━━┩                                                          │\n",
       "│ │ Number of rows    │ 3103   │ │ int64       │ 2     │                                                          │\n",
       "│ │ Number of columns │ 3      │ │ datetime64  │ 1     │                                                          │\n",
       "│ └───────────────────┴────────┘ └─────────────┴───────┘                                                          │\n",
       "│ \u001b[3m                                                    number                                                    \u001b[0m  │\n",
       "│ ┏━━━━━━━━━━━━━━━━━━┳━━━━━━┳━━━━━━━━━┳━━━━━━━━┳━━━━━━━━┳━━━━━━┳━━━━━━━━┳━━━━━━━━┳━━━━━━━━┳━━━━━━━━━┳━━━━━━━━━━┓  │\n",
       "│ ┃\u001b[1m \u001b[0m\u001b[1mcolumn_name     \u001b[0m\u001b[1m \u001b[0m┃\u001b[1m \u001b[0m\u001b[1mNA  \u001b[0m\u001b[1m \u001b[0m┃\u001b[1m \u001b[0m\u001b[1mNA %   \u001b[0m\u001b[1m \u001b[0m┃\u001b[1m \u001b[0m\u001b[1mmean  \u001b[0m\u001b[1m \u001b[0m┃\u001b[1m \u001b[0m\u001b[1msd    \u001b[0m\u001b[1m \u001b[0m┃\u001b[1m \u001b[0m\u001b[1mp0  \u001b[0m\u001b[1m \u001b[0m┃\u001b[1m \u001b[0m\u001b[1mp25   \u001b[0m\u001b[1m \u001b[0m┃\u001b[1m \u001b[0m\u001b[1mp50   \u001b[0m\u001b[1m \u001b[0m┃\u001b[1m \u001b[0m\u001b[1mp75   \u001b[0m\u001b[1m \u001b[0m┃\u001b[1m \u001b[0m\u001b[1mp100   \u001b[0m\u001b[1m \u001b[0m┃\u001b[1m \u001b[0m\u001b[1mhist    \u001b[0m\u001b[1m \u001b[0m┃  │\n",
       "│ ┡━━━━━━━━━━━━━━━━━━╇━━━━━━╇━━━━━━━━━╇━━━━━━━━╇━━━━━━━━╇━━━━━━╇━━━━━━━━╇━━━━━━━━╇━━━━━━━━╇━━━━━━━━━╇━━━━━━━━━━┩  │\n",
       "│ │ \u001b[38;5;141mentity_id       \u001b[0m │ \u001b[36m   0\u001b[0m │ \u001b[36m      0\u001b[0m │ \u001b[36m  5000\u001b[0m │ \u001b[36m  2900\u001b[0m │ \u001b[36m   4\u001b[0m │ \u001b[36m  2500\u001b[0m │ \u001b[36m  5100\u001b[0m │ \u001b[36m  7600\u001b[0m │ \u001b[36m  10000\u001b[0m │ \u001b[32m ▇▇▇▇▇▇ \u001b[0m │  │\n",
       "│ │ \u001b[38;5;141mvalue           \u001b[0m │ \u001b[36m   0\u001b[0m │ \u001b[36m      0\u001b[0m │ \u001b[36m     1\u001b[0m │ \u001b[36m     0\u001b[0m │ \u001b[36m   1\u001b[0m │ \u001b[36m     1\u001b[0m │ \u001b[36m     1\u001b[0m │ \u001b[36m     1\u001b[0m │ \u001b[36m      1\u001b[0m │ \u001b[32m     ▇  \u001b[0m │  │\n",
       "│ └──────────────────┴──────┴─────────┴────────┴────────┴──────┴────────┴────────┴────────┴─────────┴──────────┘  │\n",
       "│ \u001b[3m                                                   datetime                                                   \u001b[0m  │\n",
       "│ ┏━━━━━━━━━━━━━━━━━━┳━━━━━━┳━━━━━━━━━┳━━━━━━━━━━━━━━━━━━━━━━━━━━━━┳━━━━━━━━━━━━━━━━━━━━━━━━━━━━┳━━━━━━━━━━━━━━┓  │\n",
       "│ ┃\u001b[1m \u001b[0m\u001b[1mcolumn_name     \u001b[0m\u001b[1m \u001b[0m┃\u001b[1m \u001b[0m\u001b[1mNA  \u001b[0m\u001b[1m \u001b[0m┃\u001b[1m \u001b[0m\u001b[1mNA %   \u001b[0m\u001b[1m \u001b[0m┃\u001b[1m \u001b[0m\u001b[1mfirst                     \u001b[0m\u001b[1m \u001b[0m┃\u001b[1m \u001b[0m\u001b[1mlast                      \u001b[0m\u001b[1m \u001b[0m┃\u001b[1m \u001b[0m\u001b[1mfrequency   \u001b[0m\u001b[1m \u001b[0m┃  │\n",
       "│ ┡━━━━━━━━━━━━━━━━━━╇━━━━━━╇━━━━━━━━━╇━━━━━━━━━━━━━━━━━━━━━━━━━━━━╇━━━━━━━━━━━━━━━━━━━━━━━━━━━━╇━━━━━━━━━━━━━━┩  │\n",
       "│ │ \u001b[38;5;141mtimestamp       \u001b[0m │ \u001b[36m   0\u001b[0m │ \u001b[36m      0\u001b[0m │ \u001b[31m   1965-01-04 07:50:00    \u001b[0m │ \u001b[31m   1969-12-31 10:15:00    \u001b[0m │ \u001b[38;5;141mNone        \u001b[0m │  │\n",
       "│ └──────────────────┴──────┴─────────┴────────────────────────────┴────────────────────────────┴──────────────┘  │\n",
       "╰────────────────────────────────────────────────────── End ──────────────────────────────────────────────────────╯\n"
      ]
     },
     "metadata": {},
     "output_type": "display_data"
    },
    {
     "data": {
      "text/html": [
       "<div><style>\n",
       ".dataframe > thead > tr,\n",
       ".dataframe > tbody > tr {\n",
       "  text-align: right;\n",
       "  white-space: pre-wrap;\n",
       "}\n",
       "</style>\n",
       "<small>shape: (3_103, 3)</small><table border=\"1\" class=\"dataframe\"><thead><tr><th>entity_id</th><th>timestamp</th><th>value</th></tr><tr><td>i64</td><td>datetime[μs]</td><td>i64</td></tr></thead><tbody><tr><td>1727</td><td>1966-08-01 07:08:00</td><td>1</td></tr><tr><td>2269</td><td>1965-09-07 11:14:00</td><td>1</td></tr><tr><td>6050</td><td>1969-10-28 22:11:00</td><td>1</td></tr><tr><td>2230</td><td>1966-10-06 16:26:00</td><td>1</td></tr><tr><td>6449</td><td>1966-02-06 14:18:00</td><td>1</td></tr><tr><td>3165</td><td>1965-03-03 18:44:00</td><td>1</td></tr><tr><td>9602</td><td>1968-07-01 03:24:00</td><td>1</td></tr><tr><td>9569</td><td>1968-02-07 11:17:00</td><td>1</td></tr><tr><td>12</td><td>1965-04-17 07:17:00</td><td>1</td></tr><tr><td>9224</td><td>1967-12-01 09:23:00</td><td>1</td></tr><tr><td>2638</td><td>1966-12-11 07:07:00</td><td>1</td></tr><tr><td>3415</td><td>1968-06-20 21:58:00</td><td>1</td></tr><tr><td>&hellip;</td><td>&hellip;</td><td>&hellip;</td></tr><tr><td>9679</td><td>1967-12-11 09:25:00</td><td>1</td></tr><tr><td>3376</td><td>1969-03-23 02:20:00</td><td>1</td></tr><tr><td>8348</td><td>1966-02-10 10:22:00</td><td>1</td></tr><tr><td>3370</td><td>1969-07-01 12:05:00</td><td>1</td></tr><tr><td>4576</td><td>1968-02-04 19:26:00</td><td>1</td></tr><tr><td>3623</td><td>1968-02-13 14:43:00</td><td>1</td></tr><tr><td>5591</td><td>1967-03-13 02:57:00</td><td>1</td></tr><tr><td>9563</td><td>1969-03-07 08:20:00</td><td>1</td></tr><tr><td>899</td><td>1967-07-30 06:03:00</td><td>1</td></tr><tr><td>7979</td><td>1967-02-13 12:39:00</td><td>1</td></tr><tr><td>8479</td><td>1965-09-11 10:29:00</td><td>1</td></tr><tr><td>1655</td><td>1966-05-21 13:06:00</td><td>1</td></tr></tbody></table></div>"
      ],
      "text/plain": [
       "shape: (3_103, 3)\n",
       "┌───────────┬─────────────────────┬───────┐\n",
       "│ entity_id ┆ timestamp           ┆ value │\n",
       "│ ---       ┆ ---                 ┆ ---   │\n",
       "│ i64       ┆ datetime[μs]        ┆ i64   │\n",
       "╞═══════════╪═════════════════════╪═══════╡\n",
       "│ 1727      ┆ 1966-08-01 07:08:00 ┆ 1     │\n",
       "│ 2269      ┆ 1965-09-07 11:14:00 ┆ 1     │\n",
       "│ 6050      ┆ 1969-10-28 22:11:00 ┆ 1     │\n",
       "│ 2230      ┆ 1966-10-06 16:26:00 ┆ 1     │\n",
       "│ 6449      ┆ 1966-02-06 14:18:00 ┆ 1     │\n",
       "│ …         ┆ …                   ┆ …     │\n",
       "│ 9563      ┆ 1969-03-07 08:20:00 ┆ 1     │\n",
       "│ 899       ┆ 1967-07-30 06:03:00 ┆ 1     │\n",
       "│ 7979      ┆ 1967-02-13 12:39:00 ┆ 1     │\n",
       "│ 8479      ┆ 1965-09-11 10:29:00 ┆ 1     │\n",
       "│ 1655      ┆ 1966-05-21 13:06:00 ┆ 1     │\n",
       "└───────────┴─────────────────────┴───────┘"
      ]
     },
     "execution_count": 4,
     "metadata": {},
     "output_type": "execute_result"
    }
   ],
   "source": [
    "from timeseriesflattener.testing.load_synth_data import load_synth_outcome\n",
    "\n",
    "df_synth_outcome = load_synth_outcome()\n",
    "\n",
    "skim(df_synth_outcome)\n",
    "df_synth_outcome"
   ]
  },
  {
   "attachments": {},
   "cell_type": "markdown",
   "metadata": {},
   "source": [
    "This dataframe should contain at most 1 row per ID, which is the first time they experience the outcome.\n",
    "\n",
    "We now have 4 dataframes loaded: df_prediction_times, df_synth_predictors, df_synth_sex and df_synth_outcome.\n"
   ]
  },
  {
   "attachments": {},
   "cell_type": "markdown",
   "metadata": {},
   "source": [
    "## Specifying how to flatten the data\n",
    "\n",
    "We'll have to specify how to flatten predictors and outcomes. To do this, we use the feature specification objects as \"recipes\" for each column in our finished dataframe. Firstly, we'll specify the outcome specification.\n"
   ]
  },
  {
   "attachments": {},
   "cell_type": "markdown",
   "metadata": {},
   "source": [
    "### Temporal outcome specification\n"
   ]
  },
  {
   "attachments": {},
   "cell_type": "markdown",
   "metadata": {},
   "source": [
    "![](img/term_a.png)\n",
    "\n",
    "The main decision to make for outcomes is the size of the **lookahead** window. It determines how far into the future from a given prediction time to look for outcome values.\n",
    "A **prediction time** indicates at which point the model issues a prediction, and is used as a reference for the _lookahead_.\n"
   ]
  },
  {
   "attachments": {},
   "cell_type": "markdown",
   "metadata": {},
   "source": [
    "![](img/term_b.png)\n",
    "\n",
    "We want labels for prediction times to be 0 if the outcome never occurs, or if the outcome happens outside the lookahead window. Labels should only be 1 if the outcome occurs inside the lookahead window. Let's specify this in code.\n"
   ]
  },
  {
   "cell_type": "code",
   "execution_count": null,
   "metadata": {},
   "outputs": [
    {
     "ename": "",
     "evalue": "",
     "output_type": "error",
     "traceback": [
      "\u001b[1;31mRunning cells with '.venv' requires the ipykernel package.\n",
      "\u001b[1;31mRun the following command to install 'ipykernel' into the Python environment. \n",
      "\u001b[1;31mCommand: '/Users/au554730/Desktop/Projects/timeseriesflattener/.venv/bin/python -m pip install ipykernel -U --force-reinstall'"
     ]
    }
   ],
   "source": [
    "import datetime as dt\n",
    "\n",
    "import pandas as pd\n",
    "from timeseriesflattener import BooleanOutcomeSpec, TimestampValueFrame, ValueFrame\n",
    "from timeseriesflattener.aggregators import MaxAggregator\n",
    "\n",
    "test_df = pd.DataFrame({\"entity_id\": [0], \"timestamp\": [pd.Timestamp(\"2020-01-01\")]})\n",
    "\n",
    "outcome_spec = BooleanOutcomeSpec(\n",
    "    init_frame=TimestampValueFrame(\n",
    "        entity_id_col_name=\"entity_id\", init_df=test_df, value_timestamp_col_name=\"timestamp\"\n",
    "    ),\n",
    "    lookahead_distances=[dt.timedelta(days=365)],\n",
    "    aggregators=[MaxAggregator()],\n",
    "    output_name=\"outcome\",\n",
    "    column_prefix=\"outc\",\n",
    ")"
   ]
  },
  {
   "attachments": {},
   "cell_type": "markdown",
   "metadata": {},
   "source": [
    "Since our outcome is binary, we want each prediction time to be labeled with 0 for the outcome if none is present within lookahead days. To do this, we use the fallback argument, which specifies the default value to use if none are found in `values_df` within `lookahead`. For the BooleanOutcomeSpec, this is hardcoded to 0.\n",
    "\n",
    "Your use case determines how you want to handle multiple outcome values within lookahead days. In this case, we decide that any prediction time with at least one outcome (a timestamp in the loaded outcome data with a corresponding value of 1) within the specified lookahead days is \"positive\". I.e., if there is both a 0 and a 1 within lookahead days, the prediction time should be labeled with a 1. We set `aggregators = [MaxAggregator()]` to accomplish this.\n",
    "\n",
    "Here, we specifiy that we want to look 365 days forward from the prediction time to search for outcomes. If we wanted to require a certain period of time from the prediction time before we look for outcome values, we can specify `lookahead` as an interval of (min_days, max_days) as a tuple instead.\n",
    "\n",
    "Lastly, we specify a name of the outcome which'll be used when generating its column.\n"
   ]
  },
  {
   "attachments": {},
   "cell_type": "markdown",
   "metadata": {},
   "source": [
    "### Temporal predictor specification\n"
   ]
  },
  {
   "attachments": {},
   "cell_type": "markdown",
   "metadata": {},
   "source": [
    "Specifying a predictor is almost entirely identical to specifying an outcome. The only exception is that it looks a given number of days into the past from each prediction time instead of ahead.\n"
   ]
  },
  {
   "cell_type": "code",
   "execution_count": null,
   "metadata": {},
   "outputs": [
    {
     "ename": "",
     "evalue": "",
     "output_type": "error",
     "traceback": [
      "\u001b[1;31mRunning cells with '.venv' requires the ipykernel package.\n",
      "\u001b[1;31mRun the following command to install 'ipykernel' into the Python environment. \n",
      "\u001b[1;31mCommand: '/Users/au554730/Desktop/Projects/timeseriesflattener/.venv/bin/python -m pip install ipykernel -U --force-reinstall'"
     ]
    }
   ],
   "source": [
    "import numpy as np\n",
    "from timeseriesflattener import PredictorSpec, StaticSpec\n",
    "from timeseriesflattener.aggregators import MeanAggregator\n",
    "\n",
    "temporal_predictor_spec = PredictorSpec(\n",
    "    value_frame=ValueFrame(\n",
    "        entity_id_col_name=\"entity_id\",\n",
    "        init_df=df_synth_predictors.rename({\"value\": \"value_1\"}),\n",
    "        value_timestamp_col_name=\"timestamp\",\n",
    "    ),\n",
    "    aggregators=[MeanAggregator()],\n",
    "    column_prefix=\"pred\",\n",
    "    fallback=np.nan,\n",
    "    lookbehind_distances=[dt.timedelta(days=730)],\n",
    ")"
   ]
  },
  {
   "attachments": {},
   "cell_type": "markdown",
   "metadata": {},
   "source": [
    "![](img/term_c.png)\n",
    "\n",
    "Values within the _lookbehind_ window are aggregated using `aggregators`, for example the mean as shown in this example, or max/min etc.\n"
   ]
  },
  {
   "cell_type": "markdown",
   "metadata": {},
   "source": [
    "Note that we rename the value column to value_1. The value column's name determines the name of the output column after aggregation. To avoid multiple output columns with the same name, all input value columns must have unique names.\n"
   ]
  },
  {
   "cell_type": "markdown",
   "metadata": {},
   "source": [
    "Temporal predictors can also be specified to look for values within a certain time range from the prediction time, similar to outcome specifications. For instance, you might want to create multiple predictors, where one looks for values within (0, 30) days, and another within (31, 182) days.\n",
    "\n",
    "This can easily be specified by passing a tuple[min_days, max_days] to the lookbehind_days parameter.\n"
   ]
  },
  {
   "cell_type": "code",
   "execution_count": null,
   "metadata": {},
   "outputs": [
    {
     "ename": "",
     "evalue": "",
     "output_type": "error",
     "traceback": [
      "\u001b[1;31mRunning cells with '.venv' requires the ipykernel package.\n",
      "\u001b[1;31mRun the following command to install 'ipykernel' into the Python environment. \n",
      "\u001b[1;31mCommand: '/Users/au554730/Desktop/Projects/timeseriesflattener/.venv/bin/python -m pip install ipykernel -U --force-reinstall'"
     ]
    }
   ],
   "source": [
    "temporal_interval_predictor_spec = PredictorSpec(\n",
    "    value_frame=ValueFrame(\n",
    "        entity_id_col_name=\"entity_id\",\n",
    "        init_df=df_synth_predictors.rename({\"value\": \"value_2\"}),\n",
    "        value_timestamp_col_name=\"timestamp\",\n",
    "    ),\n",
    "    aggregators=[MeanAggregator()],\n",
    "    column_prefix=\"pred\",\n",
    "    fallback=np.nan,\n",
    "    lookbehind_distances=[(dt.timedelta(days=10), dt.timedelta(days=365))],\n",
    ")"
   ]
  },
  {
   "attachments": {},
   "cell_type": "markdown",
   "metadata": {},
   "source": [
    "### Static predictor specification\n",
    "\n",
    "Static features should be specified using `StaticSpec` as they are handled slightly differently. As in the previous specifications, we provide a `values_df` containing the values and we set the feature name. However, now we also add a prefix. By default, `PredictorSpec` prefixes columns with “pred” and `OutcomeSpec` prefixes columns with “outc” to make filtering easy.\n",
    "As `StaticSpec` can be used for both generating predictors and outcomes, we manually set the prefix to be “pred”, as sex is used as predictor in this case.\n"
   ]
  },
  {
   "cell_type": "code",
   "execution_count": null,
   "metadata": {},
   "outputs": [
    {
     "data": {
      "text/html": [
       "<div><style>\n",
       ".dataframe > thead > tr,\n",
       ".dataframe > tbody > tr {\n",
       "  text-align: right;\n",
       "  white-space: pre-wrap;\n",
       "}\n",
       "</style>\n",
       "<small>shape: (9_999, 2)</small><table border=\"1\" class=\"dataframe\"><thead><tr><th>entity_id</th><th>female</th></tr><tr><td>i64</td><td>i64</td></tr></thead><tbody><tr><td>0</td><td>0</td></tr><tr><td>1</td><td>1</td></tr><tr><td>2</td><td>1</td></tr><tr><td>3</td><td>1</td></tr><tr><td>4</td><td>0</td></tr><tr><td>5</td><td>0</td></tr><tr><td>6</td><td>0</td></tr><tr><td>7</td><td>0</td></tr><tr><td>8</td><td>1</td></tr><tr><td>9</td><td>0</td></tr><tr><td>10</td><td>0</td></tr><tr><td>11</td><td>0</td></tr><tr><td>&hellip;</td><td>&hellip;</td></tr><tr><td>9988</td><td>1</td></tr><tr><td>9989</td><td>0</td></tr><tr><td>9990</td><td>1</td></tr><tr><td>9991</td><td>0</td></tr><tr><td>9992</td><td>0</td></tr><tr><td>9993</td><td>0</td></tr><tr><td>9994</td><td>1</td></tr><tr><td>9995</td><td>0</td></tr><tr><td>9996</td><td>0</td></tr><tr><td>9997</td><td>1</td></tr><tr><td>9998</td><td>1</td></tr><tr><td>9999</td><td>0</td></tr></tbody></table></div>"
      ],
      "text/plain": [
       "shape: (9_999, 2)\n",
       "┌───────────┬────────┐\n",
       "│ entity_id ┆ female │\n",
       "│ ---       ┆ ---    │\n",
       "│ i64       ┆ i64    │\n",
       "╞═══════════╪════════╡\n",
       "│ 0         ┆ 0      │\n",
       "│ 1         ┆ 1      │\n",
       "│ 2         ┆ 1      │\n",
       "│ 3         ┆ 1      │\n",
       "│ 4         ┆ 0      │\n",
       "│ …         ┆ …      │\n",
       "│ 9995      ┆ 0      │\n",
       "│ 9996      ┆ 0      │\n",
       "│ 9997      ┆ 1      │\n",
       "│ 9998      ┆ 1      │\n",
       "│ 9999      ┆ 0      │\n",
       "└───────────┴────────┘"
      ]
     },
     "execution_count": 8,
     "metadata": {},
     "output_type": "execute_result"
    }
   ],
   "source": [
    "from timeseriesflattener import StaticFrame\n",
    "\n",
    "sex_predictor_spec = StaticSpec(\n",
    "    value_frame=StaticFrame(init_df=df_synth_sex), column_prefix=\"pred\", fallback=np.nan\n",
    ")\n",
    "\n",
    "df_synth_sex"
   ]
  },
  {
   "attachments": {},
   "cell_type": "markdown",
   "metadata": {},
   "source": [
    "Note that we don't need to specify which columns to aggregate. Timeseriesflattener aggregates all columns that are not `entity_id_col_name` or `value_timestamp_col_name` and uses the name(s) of the column(s) for the output."
   ]
  },
  {
   "attachments": {},
   "cell_type": "markdown",
   "metadata": {},
   "source": [
    "Now we're ready to flatten our dataset!\n"
   ]
  },
  {
   "attachments": {},
   "cell_type": "markdown",
   "metadata": {},
   "source": [
    "## Flattening\n",
    "\n",
    "Flattening is as easy as instantiating the `TimeseriesFlattener` class with the prediction times df along with dataset specific metadata and calling the `add_*` functions. `n_workers` can be set to parallelize operations across multiple cores.\n"
   ]
  },
  {
   "cell_type": "code",
   "execution_count": 9,
   "metadata": {},
   "outputs": [],
   "source": [
    "from timeseriesflattener import Flattener, PredictionTimeFrame\n",
    "\n",
    "flattener = Flattener(\n",
    "    predictiontime_frame=PredictionTimeFrame(\n",
    "        init_df=df_prediction_times, entity_id_col_name=\"entity_id\", timestamp_col_name=\"timestamp\"\n",
    "    )\n",
    ")"
   ]
  },
  {
   "cell_type": "code",
   "execution_count": 16,
   "metadata": {},
   "outputs": [
    {
     "data": {
      "text/html": [
       "<pre style=\"white-space:pre;overflow-x:auto;line-height:normal;font-family:Menlo,'DejaVu Sans Mono',consolas,'Courier New',monospace\">/Users/au484925/Desktop/Git/timeseriesflattener/.venv/lib/python3.9/site-packages/rich/live.py:231: UserWarning: \n",
       "install \"ipywidgets\" for Jupyter support\n",
       "  warnings.warn('install \"ipywidgets\" for Jupyter support')\n",
       "</pre>\n"
      ],
      "text/plain": [
       "/Users/au484925/Desktop/Git/timeseriesflattener/.venv/lib/python3.9/site-packages/rich/live.py:231: UserWarning: \n",
       "install \"ipywidgets\" for Jupyter support\n",
       "  warnings.warn('install \"ipywidgets\" for Jupyter support')\n"
      ]
     },
     "metadata": {},
     "output_type": "display_data"
    },
    {
     "data": {
      "text/html": [
       "<pre style=\"white-space:pre;overflow-x:auto;line-height:normal;font-family:Menlo,'DejaVu Sans Mono',consolas,'Courier New',monospace\">Processing spec: female\n",
       "</pre>\n"
      ],
      "text/plain": [
       "Processing spec: female\n"
      ]
     },
     "metadata": {},
     "output_type": "display_data"
    },
    {
     "data": {
      "text/html": [
       "<pre style=\"white-space:pre;overflow-x:auto;line-height:normal;font-family:Menlo,'DejaVu Sans Mono',consolas,'Courier New',monospace\">Processing spec: value_1\n",
       "</pre>\n"
      ],
      "text/plain": [
       "Processing spec: value_1\n"
      ]
     },
     "metadata": {},
     "output_type": "display_data"
    },
    {
     "data": {
      "text/html": [
       "<pre style=\"white-space:pre;overflow-x:auto;line-height:normal;font-family:Menlo,'DejaVu Sans Mono',consolas,'Courier New',monospace\">Processing spec: value_2\n",
       "</pre>\n"
      ],
      "text/plain": [
       "Processing spec: value_2\n"
      ]
     },
     "metadata": {},
     "output_type": "display_data"
    },
    {
     "data": {
      "text/html": [
       "<pre style=\"white-space:pre;overflow-x:auto;line-height:normal;font-family:Menlo,'DejaVu Sans Mono',consolas,'Courier New',monospace\">Processing spec: value\n",
       "</pre>\n"
      ],
      "text/plain": [
       "Processing spec: value\n"
      ]
     },
     "metadata": {},
     "output_type": "display_data"
    },
    {
     "data": {
      "text/html": [
       "<pre style=\"white-space:pre;overflow-x:auto;line-height:normal;font-family:Menlo,'DejaVu Sans Mono',consolas,'Courier New',monospace\"></pre>\n"
      ],
      "text/plain": []
     },
     "metadata": {},
     "output_type": "display_data"
    },
    {
     "data": {
      "text/html": [
       "<pre style=\"white-space:pre;overflow-x:auto;line-height:normal;font-family:Menlo,'DejaVu Sans Mono',consolas,'Courier New',monospace\">\n",
       "</pre>\n"
      ],
      "text/plain": [
       "\n"
      ]
     },
     "metadata": {},
     "output_type": "display_data"
    },
    {
     "name": "stderr",
     "output_type": "stream",
     "text": [
      "/Users/au484925/Desktop/Git/timeseriesflattener/.venv/lib/python3.9/site-packages/numpy/lib/histograms.py:885: RuntimeWarning: invalid value encountered in divide\n",
      "  return n/db/n.sum(), bin_edges\n"
     ]
    },
    {
     "data": {
      "text/html": [
       "<pre style=\"white-space:pre;overflow-x:auto;line-height:normal;font-family:Menlo,'DejaVu Sans Mono',consolas,'Courier New',monospace\">╭──────────────────────────────────────────────── skimpy summary ─────────────────────────────────────────────────╮\n",
       "│ <span style=\"font-style: italic\">         Data Summary         </span> <span style=\"font-style: italic\">      Data Types       </span>                                                          │\n",
       "│ ┏━━━━━━━━━━━━━━━━━━━┳━━━━━━━━┓ ┏━━━━━━━━━━━━━┳━━━━━━━┓                                                          │\n",
       "│ ┃<span style=\"color: #008080; text-decoration-color: #008080; font-weight: bold\"> dataframe         </span>┃<span style=\"color: #008080; text-decoration-color: #008080; font-weight: bold\"> Values </span>┃ ┃<span style=\"color: #008080; text-decoration-color: #008080; font-weight: bold\"> Column Type </span>┃<span style=\"color: #008080; text-decoration-color: #008080; font-weight: bold\"> Count </span>┃                                                          │\n",
       "│ ┡━━━━━━━━━━━━━━━━━━━╇━━━━━━━━┩ ┡━━━━━━━━━━━━━╇━━━━━━━┩                                                          │\n",
       "│ │ Number of rows    │ 10000  │ │ int64       │ 3     │                                                          │\n",
       "│ │ Number of columns │ 7      │ │ float64     │ 2     │                                                          │\n",
       "│ └───────────────────┴────────┘ │ datetime64  │ 1     │                                                          │\n",
       "│                                │ string      │ 1     │                                                          │\n",
       "│                                └─────────────┴───────┘                                                          │\n",
       "│ <span style=\"font-style: italic\">                                                    number                                                    </span>  │\n",
       "│ ┏━━━━━━━━━━━━━━━━━━━━━━━━━┳━━━━━━━━┳━━━━━━━┳━━━━━━━━━┳━━━━━━━┳━━━━━━━┳━━━━━━━┳━━━━━━━┳━━━━━━┳━━━━━━━┳━━━━━━━━┓  │\n",
       "│ ┃<span style=\"font-weight: bold\"> column_name             </span>┃<span style=\"font-weight: bold\"> NA     </span>┃<span style=\"font-weight: bold\"> NA %  </span>┃<span style=\"font-weight: bold\"> mean    </span>┃<span style=\"font-weight: bold\"> sd    </span>┃<span style=\"font-weight: bold\"> p0    </span>┃<span style=\"font-weight: bold\"> p25   </span>┃<span style=\"font-weight: bold\"> p50   </span>┃<span style=\"font-weight: bold\"> p75  </span>┃<span style=\"font-weight: bold\"> p100  </span>┃<span style=\"font-weight: bold\"> hist   </span>┃  │\n",
       "│ ┡━━━━━━━━━━━━━━━━━━━━━━━━━╇━━━━━━━━╇━━━━━━━╇━━━━━━━━━╇━━━━━━━╇━━━━━━━╇━━━━━━━╇━━━━━━━╇━━━━━━╇━━━━━━━╇━━━━━━━━┩  │\n",
       "│ │ <span style=\"color: #af87ff; text-decoration-color: #af87ff\">entity_id              </span> │ <span style=\"color: #008080; text-decoration-color: #008080\">     0</span> │ <span style=\"color: #008080; text-decoration-color: #008080\">    0</span> │ <span style=\"color: #008080; text-decoration-color: #008080\">   5000</span> │ <span style=\"color: #008080; text-decoration-color: #008080\"> 2900</span> │ <span style=\"color: #008080; text-decoration-color: #008080\">    0</span> │ <span style=\"color: #008080; text-decoration-color: #008080\"> 2500</span> │ <span style=\"color: #008080; text-decoration-color: #008080\"> 4900</span> │ <span style=\"color: #008080; text-decoration-color: #008080\">7400</span> │ <span style=\"color: #008080; text-decoration-color: #008080\">10000</span> │ <span style=\"color: #008000; text-decoration-color: #008000\">▇▇▇▇▇▇</span> │  │\n",
       "│ │ <span style=\"color: #af87ff; text-decoration-color: #af87ff\">pred_female_fallback_na</span> │ <span style=\"color: #008080; text-decoration-color: #008080\">     0</span> │ <span style=\"color: #008080; text-decoration-color: #008080\">    0</span> │ <span style=\"color: #008080; text-decoration-color: #008080\">   0.49</span> │ <span style=\"color: #008080; text-decoration-color: #008080\">  0.5</span> │ <span style=\"color: #008080; text-decoration-color: #008080\">    0</span> │ <span style=\"color: #008080; text-decoration-color: #008080\">    0</span> │ <span style=\"color: #008080; text-decoration-color: #008080\">    0</span> │ <span style=\"color: #008080; text-decoration-color: #008080\">   1</span> │ <span style=\"color: #008080; text-decoration-color: #008080\">    1</span> │ <span style=\"color: #008000; text-decoration-color: #008000\">▇    ▇</span> │  │\n",
       "│ │ <span style=\"color: #af87ff; text-decoration-color: #af87ff\">n                      </span> │        │       │         │       │       │       │       │      │       │        │  │\n",
       "│ │ <span style=\"color: #af87ff; text-decoration-color: #af87ff\">pred_value_1_within_0_t</span> │ <span style=\"color: #008080; text-decoration-color: #008080\">     0</span> │ <span style=\"color: #008080; text-decoration-color: #008080\">    0</span> │ <span style=\"color: #008080; text-decoration-color: #008080\">      5</span> │ <span style=\"color: #008080; text-decoration-color: #008080\"> 0.97</span> │ <span style=\"color: #008080; text-decoration-color: #008080\"> 0.66</span> │ <span style=\"color: #008080; text-decoration-color: #008080\">  4.3</span> │ <span style=\"color: #008080; text-decoration-color: #008080\">    5</span> │ <span style=\"color: #008080; text-decoration-color: #008080\"> 5.6</span> │ <span style=\"color: #008080; text-decoration-color: #008080\">    9</span> │ <span style=\"color: #008000; text-decoration-color: #008000\"> ▁▇▇▂ </span> │  │\n",
       "│ │ <span style=\"color: #af87ff; text-decoration-color: #af87ff\">o_730_days_mean_fallbac</span> │        │       │         │       │       │       │       │      │       │        │  │\n",
       "│ │ <span style=\"color: #af87ff; text-decoration-color: #af87ff\">k_nan                  </span> │        │       │         │       │       │       │       │      │       │        │  │\n",
       "│ │ <span style=\"color: #af87ff; text-decoration-color: #af87ff\">pred_value_2_within_10_</span> │ <span style=\"color: #008080; text-decoration-color: #008080\"> 10000</span> │ <span style=\"color: #008080; text-decoration-color: #008080\">  100</span> │ <span style=\"color: #008080; text-decoration-color: #008080\">    nan</span> │ <span style=\"color: #008080; text-decoration-color: #008080\">  nan</span> │ <span style=\"color: #008080; text-decoration-color: #008080\">  nan</span> │ <span style=\"color: #008080; text-decoration-color: #008080\">  nan</span> │ <span style=\"color: #008080; text-decoration-color: #008080\">  nan</span> │ <span style=\"color: #008080; text-decoration-color: #008080\"> nan</span> │ <span style=\"color: #008080; text-decoration-color: #008080\">  nan</span> │ <span style=\"color: #008000; text-decoration-color: #008000\">      </span> │  │\n",
       "│ │ <span style=\"color: #af87ff; text-decoration-color: #af87ff\">to_365_days_mean_fallba</span> │        │       │         │       │       │       │       │      │       │        │  │\n",
       "│ │ <span style=\"color: #af87ff; text-decoration-color: #af87ff\">ck_nan                 </span> │        │       │         │       │       │       │       │      │       │        │  │\n",
       "│ │ <span style=\"color: #af87ff; text-decoration-color: #af87ff\">outc_value_within_0_to_</span> │ <span style=\"color: #008080; text-decoration-color: #008080\">     0</span> │ <span style=\"color: #008080; text-decoration-color: #008080\">    0</span> │ <span style=\"color: #008080; text-decoration-color: #008080\"> 0.0001</span> │ <span style=\"color: #008080; text-decoration-color: #008080\"> 0.01</span> │ <span style=\"color: #008080; text-decoration-color: #008080\">    0</span> │ <span style=\"color: #008080; text-decoration-color: #008080\">    0</span> │ <span style=\"color: #008080; text-decoration-color: #008080\">    0</span> │ <span style=\"color: #008080; text-decoration-color: #008080\">   0</span> │ <span style=\"color: #008080; text-decoration-color: #008080\">    1</span> │ <span style=\"color: #008000; text-decoration-color: #008000\">  ▇   </span> │  │\n",
       "│ │ <span style=\"color: #af87ff; text-decoration-color: #af87ff\">365_days_max_fallback_0</span> │        │       │         │       │       │       │       │      │       │        │  │\n",
       "│ └─────────────────────────┴────────┴───────┴─────────┴───────┴───────┴───────┴───────┴──────┴───────┴────────┘  │\n",
       "│ <span style=\"font-style: italic\">                                                   datetime                                                   </span>  │\n",
       "│ ┏━━━━━━━━━━━━━━━━━━┳━━━━━━┳━━━━━━━━━┳━━━━━━━━━━━━━━━━━━━━━━━━━━━━┳━━━━━━━━━━━━━━━━━━━━━━━━━━━━┳━━━━━━━━━━━━━━┓  │\n",
       "│ ┃<span style=\"font-weight: bold\"> column_name      </span>┃<span style=\"font-weight: bold\"> NA   </span>┃<span style=\"font-weight: bold\"> NA %    </span>┃<span style=\"font-weight: bold\"> first                      </span>┃<span style=\"font-weight: bold\"> last                       </span>┃<span style=\"font-weight: bold\"> frequency    </span>┃  │\n",
       "│ ┡━━━━━━━━━━━━━━━━━━╇━━━━━━╇━━━━━━━━━╇━━━━━━━━━━━━━━━━━━━━━━━━━━━━╇━━━━━━━━━━━━━━━━━━━━━━━━━━━━╇━━━━━━━━━━━━━━┩  │\n",
       "│ │ <span style=\"color: #af87ff; text-decoration-color: #af87ff\">timestamp       </span> │ <span style=\"color: #008080; text-decoration-color: #008080\">   0</span> │ <span style=\"color: #008080; text-decoration-color: #008080\">      0</span> │ <span style=\"color: #800000; text-decoration-color: #800000\">   1965-01-02 09:35:00    </span> │ <span style=\"color: #800000; text-decoration-color: #800000\">   1969-12-31 21:42:00    </span> │ <span style=\"color: #af87ff; text-decoration-color: #af87ff\">None        </span> │  │\n",
       "│ └──────────────────┴──────┴─────────┴────────────────────────────┴────────────────────────────┴──────────────┘  │\n",
       "│ <span style=\"font-style: italic\">                                                    string                                                    </span>  │\n",
       "│ ┏━━━━━━━━━━━━━━━━━━━━━━━━━━━━━━━┳━━━━━━━━┳━━━━━━━━━━━━┳━━━━━━━━━━━━━━━━━━━━━━━━━━━━━┳━━━━━━━━━━━━━━━━━━━━━━━━┓  │\n",
       "│ ┃<span style=\"font-weight: bold\"> column_name                   </span>┃<span style=\"font-weight: bold\"> NA     </span>┃<span style=\"font-weight: bold\"> NA %       </span>┃<span style=\"font-weight: bold\"> words per row               </span>┃<span style=\"font-weight: bold\"> total words            </span>┃  │\n",
       "│ ┡━━━━━━━━━━━━━━━━━━━━━━━━━━━━━━━╇━━━━━━━━╇━━━━━━━━━━━━╇━━━━━━━━━━━━━━━━━━━━━━━━━━━━━╇━━━━━━━━━━━━━━━━━━━━━━━━┩  │\n",
       "│ │ <span style=\"color: #af87ff; text-decoration-color: #af87ff\">pred_time_uuid               </span> │ <span style=\"color: #008080; text-decoration-color: #008080\">     0</span> │ <span style=\"color: #008080; text-decoration-color: #008080\">         0</span> │ <span style=\"color: #008080; text-decoration-color: #008080\">                          2</span> │ <span style=\"color: #008080; text-decoration-color: #008080\">                 20000</span> │  │\n",
       "│ └───────────────────────────────┴────────┴────────────┴─────────────────────────────┴────────────────────────┘  │\n",
       "╰────────────────────────────────────────────────────── End ──────────────────────────────────────────────────────╯\n",
       "</pre>\n"
      ],
      "text/plain": [
       "╭──────────────────────────────────────────────── skimpy summary ─────────────────────────────────────────────────╮\n",
       "│ \u001b[3m         Data Summary         \u001b[0m \u001b[3m      Data Types       \u001b[0m                                                          │\n",
       "│ ┏━━━━━━━━━━━━━━━━━━━┳━━━━━━━━┓ ┏━━━━━━━━━━━━━┳━━━━━━━┓                                                          │\n",
       "│ ┃\u001b[1;36m \u001b[0m\u001b[1;36mdataframe        \u001b[0m\u001b[1;36m \u001b[0m┃\u001b[1;36m \u001b[0m\u001b[1;36mValues\u001b[0m\u001b[1;36m \u001b[0m┃ ┃\u001b[1;36m \u001b[0m\u001b[1;36mColumn Type\u001b[0m\u001b[1;36m \u001b[0m┃\u001b[1;36m \u001b[0m\u001b[1;36mCount\u001b[0m\u001b[1;36m \u001b[0m┃                                                          │\n",
       "│ ┡━━━━━━━━━━━━━━━━━━━╇━━━━━━━━┩ ┡━━━━━━━━━━━━━╇━━━━━━━┩                                                          │\n",
       "│ │ Number of rows    │ 10000  │ │ int64       │ 3     │                                                          │\n",
       "│ │ Number of columns │ 7      │ │ float64     │ 2     │                                                          │\n",
       "│ └───────────────────┴────────┘ │ datetime64  │ 1     │                                                          │\n",
       "│                                │ string      │ 1     │                                                          │\n",
       "│                                └─────────────┴───────┘                                                          │\n",
       "│ \u001b[3m                                                    number                                                    \u001b[0m  │\n",
       "│ ┏━━━━━━━━━━━━━━━━━━━━━━━━━┳━━━━━━━━┳━━━━━━━┳━━━━━━━━━┳━━━━━━━┳━━━━━━━┳━━━━━━━┳━━━━━━━┳━━━━━━┳━━━━━━━┳━━━━━━━━┓  │\n",
       "│ ┃\u001b[1m \u001b[0m\u001b[1mcolumn_name            \u001b[0m\u001b[1m \u001b[0m┃\u001b[1m \u001b[0m\u001b[1mNA    \u001b[0m\u001b[1m \u001b[0m┃\u001b[1m \u001b[0m\u001b[1mNA % \u001b[0m\u001b[1m \u001b[0m┃\u001b[1m \u001b[0m\u001b[1mmean   \u001b[0m\u001b[1m \u001b[0m┃\u001b[1m \u001b[0m\u001b[1msd   \u001b[0m\u001b[1m \u001b[0m┃\u001b[1m \u001b[0m\u001b[1mp0   \u001b[0m\u001b[1m \u001b[0m┃\u001b[1m \u001b[0m\u001b[1mp25  \u001b[0m\u001b[1m \u001b[0m┃\u001b[1m \u001b[0m\u001b[1mp50  \u001b[0m\u001b[1m \u001b[0m┃\u001b[1m \u001b[0m\u001b[1mp75 \u001b[0m\u001b[1m \u001b[0m┃\u001b[1m \u001b[0m\u001b[1mp100 \u001b[0m\u001b[1m \u001b[0m┃\u001b[1m \u001b[0m\u001b[1mhist  \u001b[0m\u001b[1m \u001b[0m┃  │\n",
       "│ ┡━━━━━━━━━━━━━━━━━━━━━━━━━╇━━━━━━━━╇━━━━━━━╇━━━━━━━━━╇━━━━━━━╇━━━━━━━╇━━━━━━━╇━━━━━━━╇━━━━━━╇━━━━━━━╇━━━━━━━━┩  │\n",
       "│ │ \u001b[38;5;141mentity_id              \u001b[0m │ \u001b[36m     0\u001b[0m │ \u001b[36m    0\u001b[0m │ \u001b[36m   5000\u001b[0m │ \u001b[36m 2900\u001b[0m │ \u001b[36m    0\u001b[0m │ \u001b[36m 2500\u001b[0m │ \u001b[36m 4900\u001b[0m │ \u001b[36m7400\u001b[0m │ \u001b[36m10000\u001b[0m │ \u001b[32m▇▇▇▇▇▇\u001b[0m │  │\n",
       "│ │ \u001b[38;5;141mpred_female_fallback_na\u001b[0m │ \u001b[36m     0\u001b[0m │ \u001b[36m    0\u001b[0m │ \u001b[36m   0.49\u001b[0m │ \u001b[36m  0.5\u001b[0m │ \u001b[36m    0\u001b[0m │ \u001b[36m    0\u001b[0m │ \u001b[36m    0\u001b[0m │ \u001b[36m   1\u001b[0m │ \u001b[36m    1\u001b[0m │ \u001b[32m▇    ▇\u001b[0m │  │\n",
       "│ │ \u001b[38;5;141mn                      \u001b[0m │        │       │         │       │       │       │       │      │       │        │  │\n",
       "│ │ \u001b[38;5;141mpred_value_1_within_0_t\u001b[0m │ \u001b[36m     0\u001b[0m │ \u001b[36m    0\u001b[0m │ \u001b[36m      5\u001b[0m │ \u001b[36m 0.97\u001b[0m │ \u001b[36m 0.66\u001b[0m │ \u001b[36m  4.3\u001b[0m │ \u001b[36m    5\u001b[0m │ \u001b[36m 5.6\u001b[0m │ \u001b[36m    9\u001b[0m │ \u001b[32m ▁▇▇▂ \u001b[0m │  │\n",
       "│ │ \u001b[38;5;141mo_730_days_mean_fallbac\u001b[0m │        │       │         │       │       │       │       │      │       │        │  │\n",
       "│ │ \u001b[38;5;141mk_nan                  \u001b[0m │        │       │         │       │       │       │       │      │       │        │  │\n",
       "│ │ \u001b[38;5;141mpred_value_2_within_10_\u001b[0m │ \u001b[36m 10000\u001b[0m │ \u001b[36m  100\u001b[0m │ \u001b[36m    nan\u001b[0m │ \u001b[36m  nan\u001b[0m │ \u001b[36m  nan\u001b[0m │ \u001b[36m  nan\u001b[0m │ \u001b[36m  nan\u001b[0m │ \u001b[36m nan\u001b[0m │ \u001b[36m  nan\u001b[0m │ \u001b[32m      \u001b[0m │  │\n",
       "│ │ \u001b[38;5;141mto_365_days_mean_fallba\u001b[0m │        │       │         │       │       │       │       │      │       │        │  │\n",
       "│ │ \u001b[38;5;141mck_nan                 \u001b[0m │        │       │         │       │       │       │       │      │       │        │  │\n",
       "│ │ \u001b[38;5;141moutc_value_within_0_to_\u001b[0m │ \u001b[36m     0\u001b[0m │ \u001b[36m    0\u001b[0m │ \u001b[36m 0.0001\u001b[0m │ \u001b[36m 0.01\u001b[0m │ \u001b[36m    0\u001b[0m │ \u001b[36m    0\u001b[0m │ \u001b[36m    0\u001b[0m │ \u001b[36m   0\u001b[0m │ \u001b[36m    1\u001b[0m │ \u001b[32m  ▇   \u001b[0m │  │\n",
       "│ │ \u001b[38;5;141m365_days_max_fallback_0\u001b[0m │        │       │         │       │       │       │       │      │       │        │  │\n",
       "│ └─────────────────────────┴────────┴───────┴─────────┴───────┴───────┴───────┴───────┴──────┴───────┴────────┘  │\n",
       "│ \u001b[3m                                                   datetime                                                   \u001b[0m  │\n",
       "│ ┏━━━━━━━━━━━━━━━━━━┳━━━━━━┳━━━━━━━━━┳━━━━━━━━━━━━━━━━━━━━━━━━━━━━┳━━━━━━━━━━━━━━━━━━━━━━━━━━━━┳━━━━━━━━━━━━━━┓  │\n",
       "│ ┃\u001b[1m \u001b[0m\u001b[1mcolumn_name     \u001b[0m\u001b[1m \u001b[0m┃\u001b[1m \u001b[0m\u001b[1mNA  \u001b[0m\u001b[1m \u001b[0m┃\u001b[1m \u001b[0m\u001b[1mNA %   \u001b[0m\u001b[1m \u001b[0m┃\u001b[1m \u001b[0m\u001b[1mfirst                     \u001b[0m\u001b[1m \u001b[0m┃\u001b[1m \u001b[0m\u001b[1mlast                      \u001b[0m\u001b[1m \u001b[0m┃\u001b[1m \u001b[0m\u001b[1mfrequency   \u001b[0m\u001b[1m \u001b[0m┃  │\n",
       "│ ┡━━━━━━━━━━━━━━━━━━╇━━━━━━╇━━━━━━━━━╇━━━━━━━━━━━━━━━━━━━━━━━━━━━━╇━━━━━━━━━━━━━━━━━━━━━━━━━━━━╇━━━━━━━━━━━━━━┩  │\n",
       "│ │ \u001b[38;5;141mtimestamp       \u001b[0m │ \u001b[36m   0\u001b[0m │ \u001b[36m      0\u001b[0m │ \u001b[31m   1965-01-02 09:35:00    \u001b[0m │ \u001b[31m   1969-12-31 21:42:00    \u001b[0m │ \u001b[38;5;141mNone        \u001b[0m │  │\n",
       "│ └──────────────────┴──────┴─────────┴────────────────────────────┴────────────────────────────┴──────────────┘  │\n",
       "│ \u001b[3m                                                    string                                                    \u001b[0m  │\n",
       "│ ┏━━━━━━━━━━━━━━━━━━━━━━━━━━━━━━━┳━━━━━━━━┳━━━━━━━━━━━━┳━━━━━━━━━━━━━━━━━━━━━━━━━━━━━┳━━━━━━━━━━━━━━━━━━━━━━━━┓  │\n",
       "│ ┃\u001b[1m \u001b[0m\u001b[1mcolumn_name                  \u001b[0m\u001b[1m \u001b[0m┃\u001b[1m \u001b[0m\u001b[1mNA    \u001b[0m\u001b[1m \u001b[0m┃\u001b[1m \u001b[0m\u001b[1mNA %      \u001b[0m\u001b[1m \u001b[0m┃\u001b[1m \u001b[0m\u001b[1mwords per row              \u001b[0m\u001b[1m \u001b[0m┃\u001b[1m \u001b[0m\u001b[1mtotal words           \u001b[0m\u001b[1m \u001b[0m┃  │\n",
       "│ ┡━━━━━━━━━━━━━━━━━━━━━━━━━━━━━━━╇━━━━━━━━╇━━━━━━━━━━━━╇━━━━━━━━━━━━━━━━━━━━━━━━━━━━━╇━━━━━━━━━━━━━━━━━━━━━━━━┩  │\n",
       "│ │ \u001b[38;5;141mpred_time_uuid               \u001b[0m │ \u001b[36m     0\u001b[0m │ \u001b[36m         0\u001b[0m │ \u001b[36m                          2\u001b[0m │ \u001b[36m                 20000\u001b[0m │  │\n",
       "│ └───────────────────────────────┴────────┴────────────┴─────────────────────────────┴────────────────────────┘  │\n",
       "╰────────────────────────────────────────────────────── End ──────────────────────────────────────────────────────╯\n"
      ]
     },
     "metadata": {},
     "output_type": "display_data"
    },
    {
     "data": {
      "text/plain": [
       "['entity_id',\n",
       " 'timestamp',\n",
       " 'pred_time_uuid',\n",
       " 'pred_female_fallback_nan',\n",
       " 'pred_value_1_within_0_to_730_days_mean_fallback_nan',\n",
       " 'pred_value_2_within_10_to_365_days_mean_fallback_nan',\n",
       " 'outc_value_within_0_to_365_days_max_fallback_0']"
      ]
     },
     "execution_count": 16,
     "metadata": {},
     "output_type": "execute_result"
    }
   ],
   "source": [
    "df = flattener.aggregate_timeseries(\n",
    "    specs=[\n",
    "        sex_predictor_spec,\n",
    "        temporal_predictor_spec,\n",
    "        temporal_interval_predictor_spec,\n",
    "        outcome_spec,\n",
    "    ]\n",
    ").df.collect()\n",
    "\n",
    "skim(df)\n",
    "\n",
    "list(df.columns)"
   ]
  },
  {
   "cell_type": "code",
   "execution_count": 17,
   "metadata": {},
   "outputs": [
    {
     "data": {
      "text/html": [
       "<div><style>\n",
       ".dataframe > thead > tr,\n",
       ".dataframe > tbody > tr {\n",
       "  text-align: right;\n",
       "  white-space: pre-wrap;\n",
       "}\n",
       "</style>\n",
       "<small>shape: (10_000, 7)</small><table border=\"1\" class=\"dataframe\"><thead><tr><th>entity_id</th><th>timestamp</th><th>pred_time_uuid</th><th>pred_female_fallback_nan</th><th>predX</th><th>predX_30_to_90</th><th>outc_Y</th></tr><tr><td>i64</td><td>datetime[μs]</td><td>str</td><td>i64</td><td>f64</td><td>f64</td><td>i32</td></tr></thead><tbody><tr><td>9903</td><td>1968-05-09 21:24:00</td><td>&quot;9903-1968-05-0…</td><td>0</td><td>3.197213</td><td>NaN</td><td>0</td></tr><tr><td>7465</td><td>1966-05-24 01:23:00</td><td>&quot;7465-1966-05-2…</td><td>1</td><td>4.243969</td><td>NaN</td><td>0</td></tr><tr><td>6447</td><td>1967-09-25 18:08:00</td><td>&quot;6447-1967-09-2…</td><td>1</td><td>5.260492</td><td>NaN</td><td>0</td></tr><tr><td>2121</td><td>1966-05-05 20:52:00</td><td>&quot;2121-1966-05-0…</td><td>0</td><td>4.798062</td><td>NaN</td><td>0</td></tr><tr><td>4927</td><td>1968-06-30 12:13:00</td><td>&quot;4927-1968-06-3…</td><td>0</td><td>4.040067</td><td>NaN</td><td>0</td></tr><tr><td>5475</td><td>1967-01-09 03:09:00</td><td>&quot;5475-1967-01-0…</td><td>0</td><td>5.953548</td><td>NaN</td><td>0</td></tr><tr><td>3157</td><td>1969-10-07 05:01:00</td><td>&quot;3157-1969-10-0…</td><td>1</td><td>5.068696</td><td>NaN</td><td>0</td></tr><tr><td>9793</td><td>1968-12-15 12:59:00</td><td>&quot;9793-1968-12-1…</td><td>0</td><td>6.93591</td><td>NaN</td><td>0</td></tr><tr><td>5962</td><td>1965-11-08 17:03:00</td><td>&quot;5962-1965-11-0…</td><td>0</td><td>4.112929</td><td>NaN</td><td>0</td></tr><tr><td>9768</td><td>1967-07-04 23:09:00</td><td>&quot;9768-1967-07-0…</td><td>1</td><td>5.053019</td><td>NaN</td><td>0</td></tr><tr><td>9861</td><td>1969-01-22 17:34:00</td><td>&quot;9861-1969-01-2…</td><td>0</td><td>3.828896</td><td>NaN</td><td>0</td></tr><tr><td>657</td><td>1969-04-14 15:47:00</td><td>&quot;657-1969-04-14…</td><td>0</td><td>5.124361</td><td>NaN</td><td>0</td></tr><tr><td>&hellip;</td><td>&hellip;</td><td>&hellip;</td><td>&hellip;</td><td>&hellip;</td><td>&hellip;</td><td>&hellip;</td></tr><tr><td>6542</td><td>1967-04-15 14:37:00</td><td>&quot;6542-1967-04-1…</td><td>1</td><td>6.099213</td><td>NaN</td><td>0</td></tr><tr><td>5607</td><td>1966-02-14 02:15:00</td><td>&quot;5607-1966-02-1…</td><td>0</td><td>4.235413</td><td>NaN</td><td>0</td></tr><tr><td>4228</td><td>1967-02-26 05:45:00</td><td>&quot;4228-1967-02-2…</td><td>0</td><td>5.181058</td><td>NaN</td><td>0</td></tr><tr><td>8337</td><td>1965-07-14 08:14:00</td><td>&quot;8337-1965-07-1…</td><td>0</td><td>5.184373</td><td>NaN</td><td>0</td></tr><tr><td>9745</td><td>1969-02-04 01:18:00</td><td>&quot;9745-1969-02-0…</td><td>1</td><td>6.005186</td><td>NaN</td><td>0</td></tr><tr><td>7222</td><td>1966-06-07 16:10:00</td><td>&quot;7222-1966-06-0…</td><td>0</td><td>4.666051</td><td>NaN</td><td>0</td></tr><tr><td>3385</td><td>1967-07-17 19:18:00</td><td>&quot;3385-1967-07-1…</td><td>1</td><td>6.98234</td><td>NaN</td><td>0</td></tr><tr><td>7159</td><td>1966-12-12 16:32:00</td><td>&quot;7159-1966-12-1…</td><td>0</td><td>5.022668</td><td>NaN</td><td>0</td></tr><tr><td>147</td><td>1965-03-12 05:32:00</td><td>&quot;147-1965-03-12…</td><td>1</td><td>5.927239</td><td>NaN</td><td>0</td></tr><tr><td>1421</td><td>1968-04-15 15:53:00</td><td>&quot;1421-1968-04-1…</td><td>0</td><td>6.061767</td><td>NaN</td><td>0</td></tr><tr><td>3353</td><td>1966-01-15 10:04:00</td><td>&quot;3353-1966-01-1…</td><td>0</td><td>6.108344</td><td>NaN</td><td>0</td></tr><tr><td>1940</td><td>1968-05-17 10:49:00</td><td>&quot;1940-1968-05-1…</td><td>0</td><td>4.909043</td><td>NaN</td><td>0</td></tr></tbody></table></div>"
      ],
      "text/plain": [
       "shape: (10_000, 7)\n",
       "┌───────────┬────────────────┬────────────────┬────────────────┬──────────┬───────────────┬────────┐\n",
       "│ entity_id ┆ timestamp      ┆ pred_time_uuid ┆ pred_female_fa ┆ predX    ┆ predX_30_to_9 ┆ outc_Y │\n",
       "│ ---       ┆ ---            ┆ ---            ┆ llback_nan     ┆ ---      ┆ 0             ┆ ---    │\n",
       "│ i64       ┆ datetime[μs]   ┆ str            ┆ ---            ┆ f64      ┆ ---           ┆ i32    │\n",
       "│           ┆                ┆                ┆ i64            ┆          ┆ f64           ┆        │\n",
       "╞═══════════╪════════════════╪════════════════╪════════════════╪══════════╪═══════════════╪════════╡\n",
       "│ 9903      ┆ 1968-05-09     ┆ 9903-1968-05-0 ┆ 0              ┆ 3.197213 ┆ NaN           ┆ 0      │\n",
       "│           ┆ 21:24:00       ┆ 9 21:24:00.000 ┆                ┆          ┆               ┆        │\n",
       "│           ┆                ┆ 000            ┆                ┆          ┆               ┆        │\n",
       "│ 7465      ┆ 1966-05-24     ┆ 7465-1966-05-2 ┆ 1              ┆ 4.243969 ┆ NaN           ┆ 0      │\n",
       "│           ┆ 01:23:00       ┆ 4 01:23:00.000 ┆                ┆          ┆               ┆        │\n",
       "│           ┆                ┆ 000            ┆                ┆          ┆               ┆        │\n",
       "│ 6447      ┆ 1967-09-25     ┆ 6447-1967-09-2 ┆ 1              ┆ 5.260492 ┆ NaN           ┆ 0      │\n",
       "│           ┆ 18:08:00       ┆ 5 18:08:00.000 ┆                ┆          ┆               ┆        │\n",
       "│           ┆                ┆ 000            ┆                ┆          ┆               ┆        │\n",
       "│ 2121      ┆ 1966-05-05     ┆ 2121-1966-05-0 ┆ 0              ┆ 4.798062 ┆ NaN           ┆ 0      │\n",
       "│           ┆ 20:52:00       ┆ 5 20:52:00.000 ┆                ┆          ┆               ┆        │\n",
       "│           ┆                ┆ 000            ┆                ┆          ┆               ┆        │\n",
       "│ 4927      ┆ 1968-06-30     ┆ 4927-1968-06-3 ┆ 0              ┆ 4.040067 ┆ NaN           ┆ 0      │\n",
       "│           ┆ 12:13:00       ┆ 0 12:13:00.000 ┆                ┆          ┆               ┆        │\n",
       "│           ┆                ┆ 000            ┆                ┆          ┆               ┆        │\n",
       "│ …         ┆ …              ┆ …              ┆ …              ┆ …        ┆ …             ┆ …      │\n",
       "│ 7159      ┆ 1966-12-12     ┆ 7159-1966-12-1 ┆ 0              ┆ 5.022668 ┆ NaN           ┆ 0      │\n",
       "│           ┆ 16:32:00       ┆ 2 16:32:00.000 ┆                ┆          ┆               ┆        │\n",
       "│           ┆                ┆ 000            ┆                ┆          ┆               ┆        │\n",
       "│ 147       ┆ 1965-03-12     ┆ 147-1965-03-12 ┆ 1              ┆ 5.927239 ┆ NaN           ┆ 0      │\n",
       "│           ┆ 05:32:00       ┆ 05:32:00.00000 ┆                ┆          ┆               ┆        │\n",
       "│           ┆                ┆ 0              ┆                ┆          ┆               ┆        │\n",
       "│ 1421      ┆ 1968-04-15     ┆ 1421-1968-04-1 ┆ 0              ┆ 6.061767 ┆ NaN           ┆ 0      │\n",
       "│           ┆ 15:53:00       ┆ 5 15:53:00.000 ┆                ┆          ┆               ┆        │\n",
       "│           ┆                ┆ 000            ┆                ┆          ┆               ┆        │\n",
       "│ 3353      ┆ 1966-01-15     ┆ 3353-1966-01-1 ┆ 0              ┆ 6.108344 ┆ NaN           ┆ 0      │\n",
       "│           ┆ 10:04:00       ┆ 5 10:04:00.000 ┆                ┆          ┆               ┆        │\n",
       "│           ┆                ┆ 000            ┆                ┆          ┆               ┆        │\n",
       "│ 1940      ┆ 1968-05-17     ┆ 1940-1968-05-1 ┆ 0              ┆ 4.909043 ┆ NaN           ┆ 0      │\n",
       "│           ┆ 10:49:00       ┆ 7 10:49:00.000 ┆                ┆          ┆               ┆        │\n",
       "│           ┆                ┆ 000            ┆                ┆          ┆               ┆        │\n",
       "└───────────┴────────────────┴────────────────┴────────────────┴──────────┴───────────────┴────────┘"
      ]
     },
     "execution_count": 17,
     "metadata": {},
     "output_type": "execute_result"
    }
   ],
   "source": [
    "# For displayability, shorten col names\n",
    "shortened_pred = \"predX\"\n",
    "shortened_predinterval = \"predX_30_to_90\"\n",
    "shortened_outcome = \"outc_Y\"\n",
    "\n",
    "display_df = df.rename(\n",
    "    {\n",
    "        \"pred_value_1_within_0_to_730_days_mean_fallback_nan\": shortened_pred,\n",
    "        \"pred_value_2_within_10_to_365_days_mean_fallback_nan\": shortened_predinterval,\n",
    "        \"outc_outcome_within_0_to_365_days_max_fallback_0\": shortened_outcome,\n",
    "    }\n",
    ")\n",
    "display_df"
   ]
  },
  {
   "attachments": {},
   "cell_type": "markdown",
   "metadata": {},
   "source": [
    "And there we go! A dataframe ready for classification, containing:\n",
    "\n",
    "1. The citizen IDs\n",
    "2. Timestamps for each prediction time\n",
    "3. A unique identifier for each prediciton-time\n",
    "4. Our predictor columns, prefixed with `pred_` and\n",
    "5. Our outcome columns, prefixed with `outc_`\n"
   ]
  },
  {
   "cell_type": "markdown",
   "metadata": {},
   "source": []
  }
 ],
 "metadata": {
  "kernelspec": {
   "display_name": ".venv",
   "language": "python",
   "name": "python3"
  },
  "language_info": {
   "codemirror_mode": {
    "name": "ipython",
    "version": 3
   },
   "file_extension": ".py",
   "mimetype": "text/x-python",
   "name": "python",
   "nbconvert_exporter": "python",
   "pygments_lexer": "ipython3",
   "version": "3.9.18"
  },
  "orig_nbformat": 4,
  "vscode": {
   "interpreter": {
    "hash": "d2b49c0af2d95979144de75823f7cfbb268839811992fdd0cb17fc1bb54ce815"
   }
  }
 },
 "nbformat": 4,
 "nbformat_minor": 2
}

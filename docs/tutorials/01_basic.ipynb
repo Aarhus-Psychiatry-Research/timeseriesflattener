{
 "cells": [
  {
   "attachments": {},
   "cell_type": "markdown",
   "metadata": {},
   "source": [
    "# Introductory Tutorial\n"
   ]
  },
  {
   "attachments": {},
   "cell_type": "markdown",
   "metadata": {},
   "source": [
    "TimeseriesFlattener flattens timeseries. This is especially helpful if you have complicated and irregular time series but want to train simple models.\n",
    "\n",
    "We explain terminology as needed in this tutorial. If you need a reference, see the [docs](https://aarhus-psychiatry-research.github.io/timeseriesflattener/#functionality).\n",
    "\n",
    "Applying it consists of 3 steps:\n",
    "\n",
    "1. Loading data (prediction times, predictor(s), and outcome(s))\n",
    "2. Specifying how to flatten the data and\n",
    "3. Flattening\n",
    "\n",
    "The simplest case is adding one predictor and one outcome.\n",
    "\n",
    "First, we'll load the timestamps for every time we want to issue a prediction:\n"
   ]
  },
  {
   "attachments": {},
   "cell_type": "markdown",
   "metadata": {},
   "source": [
    "## Loading data\n"
   ]
  },
  {
   "attachments": {},
   "cell_type": "markdown",
   "metadata": {},
   "source": [
    "### Loading prediction times\n",
    "\n",
    "Predictin times consist of two elements:\n",
    "\n",
    "1. The entity id. This is the entity about which the prediction is issued. In medical contexts, this is frequently a patient.\n",
    "2. The timestamp at which the prediction is to be issued.\n"
   ]
  },
  {
   "cell_type": "code",
   "execution_count": null,
   "metadata": {},
   "outputs": [
    {
     "ename": "",
     "evalue": "",
     "output_type": "error",
     "traceback": [
      "\u001b[1;31mRunning cells with '.venv' requires the ipykernel package.\n",
      "\u001b[1;31mRun the following command to install 'ipykernel' into the Python environment. \n",
      "\u001b[1;31mCommand: '/Users/au554730/Desktop/Projects/timeseriesflattener/.venv/bin/python -m pip install ipykernel -U --force-reinstall'"
     ]
    }
   ],
   "source": [
    "from __future__ import annotations\n",
    "\n",
    "from skimpy import skim\n",
    "from timeseriesflattenerv2.testing.load_synth_data import load_synth_prediction_times\n",
    "\n",
    "df_prediction_times = load_synth_prediction_times()\n",
    "\n",
    "skim(df_prediction_times)\n",
    "df_prediction_times.sort([\"entity_id\"])"
   ]
  },
  {
   "attachments": {},
   "cell_type": "markdown",
   "metadata": {},
   "source": [
    "Here, \"entity_id\" represents a patient ID and “timestamp” refers to the time when we want to issue a prediction. Note that each ID can have multiple prediction times.\n"
   ]
  },
  {
   "attachments": {},
   "cell_type": "markdown",
   "metadata": {},
   "source": [
    "### Loading a temporal predictor\n",
    "\n",
    "Then, we'll load the values for our temporal predictor. Temporal predictors are predictors that can have a different value at different timepoints.\n"
   ]
  },
  {
   "cell_type": "code",
   "execution_count": null,
   "metadata": {},
   "outputs": [
    {
     "ename": "",
     "evalue": "",
     "output_type": "error",
     "traceback": [
      "\u001b[1;31mRunning cells with '.venv' requires the ipykernel package.\n",
      "\u001b[1;31mRun the following command to install 'ipykernel' into the Python environment. \n",
      "\u001b[1;31mCommand: '/Users/au554730/Desktop/Projects/timeseriesflattener/.venv/bin/python -m pip install ipykernel -U --force-reinstall'"
     ]
    }
   ],
   "source": [
    "from timeseriesflattenerv2.testing.load_synth_data import load_synth_predictor_float\n",
    "\n",
    "df_synth_predictors = load_synth_predictor_float()\n",
    "\n",
    "skim(df_synth_predictors)\n",
    "df_synth_predictors.sort([\"entity_id\"])"
   ]
  },
  {
   "attachments": {},
   "cell_type": "markdown",
   "metadata": {},
   "source": [
    "Once again, note that there can be multiple values for each ID.\n"
   ]
  },
  {
   "attachments": {},
   "cell_type": "markdown",
   "metadata": {},
   "source": [
    "### Loading a static predictor\n",
    "\n",
    "Frequently, you'll have one or more static predictors describing each entity. In this case, an entity is a patient, and an example of a static outcome could be their sex. It doesn't change over time (it's static), but can be used as a predictor for each prediction time. Let's load it in!\n"
   ]
  },
  {
   "cell_type": "code",
   "execution_count": null,
   "metadata": {},
   "outputs": [
    {
     "ename": "",
     "evalue": "",
     "output_type": "error",
     "traceback": [
      "\u001b[1;31mRunning cells with '.venv' requires the ipykernel package.\n",
      "\u001b[1;31mRun the following command to install 'ipykernel' into the Python environment. \n",
      "\u001b[1;31mCommand: '/Users/au554730/Desktop/Projects/timeseriesflattener/.venv/bin/python -m pip install ipykernel -U --force-reinstall'"
     ]
    }
   ],
   "source": [
    "from timeseriesflattenerv2.testing.load_synth_data import load_synth_sex\n",
    "\n",
    "df_synth_sex = load_synth_sex()\n",
    "\n",
    "skim(df_synth_sex)\n",
    "df_synth_sex"
   ]
  },
  {
   "attachments": {},
   "cell_type": "markdown",
   "metadata": {},
   "source": [
    "As the predictor is static, there should only be a single value for each ID in this dataframe.\n"
   ]
  },
  {
   "attachments": {},
   "cell_type": "markdown",
   "metadata": {},
   "source": [
    "### Loading a temporal outcome\n"
   ]
  },
  {
   "attachments": {},
   "cell_type": "markdown",
   "metadata": {},
   "source": [
    "And, lastly, our outcome values. We've chosen a binary outcome and only stored values for the timestamps that experience the outcome. From these, we can infer patients that do not experience the outcome, since they do not have a timestamp. We handle this by setting a fallback of 0 - more on that in the following section.\n"
   ]
  },
  {
   "cell_type": "code",
   "execution_count": null,
   "metadata": {},
   "outputs": [
    {
     "ename": "",
     "evalue": "",
     "output_type": "error",
     "traceback": [
      "\u001b[1;31mRunning cells with '.venv' requires the ipykernel package.\n",
      "\u001b[1;31mRun the following command to install 'ipykernel' into the Python environment. \n",
      "\u001b[1;31mCommand: '/Users/au554730/Desktop/Projects/timeseriesflattener/.venv/bin/python -m pip install ipykernel -U --force-reinstall'"
     ]
    }
   ],
   "source": [
    "from timeseriesflattenerv2.testing.load_synth_data import load_synth_outcome\n",
    "\n",
    "df_synth_outcome = load_synth_outcome()\n",
    "\n",
    "skim(df_synth_outcome)\n",
    "df_synth_outcome"
   ]
  },
  {
   "attachments": {},
   "cell_type": "markdown",
   "metadata": {},
   "source": [
    "This dataframe should contain at most 1 row per ID, which is the first time they experience the outcome.\n",
    "\n",
    "We now have 4 dataframes loaded: df_prediction_times, df_synth_predictors, df_synth_sex and df_synth_outcome.\n"
   ]
  },
  {
   "attachments": {},
   "cell_type": "markdown",
   "metadata": {},
   "source": [
    "## Specifying how to flatten the data\n",
    "\n",
    "We'll have to specify how to flatten predictors and outcomes. To do this, we use the feature specification objects as \"recipes\" for each column in our finished dataframe. Firstly, we'll specify the outcome specification.\n"
   ]
  },
  {
   "attachments": {},
   "cell_type": "markdown",
   "metadata": {},
   "source": [
    "### Temporal outcome specification\n"
   ]
  },
  {
   "attachments": {},
   "cell_type": "markdown",
   "metadata": {},
   "source": [
    "![](img/term_a.png)\n",
    "\n",
    "The main decision to make for outcomes is the size of the **lookahead** window. It determines how far into the future from a given prediction time to look for outcome values.\n",
    "A **prediction time** indicates at which point the model issues a prediction, and is used as a reference for the _lookahead_.\n"
   ]
  },
  {
   "attachments": {},
   "cell_type": "markdown",
   "metadata": {},
   "source": [
    "![](img/term_b.png)\n",
    "\n",
    "We want labels for prediction times to be 0 if the outcome never occurs, or if the outcome happens outside the lookahead window. Labels should only be 1 if the outcome occurs inside the lookahead window. Let's specify this in code.\n"
   ]
  },
  {
   "cell_type": "code",
   "execution_count": null,
   "metadata": {},
   "outputs": [
    {
     "ename": "",
     "evalue": "",
     "output_type": "error",
     "traceback": [
      "\u001b[1;31mRunning cells with '.venv' requires the ipykernel package.\n",
      "\u001b[1;31mRun the following command to install 'ipykernel' into the Python environment. \n",
      "\u001b[1;31mCommand: '/Users/au554730/Desktop/Projects/timeseriesflattener/.venv/bin/python -m pip install ipykernel -U --force-reinstall'"
     ]
    }
   ],
   "source": [
    "import datetime as dt\n",
    "\n",
    "import pandas as pd\n",
    "from timeseriesflattenerv2.aggregators import MaxAggregator\n",
    "from timeseriesflattenerv2.feature_specs.meta import ValueFrame\n",
    "from timeseriesflattenerv2.feature_specs.outcome import BooleanOutcomeSpec\n",
    "from timeseriesflattenerv2.feature_specs.timestamp_frame import TimestampValueFrame\n",
    "\n",
    "test_df = pd.DataFrame({\"entity_id\": [0], \"timestamp\": [pd.Timestamp(\"2020-01-01\")]})\n",
    "\n",
    "outcome_spec = BooleanOutcomeSpec(\n",
    "    init_frame=TimestampValueFrame(\n",
    "        entity_id_col_name=\"entity_id\", init_df=test_df, value_timestamp_col_name=\"timestamp\"\n",
    "    ),\n",
    "    lookahead_distances=[dt.timedelta(days=365)],\n",
    "    aggregators=[MaxAggregator()],\n",
    "    column_prefix=\"outc\",\n",
    ")"
   ]
  },
  {
   "attachments": {},
   "cell_type": "markdown",
   "metadata": {},
   "source": [
    "Since our outcome is binary, we want each prediction time to be labeled with 0 for the outcome if none is present within lookahead days. To do this, we use the fallback argument, which specifies the default value to use if none are found in `values_df` within `lookahead`. For the BooleanOutcomeSpec, this is hardcoded to 0.\n",
    "\n",
    "Your use case determines how you want to handle multiple outcome values within lookahead days. In this case, we decide that any prediction time with at least one outcome (a timestamp in the loaded outcome data with a corresponding value of 1) within the specified lookahead days is \"positive\". I.e., if there is both a 0 and a 1 within lookahead days, the prediction time should be labeled with a 1. We set `aggregators = [MaxAggregator()]` to accomplish this.\n",
    "\n",
    "Here, we specifiy that we want to look 365 days forward from the prediction time to search for outcomes. If we wanted to require a certain period of time from the prediction time before we look for outcome values, we can specify `lookahead` as an interval of (min_days, max_days) as a tuple instead.\n",
    "\n",
    "Lastly, we specify a name of the outcome which'll be used when generating its column.\n"
   ]
  },
  {
   "attachments": {},
   "cell_type": "markdown",
   "metadata": {},
   "source": [
    "### Temporal predictor specification\n"
   ]
  },
  {
   "attachments": {},
   "cell_type": "markdown",
   "metadata": {},
   "source": [
    "Specifying a predictor is almost entirely identical to specifying an outcome. The only exception is that it looks a given number of days into the past from each prediction time instead of ahead.\n"
   ]
  },
  {
   "cell_type": "code",
   "execution_count": null,
   "metadata": {},
   "outputs": [
    {
     "ename": "",
     "evalue": "",
     "output_type": "error",
     "traceback": [
      "\u001b[1;31mRunning cells with '.venv' requires the ipykernel package.\n",
      "\u001b[1;31mRun the following command to install 'ipykernel' into the Python environment. \n",
      "\u001b[1;31mCommand: '/Users/au554730/Desktop/Projects/timeseriesflattener/.venv/bin/python -m pip install ipykernel -U --force-reinstall'"
     ]
    }
   ],
   "source": [
    "import numpy as np\n",
    "from timeseriesflattenerv2.aggregators import MeanAggregator\n",
    "from timeseriesflattenerv2.feature_specs.predictor import PredictorSpec\n",
    "from timeseriesflattenerv2.feature_specs.static import StaticSpec\n",
    "\n",
    "temporal_predictor_spec = PredictorSpec(\n",
    "    value_frame=ValueFrame(\n",
    "        entity_id_col_name=\"entity_id\",\n",
    "        init_df=df_synth_predictors.rename({\"value\": \"value_1\"}),\n",
    "        value_timestamp_col_name=\"timestamp\",\n",
    "        ),\n",
    "    aggregators=[MeanAggregator()],\n",
    "    column_prefix=\"pred\",\n",
    "    fallback=np.nan,\n",
    "    lookbehind_distances=[dt.timedelta(days=730)],\n",
    ")"
   ]
  },
  {
   "attachments": {},
   "cell_type": "markdown",
   "metadata": {},
   "source": [
    "![](img/term_c.png)\n",
    "\n",
    "Values within the _lookbehind_ window are aggregated using `aggregators`, for example the mean as shown in this example, or max/min etc.\n"
   ]
  },
  {
   "cell_type": "markdown",
   "metadata": {},
   "source": [
    "Note that we rename the value column to value_1. The value column's name determines the name of the output column after aggregation. To avoid multiple output columns with the same name, all input value columns must have unique names.\n"
   ]
  },
  {
   "cell_type": "markdown",
   "metadata": {},
   "source": [
    "Temporal predictors can also be specified to look for values within a certain time range from the prediction time, similar to outcome specifications. For instance, you might want to create multiple predictors, where one looks for values within (0, 30) days, and another within (31, 182) days.\n",
    "\n",
    "This can easily be specified by passing a tuple[min_days, max_days] to the lookbehind_days parameter.\n"
   ]
  },
  {
   "cell_type": "code",
   "execution_count": null,
   "metadata": {},
   "outputs": [
    {
     "ename": "",
     "evalue": "",
     "output_type": "error",
     "traceback": [
      "\u001b[1;31mRunning cells with '.venv' requires the ipykernel package.\n",
      "\u001b[1;31mRun the following command to install 'ipykernel' into the Python environment. \n",
      "\u001b[1;31mCommand: '/Users/au554730/Desktop/Projects/timeseriesflattener/.venv/bin/python -m pip install ipykernel -U --force-reinstall'"
     ]
    }
   ],
   "source": [
    "temporal_interval_predictor_spec = PredictorSpec(\n",
    "    value_frame=ValueFrame(\n",
    "        entity_id_col_name=\"entity_id\",\n",
    "        init_df=df_synth_predictors.rename({\"value\": \"value_2\"}),\n",
    "        value_timestamp_col_name=\"timestamp\",\n",
    "    ),\n",
    "    aggregators=[MeanAggregator()],\n",
    "    column_prefix=\"pred\",\n",
    "    fallback=np.nan,\n",
    "    lookbehind_distances=[(dt.timedelta(days=10), dt.timedelta(days=365))],\n",
    ")"
   ]
  },
  {
   "attachments": {},
   "cell_type": "markdown",
   "metadata": {},
   "source": [
    "### Static predictor specification\n",
    "\n",
    "Static features should be specified using `StaticSpec` as they are handled slightly differently. As in the previous specifications, we provide a `values_df` containing the values and we set the feature name. However, now we also add a prefix. By default, `PredictorSpec` prefixes columns with “pred” and `OutcomeSpec` prefixes columns with “outc” to make filtering easy.\n",
    "As `StaticSpec` can be used for both generating predictors and outcomes, we manually set the prefix to be “pred”, as sex is used as predictor in this case.\n"
   ]
  },
  {
   "cell_type": "code",
   "execution_count": null,
   "metadata": {},
   "outputs": [
    {
     "ename": "",
     "evalue": "",
     "output_type": "error",
     "traceback": [
      "\u001b[1;31mRunning cells with '.venv' requires the ipykernel package.\n",
      "\u001b[1;31mRun the following command to install 'ipykernel' into the Python environment. \n",
      "\u001b[1;31mCommand: '/Users/au554730/Desktop/Projects/timeseriesflattener/.venv/bin/python -m pip install ipykernel -U --force-reinstall'"
     ]
    }
   ],
   "source": [
    "from timeseriesflattenerv2.feature_specs.static import StaticFrame\n",
    "\n",
    "sex_predictor_spec = StaticSpec(\n",
    "    value_frame=StaticFrame(init_df=df_synth_sex),\n",
    "    column_prefix=\"pred\",\n",
    "    fallback=np.nan,\n",
    ")\n",
    "\n",
    "df_synth_sex"
   ]
  },
  {
   "attachments": {},
   "cell_type": "markdown",
   "metadata": {},
   "source": [
    "Note that we don't need to specify which columns to aggregate. Timeseriesflattener aggregates all columns that are not `entity_id_col_name` or `value_timestamp_col_name` and uses the name(s) of the column(s) for the output."
   ]
  },
  {
   "attachments": {},
   "cell_type": "markdown",
   "metadata": {},
   "source": [
    "Now we're ready to flatten our dataset!\n"
   ]
  },
  {
   "attachments": {},
   "cell_type": "markdown",
   "metadata": {},
   "source": [
    "## Flattening\n",
    "\n",
    "Flattening is as easy as instantiating the `TimeseriesFlattener` class with the prediction times df along with dataset specific metadata and calling the `add_*` functions. `n_workers` can be set to parallelize operations across multiple cores.\n"
   ]
  },
  {
   "cell_type": "code",
   "execution_count": null,
   "metadata": {},
   "outputs": [
    {
     "ename": "",
     "evalue": "",
     "output_type": "error",
     "traceback": [
      "\u001b[1;31mRunning cells with '.venv' requires the ipykernel package.\n",
      "\u001b[1;31mRun the following command to install 'ipykernel' into the Python environment. \n",
      "\u001b[1;31mCommand: '/Users/au554730/Desktop/Projects/timeseriesflattener/.venv/bin/python -m pip install ipykernel -U --force-reinstall'"
     ]
    }
   ],
   "source": [
    "from timeseriesflattenerv2.feature_specs.prediction_times import PredictionTimeFrame\n",
    "from timeseriesflattenerv2.flattener import Flattener\n",
    "\n",
    "flattener = Flattener(\n",
    "    predictiontime_frame=PredictionTimeFrame(\n",
    "        init_df=df_prediction_times, entity_id_col_name=\"entity_id\", timestamp_col_name=\"timestamp\"\n",
    "    )\n",
    ")"
   ]
  },
  {
   "cell_type": "code",
   "execution_count": null,
   "metadata": {},
   "outputs": [
    {
     "ename": "",
     "evalue": "",
     "output_type": "error",
     "traceback": [
      "\u001b[1;31mRunning cells with '.venv' requires the ipykernel package.\n",
      "\u001b[1;31mRun the following command to install 'ipykernel' into the Python environment. \n",
      "\u001b[1;31mCommand: '/Users/au554730/Desktop/Projects/timeseriesflattener/.venv/bin/python -m pip install ipykernel -U --force-reinstall'"
     ]
    }
   ],
   "source": [
    "df = flattener.aggregate_timeseries(\n",
    "    specs=[\n",
    "        sex_predictor_spec,\n",
    "        temporal_predictor_spec,\n",
    "        temporal_interval_predictor_spec,\n",
    "        outcome_spec,\n",
    "    ]\n",
    ").df.collect()\n",
    "\n",
    "skim(df)\n",
    "\n",
    "list(df.columns)"
   ]
  },
  {
   "cell_type": "code",
   "execution_count": null,
   "metadata": {},
   "outputs": [
    {
     "ename": "",
     "evalue": "",
     "output_type": "error",
     "traceback": [
      "\u001b[1;31mRunning cells with '.venv' requires the ipykernel package.\n",
      "\u001b[1;31mRun the following command to install 'ipykernel' into the Python environment. \n",
      "\u001b[1;31mCommand: '/Users/au554730/Desktop/Projects/timeseriesflattener/.venv/bin/python -m pip install ipykernel -U --force-reinstall'"
     ]
    }
   ],
   "source": [
    "# For displayability, shorten col names\n",
    "shortened_pred = \"predX\"\n",
    "shortened_predinterval = \"predX_30_to_90\"\n",
    "shortened_outcome = \"outc_Y\"\n",
    "\n",
    "display_df = df.rename(\n",
    "    {\n",
    "        \"pred_value_1_within_0_to_730_days_mean_fallback_nan\": shortened_pred,\n",
    "        \"pred_value_2_within_10_to_365_days_mean_fallback_nan\": shortened_predinterval,\n",
    "        \"outc_value_within_0_to_365_days_max_fallback_0\": shortened_outcome,\n",
    "    }\n",
    ")\n",
    "display_df"
   ]
  },
  {
   "attachments": {},
   "cell_type": "markdown",
   "metadata": {},
   "source": [
    "And there we go! A dataframe ready for classification, containing:\n",
    "\n",
    "1. The citizen IDs\n",
    "2. Timestamps for each prediction time\n",
    "3. A unique identifier for each prediciton-time\n",
    "4. Our predictor columns, prefixed with `pred_` and\n",
    "5. Our outcome columns, prefixed with `outc_`\n"
   ]
  },
  {
   "cell_type": "markdown",
   "metadata": {},
   "source": []
  }
 ],
 "metadata": {
  "kernelspec": {
   "display_name": ".venv",
   "language": "python",
   "name": "python3"
  },
  "language_info": {
   "codemirror_mode": {
    "name": "ipython",
    "version": 3
   },
   "file_extension": ".py",
   "mimetype": "text/x-python",
   "name": "python",
   "nbconvert_exporter": "python",
   "pygments_lexer": "ipython3",
   "version": "3.9.18"
  },
  "orig_nbformat": 4,
  "vscode": {
   "interpreter": {
    "hash": "d2b49c0af2d95979144de75823f7cfbb268839811992fdd0cb17fc1bb54ce815"
   }
  }
 },
 "nbformat": 4,
 "nbformat_minor": 2
}
